{
  "metadata": {
    "kernelspec": {
      "language": "python",
      "display_name": "Python 3",
      "name": "python3"
    },
    "language_info": {
      "name": "python",
      "version": "3.11.11",
      "mimetype": "text/x-python",
      "codemirror_mode": {
        "name": "ipython",
        "version": 3
      },
      "pygments_lexer": "ipython3",
      "nbconvert_exporter": "python",
      "file_extension": ".py"
    },
    "kaggle": {
      "accelerator": "none",
      "dataSources": [
        {
          "sourceId": 2984728,
          "sourceType": "datasetVersion",
          "datasetId": 1829286
        }
      ],
      "dockerImageVersionId": 31012,
      "isInternetEnabled": false,
      "language": "python",
      "sourceType": "notebook",
      "isGpuEnabled": false
    },
    "colab": {
      "name": "breastcancer",
      "provenance": [],
      "include_colab_link": true
    }
  },
  "nbformat_minor": 0,
  "nbformat": 4,
  "cells": [
    {
      "cell_type": "markdown",
      "metadata": {
        "id": "view-in-github",
        "colab_type": "text"
      },
      "source": [
        "<a href=\"https://colab.research.google.com/github/dibya-8/Elevate-Labs-/blob/main/breastcancer.ipynb\" target=\"_parent\"><img src=\"https://colab.research.google.com/assets/colab-badge.svg\" alt=\"Open In Colab\"/></a>"
      ]
    },
    {
      "source": [
        "# IMPORTANT: RUN THIS CELL IN ORDER TO IMPORT YOUR KAGGLE DATA SOURCES,\n",
        "# THEN FEEL FREE TO DELETE THIS CELL.\n",
        "# NOTE: THIS NOTEBOOK ENVIRONMENT DIFFERS FROM KAGGLE'S PYTHON\n",
        "# ENVIRONMENT SO THERE MAY BE MISSING LIBRARIES USED BY YOUR\n",
        "# NOTEBOOK.\n",
        "import kagglehub\n",
        "yasserh_breast_cancer_dataset_path = kagglehub.dataset_download('yasserh/breast-cancer-dataset')\n",
        "\n",
        "print('Data source import complete.')\n"
      ],
      "metadata": {
        "id": "khvX5IH3zavf"
      },
      "cell_type": "code",
      "outputs": [],
      "execution_count": null
    },
    {
      "cell_type": "markdown",
      "source": [
        "#"
      ],
      "metadata": {
        "id": "QNZnr8bjzavn"
      }
    },
    {
      "cell_type": "code",
      "source": [
        "# This Python 3 environment comes with many helpful analytics libraries installed\n",
        "# It is defined by the kaggle/python Docker image: https://github.com/kaggle/docker-python\n",
        "# For example, here's several helpful packages to load\n",
        "\n",
        "import numpy as np # linear algebra\n",
        "import pandas as pd # data processing, CSV file I/O (e.g. pd.read_csv)\n",
        "\n",
        "# Input data files are available in the read-only \"../input/\" directory\n",
        "# For example, running this (by clicking run or pressing Shift+Enter) will list all files under the input directory\n",
        "\n",
        "import os\n",
        "for dirname, _, filenames in os.walk('/kaggle/input'):\n",
        "    for filename in filenames:\n",
        "        print(os.path.join(dirname, filename))\n",
        "\n",
        "# You can write up to 20GB to the current directory (/kaggle/working/) that gets preserved as output when you create a version using \"Save & Run All\"\n",
        "# You can also write temporary files to /kaggle/temp/, but they won't be saved outside of the current session"
      ],
      "metadata": {
        "_uuid": "8f2839f25d086af736a60e9eeb907d3b93b6e0e5",
        "_cell_guid": "b1076dfc-b9ad-4769-8c92-a6c4dae69d19",
        "trusted": true,
        "execution": {
          "iopub.status.busy": "2025-04-24T06:23:46.119351Z",
          "iopub.execute_input": "2025-04-24T06:23:46.119651Z",
          "iopub.status.idle": "2025-04-24T06:23:47.53643Z",
          "shell.execute_reply.started": "2025-04-24T06:23:46.119618Z",
          "shell.execute_reply": "2025-04-24T06:23:47.53545Z"
        },
        "id": "m9WLIZrpzavq"
      },
      "outputs": [],
      "execution_count": null
    },
    {
      "cell_type": "code",
      "source": [
        "# Importing Libraries\n",
        "import pandas as pd\n",
        "import numpy as np\n",
        "import matplotlib.pyplot as plt\n",
        "import seaborn as sns\n",
        "\n",
        "from sklearn.model_selection import train_test_split\n",
        "from sklearn.linear_model import LinearRegression, LogisticRegression\n",
        "from sklearn.tree import DecisionTreeRegressor, DecisionTreeClassifier\n",
        "from sklearn.metrics import mean_squared_error, r2_score, accuracy_score, classification_report, confusion_matrix\n"
      ],
      "metadata": {
        "trusted": true,
        "execution": {
          "iopub.status.busy": "2025-04-24T06:23:51.9047Z",
          "iopub.execute_input": "2025-04-24T06:23:51.905537Z",
          "iopub.status.idle": "2025-04-24T06:23:53.323566Z",
          "shell.execute_reply.started": "2025-04-24T06:23:51.905506Z",
          "shell.execute_reply": "2025-04-24T06:23:53.322843Z"
        },
        "id": "BDuffenpzavr"
      },
      "outputs": [],
      "execution_count": null
    },
    {
      "cell_type": "markdown",
      "source": [
        "load dataset"
      ],
      "metadata": {
        "id": "jNmiRFWSzavs"
      }
    },
    {
      "cell_type": "code",
      "source": [
        "# Load the dataset\n",
        "df = pd.read_csv(\"/kaggle/input/breast-cancer-dataset/breast-cancer.csv\")\n",
        "\n",
        "# Show the first few rows\n",
        "print(df.head())"
      ],
      "metadata": {
        "trusted": true,
        "execution": {
          "iopub.status.busy": "2025-04-24T06:24:30.84335Z",
          "iopub.execute_input": "2025-04-24T06:24:30.843834Z",
          "iopub.status.idle": "2025-04-24T06:24:30.890091Z",
          "shell.execute_reply.started": "2025-04-24T06:24:30.843805Z",
          "shell.execute_reply": "2025-04-24T06:24:30.889313Z"
        },
        "id": "a7w3cWNlzavt"
      },
      "outputs": [],
      "execution_count": null
    },
    {
      "cell_type": "markdown",
      "source": [
        "data cleaning"
      ],
      "metadata": {
        "id": "RApJ-nJFzavt"
      }
    },
    {
      "cell_type": "code",
      "source": [
        "# Drop unnamed column if exists\n",
        "if 'Unnamed: 32' in df.columns:\n",
        "    df = df.drop('Unnamed: 32', axis=1)\n",
        "\n",
        "# Drop ID column if not useful\n",
        "if 'id' in df.columns:\n",
        "    df = df.drop('id', axis=1)\n",
        "\n",
        "# Convert diagnosis to numeric\n",
        "df['diagnosis'] = df['diagnosis'].map({'M': 1, 'B': 0})"
      ],
      "metadata": {
        "trusted": true,
        "execution": {
          "iopub.status.busy": "2025-04-24T06:25:09.943651Z",
          "iopub.execute_input": "2025-04-24T06:25:09.943971Z",
          "iopub.status.idle": "2025-04-24T06:25:09.956156Z",
          "shell.execute_reply.started": "2025-04-24T06:25:09.943948Z",
          "shell.execute_reply": "2025-04-24T06:25:09.955165Z"
        },
        "id": "YzBWZcaDzavu"
      },
      "outputs": [],
      "execution_count": null
    },
    {
      "cell_type": "markdown",
      "source": [
        "EDA"
      ],
      "metadata": {
        "id": "KUwfNsQNzavv"
      }
    },
    {
      "cell_type": "code",
      "source": [
        "# Check for missing values\n",
        "print(df.isnull().sum())\n",
        "\n",
        "# Correlation heatmap\n",
        "plt.figure(figsize=(12, 10))\n",
        "sns.heatmap(df.corr(), cmap=\"coolwarm\", annot=False)\n",
        "plt.title(\"Correlation Heatmap\")\n",
        "plt.show()"
      ],
      "metadata": {
        "trusted": true,
        "execution": {
          "iopub.status.busy": "2025-04-24T06:26:14.506521Z",
          "iopub.execute_input": "2025-04-24T06:26:14.506876Z",
          "iopub.status.idle": "2025-04-24T06:26:15.291164Z",
          "shell.execute_reply.started": "2025-04-24T06:26:14.506851Z",
          "shell.execute_reply": "2025-04-24T06:26:15.290141Z"
        },
        "id": "9zZnV_h4zavw"
      },
      "outputs": [],
      "execution_count": null
    },
    {
      "cell_type": "markdown",
      "source": [],
      "metadata": {
        "id": "7njjplOnzavw"
      }
    },
    {
      "cell_type": "markdown",
      "source": [
        "feature engineering"
      ],
      "metadata": {
        "id": "P6aglJFxzavx"
      }
    },
    {
      "cell_type": "code",
      "source": [
        "# Split X (features) and y (target)\n",
        "X = df.drop('diagnosis', axis=1)\n",
        "y_classification = df['diagnosis']\n",
        "y_regression = df['radius_mean']  # Use radius_mean as dummy regression target"
      ],
      "metadata": {
        "trusted": true,
        "execution": {
          "iopub.status.busy": "2025-04-24T06:27:21.250346Z",
          "iopub.execute_input": "2025-04-24T06:27:21.250678Z",
          "iopub.status.idle": "2025-04-24T06:27:21.256711Z",
          "shell.execute_reply.started": "2025-04-24T06:27:21.250655Z",
          "shell.execute_reply": "2025-04-24T06:27:21.255809Z"
        },
        "id": "J7fEuf-uzavx"
      },
      "outputs": [],
      "execution_count": null
    },
    {
      "cell_type": "markdown",
      "source": [
        "train test split"
      ],
      "metadata": {
        "id": "4ttgg46ezavx"
      }
    },
    {
      "cell_type": "code",
      "source": [
        "X_train, X_test, y_train_class, y_test_class = train_test_split(X, y_classification, test_size=0.2, random_state=42)\n",
        "_, _, y_train_reg, y_test_reg = train_test_split(X, y_regression, test_size=0.2, random_state=42)"
      ],
      "metadata": {
        "trusted": true,
        "execution": {
          "iopub.status.busy": "2025-04-24T06:27:44.784894Z",
          "iopub.execute_input": "2025-04-24T06:27:44.785202Z",
          "iopub.status.idle": "2025-04-24T06:27:44.794356Z",
          "shell.execute_reply.started": "2025-04-24T06:27:44.78518Z",
          "shell.execute_reply": "2025-04-24T06:27:44.793578Z"
        },
        "id": "kBjcRYo6zavy"
      },
      "outputs": [],
      "execution_count": null
    },
    {
      "cell_type": "markdown",
      "source": [
        " Regression Models"
      ],
      "metadata": {
        "id": "Tnyf2VfEzavy"
      }
    },
    {
      "cell_type": "code",
      "source": [
        "lr = LinearRegression()\n",
        "lr.fit(X_train, y_train_reg)\n",
        "pred_lr = lr.predict(X_test)\n",
        "\n",
        "print(\"Linear Regression Metrics:\")\n",
        "print(\"MSE:\", mean_squared_error(y_test_reg, pred_lr))\n",
        "print(\"R2 Score:\", r2_score(y_test_reg, pred_lr))\n",
        "\n",
        "# Decision Tree Regressor\n",
        "dtr = DecisionTreeRegressor()\n",
        "dtr.fit(X_train, y_train_reg)\n",
        "pred_dtr = dtr.predict(X_test)\n",
        "\n",
        "print(\"\\nDecision Tree Regressor Metrics:\")\n",
        "print(\"MSE:\", mean_squared_error(y_test_reg, pred_dtr))\n",
        "print(\"R2 Score:\", r2_score(y_test_reg, pred_dtr))"
      ],
      "metadata": {
        "trusted": true,
        "execution": {
          "iopub.status.busy": "2025-04-24T06:28:07.959231Z",
          "iopub.execute_input": "2025-04-24T06:28:07.959541Z",
          "iopub.status.idle": "2025-04-24T06:28:08.015937Z",
          "shell.execute_reply.started": "2025-04-24T06:28:07.959517Z",
          "shell.execute_reply": "2025-04-24T06:28:08.01399Z"
        },
        "id": "h7OhCuu4zavz"
      },
      "outputs": [],
      "execution_count": null
    },
    {
      "cell_type": "markdown",
      "source": [
        "Classification Models"
      ],
      "metadata": {
        "id": "Tg98mimdzav0"
      }
    },
    {
      "cell_type": "code",
      "source": [
        "# Logistic Regression\n",
        "logreg = LogisticRegression(max_iter=10000)\n",
        "logreg.fit(X_train, y_train_class)\n",
        "pred_logreg = logreg.predict(X_test)\n",
        "\n",
        "print(\"\\nLogistic Regression Metrics:\")\n",
        "print(\"Accuracy:\", accuracy_score(y_test_class, pred_logreg))\n",
        "print(\"Confusion Matrix:\\n\", confusion_matrix(y_test_class, pred_logreg))\n",
        "print(\"Classification Report:\\n\", classification_report(y_test_class, pred_logreg))\n",
        "\n",
        "# Decision Tree Classifier\n",
        "dtc = DecisionTreeClassifier()\n",
        "dtc.fit(X_train, y_train_class)\n",
        "pred_dtc = dtc.predict(X_test)\n",
        "\n",
        "print(\"\\nDecision Tree Classifier Metrics:\")\n",
        "print(\"Accuracy:\", accuracy_score(y_test_class, pred_dtc))\n",
        "print(\"Confusion Matrix:\\n\", confusion_matrix(y_test_class, pred_dtc))\n",
        "print(\"Classification Report:\\n\", classification_report(y_test_class, pred_dtc))"
      ],
      "metadata": {
        "trusted": true,
        "execution": {
          "iopub.status.busy": "2025-04-24T06:28:27.744915Z",
          "iopub.execute_input": "2025-04-24T06:28:27.745239Z",
          "iopub.status.idle": "2025-04-24T06:28:39.62973Z",
          "shell.execute_reply.started": "2025-04-24T06:28:27.745212Z",
          "shell.execute_reply": "2025-04-24T06:28:39.628829Z"
        },
        "id": "yBdbiOv_zav0"
      },
      "outputs": [],
      "execution_count": null
    }
  ]
}