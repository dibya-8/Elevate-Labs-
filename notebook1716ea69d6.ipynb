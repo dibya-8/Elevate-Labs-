{
  "metadata": {
    "kernelspec": {
      "display_name": "Python 3 (ipykernel)",
      "language": "python",
      "name": "python3"
    },
    "language_info": {
      "codemirror_mode": {
        "name": "ipython",
        "version": 3
      },
      "file_extension": ".py",
      "mimetype": "text/x-python",
      "name": "python",
      "nbconvert_exporter": "python",
      "pygments_lexer": "ipython3",
      "version": "3.9.13"
    },
    "kaggle": {
      "accelerator": "none",
      "dataSources": [
        {
          "sourceId": 408,
          "sourceType": "datasetVersion",
          "datasetId": 180
        }
      ],
      "dockerImageVersionId": 31012,
      "isInternetEnabled": false,
      "language": "python",
      "sourceType": "notebook",
      "isGpuEnabled": false
    },
    "colab": {
      "name": "notebook1716ea69d6",
      "provenance": [],
      "include_colab_link": true
    }
  },
  "nbformat_minor": 0,
  "nbformat": 4,
  "cells": [
    {
      "cell_type": "markdown",
      "metadata": {
        "id": "view-in-github",
        "colab_type": "text"
      },
      "source": [
        "<a href=\"https://colab.research.google.com/github/dibya-8/Elevate-Labs-/blob/main/notebook1716ea69d6.ipynb\" target=\"_parent\"><img src=\"https://colab.research.google.com/assets/colab-badge.svg\" alt=\"Open In Colab\"/></a>"
      ]
    },
    {
      "source": [
        "# IMPORTANT: RUN THIS CELL IN ORDER TO IMPORT YOUR KAGGLE DATA SOURCES,\n",
        "# THEN FEEL FREE TO DELETE THIS CELL.\n",
        "# NOTE: THIS NOTEBOOK ENVIRONMENT DIFFERS FROM KAGGLE'S PYTHON\n",
        "# ENVIRONMENT SO THERE MAY BE MISSING LIBRARIES USED BY YOUR\n",
        "# NOTEBOOK.\n",
        "import kagglehub\n",
        "uciml_breast_cancer_wisconsin_data_path = kagglehub.dataset_download('uciml/breast-cancer-wisconsin-data')\n",
        "\n",
        "print('Data source import complete.')\n"
      ],
      "metadata": {
        "id": "3TqKMax5nXaB"
      },
      "cell_type": "code",
      "outputs": [],
      "execution_count": null
    },
    {
      "cell_type": "code",
      "source": [
        "import pandas as pd\n",
        "import numpy as np\n",
        "import matplotlib.pyplot as plt\n",
        "import seaborn as sns\n",
        "from sklearn.model_selection import train_test_split\n",
        "from sklearn.linear_model import LinearRegression\n",
        "from sklearn.linear_model import LogisticRegression\n",
        "from sklearn.metrics import accuracy_score\n",
        "from sklearn.preprocessing import MinMaxScaler, StandardScaler\n",
        "import warnings\n",
        "warnings.filterwarnings('ignore')\n",
        "from sklearn.neighbors import KNeighborsClassifier\n",
        "from sklearn.neighbors import NearestNeighbors\n",
        "from sklearn.feature_selection import SelectKBest\n",
        "from sklearn.feature_selection import chi2,f_classif"
      ],
      "metadata": {
        "id": "Ho-FiepPnXaE"
      },
      "outputs": [],
      "execution_count": null
    },
    {
      "cell_type": "code",
      "source": [
        "df=pd.read_csv(r\"C:\\Users\\lenovo\\Downloads\\Breast Cancer Wisconsin (Diagnostic) Data Set  - Breast Cancer Wisconsin (Diagnostic) Data Set .csv\")"
      ],
      "metadata": {
        "id": "ACLXqaCbnXaE"
      },
      "outputs": [],
      "execution_count": null
    },
    {
      "cell_type": "code",
      "source": [
        "df"
      ],
      "metadata": {
        "id": "Nt4dOx4LnXaF"
      },
      "outputs": [],
      "execution_count": null
    },
    {
      "cell_type": "code",
      "source": [
        "df['diagnosis'].unique()             #M khabees"
      ],
      "metadata": {
        "id": "eZPHVrDfnXaF"
      },
      "outputs": [],
      "execution_count": null
    },
    {
      "cell_type": "markdown",
      "source": [
        "malignant---> khabis\n",
        "begnin----> 7ameed"
      ],
      "metadata": {
        "id": "D-LalyytnXaF"
      }
    },
    {
      "cell_type": "code",
      "source": [
        "df.isna().sum()"
      ],
      "metadata": {
        "id": "7g6grbtHnXaH"
      },
      "outputs": [],
      "execution_count": null
    },
    {
      "cell_type": "code",
      "source": [
        "df.drop('id',axis=1,inplace=True)"
      ],
      "metadata": {
        "id": "Xm4aFrQvnXaI"
      },
      "outputs": [],
      "execution_count": null
    },
    {
      "cell_type": "code",
      "source": [
        "m_df=df[df['diagnosis']=='M']\n",
        "m_df"
      ],
      "metadata": {
        "id": "m8bVNZIjnXaJ"
      },
      "outputs": [],
      "execution_count": null
    },
    {
      "cell_type": "code",
      "source": [
        "df['diagnosis'].value_counts()"
      ],
      "metadata": {
        "id": "i1_M930bnXaK"
      },
      "outputs": [],
      "execution_count": null
    },
    {
      "cell_type": "code",
      "source": [
        "x=df.drop('diagnosis',axis=1)\n",
        "y=df['diagnosis']"
      ],
      "metadata": {
        "id": "S-NcsQEEnXaL"
      },
      "outputs": [],
      "execution_count": null
    },
    {
      "cell_type": "markdown",
      "source": [
        "stratify used to make sure that a fair split is done from each class / each class is split with the same precentage"
      ],
      "metadata": {
        "id": "xsCl-ajvnXaL"
      }
    },
    {
      "cell_type": "code",
      "source": [
        "xtrain,xtest,ytrain,ytest=train_test_split(x,y,test_size=0.2,random_state=52,stratify=y)"
      ],
      "metadata": {
        "id": "n51nPk-jnXaM"
      },
      "outputs": [],
      "execution_count": null
    },
    {
      "cell_type": "code",
      "source": [
        "xtrain.shape,xtest.shape,ytrain.shape,ytest.shape"
      ],
      "metadata": {
        "id": "E-26FhManXaM"
      },
      "outputs": [],
      "execution_count": null
    },
    {
      "cell_type": "code",
      "source": [
        "model=LogisticRegression(random_state=3,max_iter=200)     # max_iteration the num of iteration for the model"
      ],
      "metadata": {
        "id": "I_WSZqFxnXaM"
      },
      "outputs": [],
      "execution_count": null
    },
    {
      "cell_type": "code",
      "source": [
        "scaler=StandardScaler()"
      ],
      "metadata": {
        "id": "XFV3VfDUnXaN"
      },
      "outputs": [],
      "execution_count": null
    },
    {
      "cell_type": "code",
      "source": [
        "scaler.fit(xtrain)"
      ],
      "metadata": {
        "id": "bGK9MQH9nXaN"
      },
      "outputs": [],
      "execution_count": null
    },
    {
      "cell_type": "code",
      "source": [
        "xtrain_scaled=scaler.transform(xtrain)"
      ],
      "metadata": {
        "id": "UsQUT11wnXaN"
      },
      "outputs": [],
      "execution_count": null
    },
    {
      "cell_type": "code",
      "source": [
        "xtest_scaled=scaler.transform(xtest)"
      ],
      "metadata": {
        "id": "WFQ2tFG8nXaN"
      },
      "outputs": [],
      "execution_count": null
    },
    {
      "cell_type": "code",
      "source": [],
      "metadata": {
        "id": "TL3We3k-nXaO"
      },
      "outputs": [],
      "execution_count": null
    },
    {
      "cell_type": "code",
      "source": [
        "model.fit(xtrain_scaled,ytrain)"
      ],
      "metadata": {
        "id": "ArOVUJTcnXaO"
      },
      "outputs": [],
      "execution_count": null
    },
    {
      "cell_type": "code",
      "source": [
        "y_predict=model.predict(xtest_scaled)"
      ],
      "metadata": {
        "id": "FQ0K38penXaO"
      },
      "outputs": [],
      "execution_count": null
    },
    {
      "cell_type": "code",
      "source": [
        "y_predict"
      ],
      "metadata": {
        "id": "akq7JcvrnXaO"
      },
      "outputs": [],
      "execution_count": null
    },
    {
      "cell_type": "code",
      "source": [
        "comparison_df=pd.DataFrame({'y_predict':y_predict,'y_test':ytest})\n",
        "comparison_df"
      ],
      "metadata": {
        "id": "iNtBri8nnXaO"
      },
      "outputs": [],
      "execution_count": null
    },
    {
      "cell_type": "code",
      "source": [
        "accuracy_score(y_predict,ytest)"
      ],
      "metadata": {
        "id": "hxrXDOT8nXaO"
      },
      "outputs": [],
      "execution_count": null
    },
    {
      "cell_type": "markdown",
      "source": [
        "# KNN"
      ],
      "metadata": {
        "id": "bnRwNGLQnXaP"
      }
    },
    {
      "cell_type": "code",
      "source": [
        "from sklearn.metrics import accuracy_score"
      ],
      "metadata": {
        "id": "XYmxo_yHnXaP"
      },
      "outputs": [],
      "execution_count": null
    },
    {
      "cell_type": "code",
      "source": [
        "model2 = KNeighborsClassifier(n_neighbors=3)"
      ],
      "metadata": {
        "id": "q0pEnqPvnXaP"
      },
      "outputs": [],
      "execution_count": null
    },
    {
      "cell_type": "code",
      "source": [
        "model2.fit(xtrain_scaled, ytrain)"
      ],
      "metadata": {
        "id": "jee5xOarnXaP"
      },
      "outputs": [],
      "execution_count": null
    },
    {
      "cell_type": "code",
      "source": [
        "predict = model2.predict(xtest_scaled)"
      ],
      "metadata": {
        "id": "ZZGOQMFOnXaP"
      },
      "outputs": [],
      "execution_count": null
    },
    {
      "cell_type": "code",
      "source": [
        "accuracy_score(predict,ytest)"
      ],
      "metadata": {
        "id": "DgCBT0EnnXaP"
      },
      "outputs": [],
      "execution_count": null
    },
    {
      "cell_type": "code",
      "source": [
        "k=range(20)"
      ],
      "metadata": {
        "id": "n2AcIL5InXaQ"
      },
      "outputs": [],
      "execution_count": null
    },
    {
      "cell_type": "code",
      "source": [
        "accuracy_list=[]\n",
        "for i in k:\n",
        "    model2 = KNeighborsClassifier(n_neighbors=i+1)\n",
        "    model2.fit(xtrain_scaled, ytrain)\n",
        "    predict = model2.predict(xtest_scaled)\n",
        "    accuracy_list.append(accuracy_score(predict,ytest))"
      ],
      "metadata": {
        "id": "92a59sWcnXaQ"
      },
      "outputs": [],
      "execution_count": null
    },
    {
      "cell_type": "code",
      "source": [
        "plt.plot(k,accuracy_list)"
      ],
      "metadata": {
        "id": "yRHdSSBdnXaQ"
      },
      "outputs": [],
      "execution_count": null
    },
    {
      "cell_type": "code",
      "source": [
        "model2 = KNeighborsClassifier(n_neighbors=3)\n",
        "model2.fit(xtrain_scaled, ytrain)\n",
        "predict = model2.predict(xtest_scaled)\n",
        "print(accuracy_score(predict,ytest))"
      ],
      "metadata": {
        "id": "B4YHpJurnXaQ"
      },
      "outputs": [],
      "execution_count": null
    },
    {
      "cell_type": "markdown",
      "source": [
        "# SVM"
      ],
      "metadata": {
        "id": "gm-lM1eJnXaQ"
      }
    },
    {
      "cell_type": "code",
      "source": [
        "from sklearn.svm import SVC"
      ],
      "metadata": {
        "id": "2qtQ9ay3nXaR"
      },
      "outputs": [],
      "execution_count": null
    },
    {
      "cell_type": "code",
      "source": [
        "svc = SVC(gamma='scale')\n",
        "svc.fit(xtrain_scaled, ytrain)"
      ],
      "metadata": {
        "id": "fyNUvKBYnXaR"
      },
      "outputs": [],
      "execution_count": null
    },
    {
      "cell_type": "code",
      "source": [
        "y_pred_svc =svc.predict(xtest_scaled)"
      ],
      "metadata": {
        "id": "uuth7W3nnXaR"
      },
      "outputs": [],
      "execution_count": null
    },
    {
      "cell_type": "code",
      "source": [
        "predict = svc.predict(xtest_scaled)\n",
        "print(accuracy_score(predict,ytest))"
      ],
      "metadata": {
        "id": "CWhLuv9OnXaV"
      },
      "outputs": [],
      "execution_count": null
    },
    {
      "cell_type": "code",
      "source": [
        "\n"
      ],
      "metadata": {
        "id": "aptjs0HonXaV"
      },
      "outputs": [],
      "execution_count": null
    },
    {
      "cell_type": "code",
      "source": [],
      "metadata": {
        "id": "eIeZHoGKnXaW"
      },
      "outputs": [],
      "execution_count": null
    },
    {
      "cell_type": "code",
      "source": [],
      "metadata": {
        "id": "SAKGmIIBnXaW"
      },
      "outputs": [],
      "execution_count": null
    },
    {
      "cell_type": "markdown",
      "source": [
        "# grid search"
      ],
      "metadata": {
        "id": "T_3l2b6DnXaW"
      }
    },
    {
      "cell_type": "code",
      "source": [
        "from sklearn.metrics import accuracy_score, precision_score, recall_score, classification_report,f1_score\n",
        "from sklearn.metrics import confusion_matrix, ConfusionMatrixDisplay"
      ],
      "metadata": {
        "id": "efCSFei4nXaW"
      },
      "outputs": [],
      "execution_count": null
    },
    {
      "cell_type": "code",
      "source": [
        "accuracy_score(ytest,predict)"
      ],
      "metadata": {
        "id": "lOmYbR2fnXaW"
      },
      "outputs": [],
      "execution_count": null
    },
    {
      "cell_type": "code",
      "source": [
        "recall_score(ytest,predict,pos_label='B')"
      ],
      "metadata": {
        "id": "eFSf_CptnXaW"
      },
      "outputs": [],
      "execution_count": null
    },
    {
      "cell_type": "code",
      "source": [
        "precision_score(ytest,predict,pos_label='B')"
      ],
      "metadata": {
        "id": "CA_0eWtVnXaW"
      },
      "outputs": [],
      "execution_count": null
    },
    {
      "cell_type": "code",
      "source": [
        "f1_score(ytest,predict,pos_label='B')"
      ],
      "metadata": {
        "id": "1i2huQe2nXaW"
      },
      "outputs": [],
      "execution_count": null
    },
    {
      "cell_type": "code",
      "source": [
        "cm = confusion_matrix(ytest,predict)\n",
        "print(\"Confusion matrix:\\n\",cm)"
      ],
      "metadata": {
        "id": "Qhgq8ktRnXaW"
      },
      "outputs": [],
      "execution_count": null
    },
    {
      "cell_type": "code",
      "source": [
        "creport = classification_report(ytest,predict)\n",
        "print(\"Classification report:\\n\",creport)"
      ],
      "metadata": {
        "id": "FOCdAyWinXaW"
      },
      "outputs": [],
      "execution_count": null
    },
    {
      "cell_type": "code",
      "source": [
        "svc.classes_"
      ],
      "metadata": {
        "id": "VDRuPwVGnXaX"
      },
      "outputs": [],
      "execution_count": null
    },
    {
      "cell_type": "code",
      "source": [
        "cc=confusion_matrix(ytest,predict,labels=['B','M'])\n",
        "print(cc)"
      ],
      "metadata": {
        "id": "zz6k7jCWnXaX"
      },
      "outputs": [],
      "execution_count": null
    },
    {
      "cell_type": "code",
      "source": [
        "ConfusionMatrixDisplay(cc,display_labels=['B','M']).plot()"
      ],
      "metadata": {
        "id": "97nB58iKnXaX"
      },
      "outputs": [],
      "execution_count": null
    },
    {
      "cell_type": "code",
      "source": [
        "sns.heatmap(cc,annot=True,cmap='binary')      #annot display the numbers"
      ],
      "metadata": {
        "id": "YIGRHxx3nXaX"
      },
      "outputs": [],
      "execution_count": null
    },
    {
      "cell_type": "markdown",
      "source": [
        "# feature selection"
      ],
      "metadata": {
        "id": "hxJIf9ZlnXaX"
      }
    },
    {
      "cell_type": "code",
      "source": [
        "type(xtrain)"
      ],
      "metadata": {
        "id": "Aa_0NC_inXaX"
      },
      "outputs": [],
      "execution_count": null
    },
    {
      "cell_type": "code",
      "source": [
        "features=SelectKBest(score_func=chi2,k=10)\n",
        "selected_features=features.fit_transform(xtrain,ytrain)"
      ],
      "metadata": {
        "id": "IspytvuMnXaX"
      },
      "outputs": [],
      "execution_count": null
    },
    {
      "cell_type": "code",
      "source": [
        "selected_features.shape"
      ],
      "metadata": {
        "id": "GrWQf81JnXaY"
      },
      "outputs": [],
      "execution_count": null
    },
    {
      "cell_type": "code",
      "source": [
        "selected_features.shape"
      ],
      "metadata": {
        "id": "DM4iH5a1nXaY"
      },
      "outputs": [],
      "execution_count": null
    },
    {
      "cell_type": "code",
      "source": [
        "np.corrcoef(selected_features[:,0],selected_features[:,1])"
      ],
      "metadata": {
        "id": "2lGPpLeTnXaY"
      },
      "outputs": [],
      "execution_count": null
    }
  ]
}