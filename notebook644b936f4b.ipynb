{
  "metadata": {
    "kernelspec": {
      "language": "python",
      "display_name": "Python 3",
      "name": "python3"
    },
    "language_info": {
      "name": "python",
      "version": "3.11.11",
      "mimetype": "text/x-python",
      "codemirror_mode": {
        "name": "ipython",
        "version": 3
      },
      "pygments_lexer": "ipython3",
      "nbconvert_exporter": "python",
      "file_extension": ".py"
    },
    "kaggle": {
      "accelerator": "none",
      "dataSources": [
        {
          "sourceId": 420,
          "sourceType": "datasetVersion",
          "datasetId": 19
        }
      ],
      "dockerImageVersionId": 31040,
      "isInternetEnabled": false,
      "language": "python",
      "sourceType": "notebook",
      "isGpuEnabled": false
    },
    "colab": {
      "name": "notebook644b936f4b",
      "provenance": [],
      "include_colab_link": true
    }
  },
  "nbformat_minor": 0,
  "nbformat": 4,
  "cells": [
    {
      "cell_type": "markdown",
      "metadata": {
        "id": "view-in-github",
        "colab_type": "text"
      },
      "source": [
        "<a href=\"https://colab.research.google.com/github/dibya-8/Elevate-Labs-/blob/main/notebook644b936f4b.ipynb\" target=\"_parent\"><img src=\"https://colab.research.google.com/assets/colab-badge.svg\" alt=\"Open In Colab\"/></a>"
      ]
    },
    {
      "source": [
        "# IMPORTANT: RUN THIS CELL IN ORDER TO IMPORT YOUR KAGGLE DATA SOURCES,\n",
        "# THEN FEEL FREE TO DELETE THIS CELL.\n",
        "# NOTE: THIS NOTEBOOK ENVIRONMENT DIFFERS FROM KAGGLE'S PYTHON\n",
        "# ENVIRONMENT SO THERE MAY BE MISSING LIBRARIES USED BY YOUR\n",
        "# NOTEBOOK.\n",
        "import kagglehub\n",
        "uciml_iris_path = kagglehub.dataset_download('uciml/iris')\n",
        "\n",
        "print('Data source import complete.')\n"
      ],
      "metadata": {
        "id": "7km66riz3h7J"
      },
      "cell_type": "code",
      "outputs": [],
      "execution_count": null
    },
    {
      "cell_type": "code",
      "source": [
        "# This Python 3 environment comes with many helpful analytics libraries installed\n",
        "# It is defined by the kaggle/python Docker image: https://github.com/kaggle/docker-python\n",
        "# For example, here's several helpful packages to load\n",
        "\n",
        "import numpy as np # linear algebra\n",
        "import pandas as pd # data processing, CSV file I/O (e.g. pd.read_csv)\n",
        "\n",
        "# Input data files are available in the read-only \"../input/\" directory\n",
        "# For example, running this (by clicking run or pressing Shift+Enter) will list all files under the input directory\n",
        "\n",
        "import os\n",
        "for dirname, _, filenames in os.walk('/kaggle/input'):\n",
        "    for filename in filenames:\n",
        "        print(os.path.join(dirname, filename))\n",
        "\n",
        "# You can write up to 20GB to the current directory (/kaggle/working/) that gets preserved as output when you create a version using \"Save & Run All\"\n",
        "# You can also write temporary files to /kaggle/temp/, but they won't be saved outside of the current session"
      ],
      "metadata": {
        "_uuid": "8f2839f25d086af736a60e9eeb907d3b93b6e0e5",
        "_cell_guid": "b1076dfc-b9ad-4769-8c92-a6c4dae69d19",
        "trusted": true,
        "id": "3miyH4Or3h7L"
      },
      "outputs": [],
      "execution_count": null
    },
    {
      "cell_type": "code",
      "source": [
        "import kagglehub\n",
        "\n",
        "# Download latest version\n",
        "path = kagglehub.dataset_download(\"uciml/iris\")\n",
        "\n",
        "print(\"Path to dataset files:\", path)"
      ],
      "metadata": {
        "trusted": true,
        "execution": {
          "iopub.status.busy": "2025-06-06T08:57:35.42046Z",
          "iopub.execute_input": "2025-06-06T08:57:35.421131Z",
          "iopub.status.idle": "2025-06-06T08:57:36.034898Z",
          "shell.execute_reply.started": "2025-06-06T08:57:35.421101Z",
          "shell.execute_reply": "2025-06-06T08:57:36.033897Z"
        },
        "id": "a7HUMl3f3h7M"
      },
      "outputs": [],
      "execution_count": null
    },
    {
      "cell_type": "code",
      "source": [
        "# Importing libraries\n",
        "import pandas as pd\n",
        "from sklearn.model_selection import train_test_split\n",
        "from sklearn.tree import DecisionTreeClassifier\n",
        "from sklearn.metrics import accuracy_score\n"
      ],
      "metadata": {
        "trusted": true,
        "execution": {
          "iopub.status.busy": "2025-06-06T09:04:18.108705Z",
          "iopub.execute_input": "2025-06-06T09:04:18.108995Z",
          "iopub.status.idle": "2025-06-06T09:04:19.65263Z",
          "shell.execute_reply.started": "2025-06-06T09:04:18.108976Z",
          "shell.execute_reply": "2025-06-06T09:04:19.651778Z"
        },
        "id": "POtSIpQf3h7N"
      },
      "outputs": [],
      "execution_count": null
    },
    {
      "cell_type": "code",
      "source": [
        "# Load the Iris dataset from the given path\n",
        "df = pd.read_csv(\"/kaggle/input/iris/Iris.csv\")\n",
        "\n",
        "# Display the first 5 rows\n",
        "df.head()\n"
      ],
      "metadata": {
        "trusted": true,
        "execution": {
          "iopub.status.busy": "2025-06-06T09:04:19.654397Z",
          "iopub.execute_input": "2025-06-06T09:04:19.655381Z",
          "iopub.status.idle": "2025-06-06T09:04:19.715485Z",
          "shell.execute_reply.started": "2025-06-06T09:04:19.655352Z",
          "shell.execute_reply": "2025-06-06T09:04:19.714642Z"
        },
        "id": "naSiJhwf3h7N"
      },
      "outputs": [],
      "execution_count": null
    },
    {
      "cell_type": "code",
      "source": [
        "# The 'Id' column is just an index and not useful for prediction\n",
        "df = df.drop('Id', axis=1)\n"
      ],
      "metadata": {
        "trusted": true,
        "execution": {
          "iopub.status.busy": "2025-06-06T09:04:19.716399Z",
          "iopub.execute_input": "2025-06-06T09:04:19.716625Z",
          "iopub.status.idle": "2025-06-06T09:04:19.732439Z",
          "shell.execute_reply.started": "2025-06-06T09:04:19.716606Z",
          "shell.execute_reply": "2025-06-06T09:04:19.731384Z"
        },
        "id": "k-DS6MmM3h7N"
      },
      "outputs": [],
      "execution_count": null
    },
    {
      "cell_type": "code",
      "source": [
        "# Features (input data)\n",
        "X = df.drop('Species', axis=1)\n",
        "\n",
        "# Labels (target values to predict)\n",
        "y = df['Species']\n"
      ],
      "metadata": {
        "trusted": true,
        "execution": {
          "iopub.status.busy": "2025-06-06T09:04:19.734807Z",
          "iopub.execute_input": "2025-06-06T09:04:19.735047Z",
          "iopub.status.idle": "2025-06-06T09:04:19.758034Z",
          "shell.execute_reply.started": "2025-06-06T09:04:19.735029Z",
          "shell.execute_reply": "2025-06-06T09:04:19.756904Z"
        },
        "id": "6jnS7IWM3h7O"
      },
      "outputs": [],
      "execution_count": null
    },
    {
      "cell_type": "code",
      "source": [
        "# Splitting the data into 80% training and 20% testing\n",
        "X_train, X_test, y_train, y_test = train_test_split(X, y, test_size=0.2, random_state=42)\n"
      ],
      "metadata": {
        "trusted": true,
        "execution": {
          "iopub.status.busy": "2025-06-06T09:04:19.759014Z",
          "iopub.execute_input": "2025-06-06T09:04:19.759284Z",
          "iopub.status.idle": "2025-06-06T09:04:19.78085Z",
          "shell.execute_reply.started": "2025-06-06T09:04:19.759262Z",
          "shell.execute_reply": "2025-06-06T09:04:19.779856Z"
        },
        "id": "uuQQpXsy3h7O"
      },
      "outputs": [],
      "execution_count": null
    },
    {
      "cell_type": "code",
      "source": [
        "# Create the model\n",
        "model = DecisionTreeClassifier()\n",
        "\n",
        "# Train the model on the training data\n",
        "model.fit(X_train, y_train)\n"
      ],
      "metadata": {
        "trusted": true,
        "execution": {
          "iopub.status.busy": "2025-06-06T09:04:19.781697Z",
          "iopub.execute_input": "2025-06-06T09:04:19.781969Z",
          "iopub.status.idle": "2025-06-06T09:04:19.812686Z",
          "shell.execute_reply.started": "2025-06-06T09:04:19.781948Z",
          "shell.execute_reply": "2025-06-06T09:04:19.811654Z"
        },
        "id": "WVebCIEE3h7O"
      },
      "outputs": [],
      "execution_count": null
    },
    {
      "cell_type": "code",
      "source": [
        "# Predict the labels for the test set\n",
        "y_pred = model.predict(X_test)\n"
      ],
      "metadata": {
        "trusted": true,
        "execution": {
          "iopub.status.busy": "2025-06-06T09:04:19.81377Z",
          "iopub.execute_input": "2025-06-06T09:04:19.814058Z",
          "iopub.status.idle": "2025-06-06T09:04:19.830891Z",
          "shell.execute_reply.started": "2025-06-06T09:04:19.814024Z",
          "shell.execute_reply": "2025-06-06T09:04:19.829932Z"
        },
        "id": "rKJ0Og8g3h7P"
      },
      "outputs": [],
      "execution_count": null
    },
    {
      "cell_type": "code",
      "source": [
        "# Calculate and print the accuracy of the model\n",
        "accuracy = accuracy_score(y_test, y_pred)\n",
        "print(\"Model Accuracy:\", accuracy)\n"
      ],
      "metadata": {
        "trusted": true,
        "execution": {
          "iopub.status.busy": "2025-06-06T09:04:19.831892Z",
          "iopub.execute_input": "2025-06-06T09:04:19.832203Z",
          "iopub.status.idle": "2025-06-06T09:04:19.854928Z",
          "shell.execute_reply.started": "2025-06-06T09:04:19.832175Z",
          "shell.execute_reply": "2025-06-06T09:04:19.853622Z"
        },
        "id": "I7gzQE8b3h7P"
      },
      "outputs": [],
      "execution_count": null
    }
  ]
}