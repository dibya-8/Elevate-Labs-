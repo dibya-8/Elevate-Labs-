{
  "metadata": {
    "kernelspec": {
      "language": "python",
      "display_name": "Python 3",
      "name": "python3"
    },
    "language_info": {
      "pygments_lexer": "ipython3",
      "nbconvert_exporter": "python",
      "version": "3.6.4",
      "file_extension": ".py",
      "codemirror_mode": {
        "name": "ipython",
        "version": 3
      },
      "name": "python",
      "mimetype": "text/x-python"
    },
    "colab": {
      "name": "Plant Disease Detection 🍃",
      "provenance": [],
      "include_colab_link": true
    }
  },
  "nbformat_minor": 0,
  "nbformat": 4,
  "cells": [
    {
      "cell_type": "markdown",
      "metadata": {
        "id": "view-in-github",
        "colab_type": "text"
      },
      "source": [
        "<a href=\"https://colab.research.google.com/github/dibya-8/Elevate-Labs-/blob/main/Plant_Disease_Detection_%F0%9F%8D%83.ipynb\" target=\"_parent\"><img src=\"https://colab.research.google.com/assets/colab-badge.svg\" alt=\"Open In Colab\"/></a>"
      ]
    },
    {
      "source": [
        "# IMPORTANT: RUN THIS CELL IN ORDER TO IMPORT YOUR KAGGLE DATA SOURCES,\n",
        "# THEN FEEL FREE TO DELETE THIS CELL.\n",
        "# NOTE: THIS NOTEBOOK ENVIRONMENT DIFFERS FROM KAGGLE'S PYTHON\n",
        "# ENVIRONMENT SO THERE MAY BE MISSING LIBRARIES USED BY YOUR\n",
        "# NOTEBOOK.\n",
        "import kagglehub\n",
        "abdallahalidev_plantvillage_dataset_path = kagglehub.dataset_download('abdallahalidev/plantvillage-dataset')\n",
        "\n",
        "print('Data source import complete.')\n"
      ],
      "metadata": {
        "id": "9yX6rGyDflTJ"
      },
      "cell_type": "code",
      "outputs": [],
      "execution_count": null
    },
    {
      "cell_type": "markdown",
      "source": [
        "<a id='top'></a>\n",
        "<div class=\"list-group\" id=\"list-tab\" role=\"tablist\">\n",
        "<p style=\"background-color:#25940A ;font-family:newtimeroman;color:white;font-size:300%;text-align:center;border-radius:60px 1px;\">  Plant Disease Detection  </p>"
      ],
      "metadata": {
        "id": "_m4K_aOeflTJ"
      }
    },
    {
      "cell_type": "markdown",
      "source": [
        "<div style=\"width:100%;text-align: center; background-color:#white;\"> <img align=middle src=\"https://static.standard.co.uk/2021/07/26/17/Flowerbox-houseplants-collectionjpg?width=1200&auto=webp&quality=75\" alt=\"Decision Tree\" >"
      ],
      "metadata": {
        "execution": {
          "iopub.status.busy": "2023-10-28T17:05:13.565985Z",
          "iopub.execute_input": "2023-10-28T17:05:13.566398Z",
          "iopub.status.idle": "2023-10-28T17:05:13.579903Z",
          "shell.execute_reply.started": "2023-10-28T17:05:13.566364Z",
          "shell.execute_reply": "2023-10-28T17:05:13.578663Z"
        },
        "id": "Zl3f_y7KflTJ"
      }
    },
    {
      "cell_type": "markdown",
      "source": [
        "\n",
        "<div style=\"color:white;\n",
        "           display:fill;\n",
        "           border-radius:5px;\n",
        "           background-color:#234D18;\n",
        "           font-size:200%;\n",
        "           font-family:Serif;\n",
        "           letter-spacing:0.5px\">\n",
        "\n",
        "<p style=\"padding: 10px;\n",
        "          color:white;\n",
        "          font-size:120%;\n",
        "          text-align:center;\">\n",
        "Import libraries\n",
        "</p>\n",
        "</div>"
      ],
      "metadata": {
        "id": "ae2TvL-M0LKb"
      }
    },
    {
      "cell_type": "code",
      "source": [
        "import numpy as np\n",
        "import matplotlib.pyplot as plt\n",
        "import cv2\n",
        "\n",
        "import tensorflow as tf\n",
        "from tensorflow import keras\n"
      ],
      "metadata": {
        "id": "bYWb1UN6sqmv",
        "execution": {
          "iopub.status.busy": "2023-10-28T17:27:44.99499Z",
          "iopub.execute_input": "2023-10-28T17:27:44.996043Z",
          "iopub.status.idle": "2023-10-28T17:27:55.445584Z",
          "shell.execute_reply.started": "2023-10-28T17:27:44.996006Z",
          "shell.execute_reply": "2023-10-28T17:27:55.444772Z"
        },
        "trusted": true
      },
      "execution_count": null,
      "outputs": []
    },
    {
      "cell_type": "markdown",
      "source": [
        "<div style=\"color:white;\n",
        "           display:fill;\n",
        "           border-radius:5px;\n",
        "           background-color:#234D18;\n",
        "           font-size:200%;\n",
        "           font-family:Serif;\n",
        "           letter-spacing:0.5px\">\n",
        "\n",
        "<p style=\"padding: 10px;\n",
        "          color:white;\n",
        "          font-size:120%;\n",
        "          text-align:center;\">\n",
        "Read The Data\n",
        "</p>\n",
        "</div>"
      ],
      "metadata": {
        "id": "le9uAjOD0Dyn"
      }
    },
    {
      "cell_type": "code",
      "source": [
        "path = '../input/plantvillage-dataset/color'\n",
        "train_ds , test_ds = keras.utils.image_dataset_from_directory(\n",
        "    path ,\n",
        "    image_size=(224,224),\n",
        "    batch_size=32 ,\n",
        "    seed = 123 ,\n",
        "    validation_split=.2,\n",
        "    subset='both'\n",
        ")\n"
      ],
      "metadata": {
        "id": "o1_5m8oKtfdr",
        "execution": {
          "iopub.status.busy": "2023-10-28T17:27:55.447197Z",
          "iopub.execute_input": "2023-10-28T17:27:55.447711Z",
          "iopub.status.idle": "2023-10-28T17:28:32.413132Z",
          "shell.execute_reply.started": "2023-10-28T17:27:55.447684Z",
          "shell.execute_reply": "2023-10-28T17:28:32.41225Z"
        },
        "trusted": true
      },
      "execution_count": null,
      "outputs": []
    },
    {
      "cell_type": "code",
      "source": [
        "classes = train_ds.class_names\n",
        "classes"
      ],
      "metadata": {
        "id": "XxAu9N1BJYx5",
        "execution": {
          "iopub.status.busy": "2023-10-28T17:28:32.414272Z",
          "iopub.execute_input": "2023-10-28T17:28:32.414663Z",
          "iopub.status.idle": "2023-10-28T17:28:32.422153Z",
          "shell.execute_reply.started": "2023-10-28T17:28:32.414629Z",
          "shell.execute_reply": "2023-10-28T17:28:32.421145Z"
        },
        "trusted": true
      },
      "execution_count": null,
      "outputs": []
    },
    {
      "cell_type": "markdown",
      "source": [
        "<div style=\"color:white;\n",
        "           display:fill;\n",
        "           border-radius:5px;\n",
        "           background-color:#234D18;\n",
        "           font-size:200%;\n",
        "           font-family:Serif;\n",
        "           letter-spacing:0.5px\">\n",
        "\n",
        "<p style=\"padding: 10px;\n",
        "          color:white;\n",
        "          font-size:120%;\n",
        "          text-align:center;\">\n",
        " Visualize Some Images\n",
        "</p>\n",
        "</div>"
      ],
      "metadata": {
        "id": "PoRiJvZ80S_4"
      }
    },
    {
      "cell_type": "code",
      "source": [
        "image = cv2.imread(\"../input/plantvillage-dataset/color/Apple___Apple_scab/01f3deaa-6143-4b6c-9c22-620a46d8be04___FREC_Scab 3112.JPG\")\n",
        "plt.figure(figsize = (6,6))\n",
        "plt.imshow(image)\n",
        "plt.title('Apple scab',size =18 )\n",
        "plt.axis('off')\n",
        "plt.show()"
      ],
      "metadata": {
        "id": "JbTwSo3MwakU",
        "execution": {
          "iopub.status.busy": "2023-10-28T17:30:44.946806Z",
          "iopub.execute_input": "2023-10-28T17:30:44.94768Z",
          "iopub.status.idle": "2023-10-28T17:30:45.215725Z",
          "shell.execute_reply.started": "2023-10-28T17:30:44.947647Z",
          "shell.execute_reply": "2023-10-28T17:30:45.214777Z"
        },
        "trusted": true
      },
      "execution_count": null,
      "outputs": []
    },
    {
      "cell_type": "markdown",
      "source": [
        "----------------------------------"
      ],
      "metadata": {
        "id": "jvyKLGhh5g8d"
      }
    },
    {
      "cell_type": "code",
      "source": [
        "image = cv2.imread(\"../input/plantvillage-dataset/color/Peach___Bacterial_spot/00e6ad4a-5a62-48d7-ac68-9c0b8ec87f5f___Rut._Bact.S 1472.JPG\")\n",
        "plt.figure(figsize = (6,6))\n",
        "plt.imshow(image)\n",
        "plt.title('Peach Bacterial spot',size =18 )\n",
        "plt.axis('off')\n",
        "plt.show()"
      ],
      "metadata": {
        "id": "QZq--IqN1d4N",
        "execution": {
          "iopub.status.busy": "2023-10-28T17:30:45.217894Z",
          "iopub.execute_input": "2023-10-28T17:30:45.218484Z",
          "iopub.status.idle": "2023-10-28T17:30:45.519791Z",
          "shell.execute_reply.started": "2023-10-28T17:30:45.218447Z",
          "shell.execute_reply": "2023-10-28T17:30:45.518918Z"
        },
        "trusted": true
      },
      "execution_count": null,
      "outputs": []
    },
    {
      "cell_type": "markdown",
      "source": [
        "-----------------------------"
      ],
      "metadata": {
        "id": "M2mJ2Mh57l5S"
      }
    },
    {
      "cell_type": "code",
      "source": [
        "image = cv2.imread(\"../input/plantvillage-dataset/color/Tomato___Septoria_leaf_spot/015c2613-fb1c-4f31-88f1-c7e5be9ddc97___JR_Sept.L.S 8431.JPG\")\n",
        "plt.figure(figsize = (6,6))\n",
        "plt.imshow(image)\n",
        "plt.title('Tomato Septoria leaf spot',size =18 )\n",
        "plt.axis('off')\n",
        "plt.show()"
      ],
      "metadata": {
        "id": "jvsR4EJL7YJX",
        "execution": {
          "iopub.status.busy": "2023-10-28T17:30:45.52087Z",
          "iopub.execute_input": "2023-10-28T17:30:45.521139Z",
          "iopub.status.idle": "2023-10-28T17:30:45.828365Z",
          "shell.execute_reply.started": "2023-10-28T17:30:45.521113Z",
          "shell.execute_reply": "2023-10-28T17:30:45.827422Z"
        },
        "trusted": true
      },
      "execution_count": null,
      "outputs": []
    },
    {
      "cell_type": "markdown",
      "source": [
        "----------------------------------------\n",
        "<div style=\"color:white;\n",
        "           display:fill;\n",
        "           border-radius:5px;\n",
        "           background-color:#234D18;\n",
        "           font-size:200%;\n",
        "           font-family:Serif;\n",
        "           letter-spacing:0.5px\">\n",
        "\n",
        "<p style=\"padding: 10px;\n",
        "          color:white;\n",
        "          font-size:120%;\n",
        "          text-align:center;\">\n",
        "Build Neural network [CNN]\n",
        "</p>\n",
        "</div>"
      ],
      "metadata": {
        "id": "wxQzLoYM780X"
      }
    },
    {
      "cell_type": "code",
      "source": [
        "\n",
        "model = keras.Sequential([\n",
        "    keras.layers.Rescaling(scale = 1/255 , input_shape =(224,224,3) ) ,\n",
        "\n",
        "    keras.layers.Conv2D(32 , (3,3) , activation = 'relu'),\n",
        "    keras.layers.MaxPool2D((2,2))                     ,\n",
        "    keras.layers.Dropout(0.2),\n",
        "\n",
        "    keras.layers.Conv2D(64 , (3,3) , activation = 'relu') ,\n",
        "    keras.layers.MaxPool2D((2,2)) ,\n",
        "    keras.layers.Dropout(0.2),\n",
        "\n",
        "    keras.layers.Conv2D(64 , (3,3) , activation = 'relu') ,\n",
        "    keras.layers.MaxPool2D((2,2)) ,\n",
        "    keras.layers.Dropout(0.2),\n",
        "\n",
        "    keras.layers.Conv2D(64 , (3,3) , activation = 'relu') ,\n",
        "    keras.layers.MaxPool2D((2,2)) ,\n",
        "    keras.layers.Dropout(0.2),\n",
        "\n",
        "    keras.layers.Conv2D(128 , (3,3) , activation = 'relu') ,\n",
        "    keras.layers.MaxPool2D((2,2)) ,\n",
        "\n",
        "    # fully connected layers\n",
        "\n",
        "    keras.layers.Flatten(),\n",
        "    keras.layers.Dense(128,activation = 'relu'),\n",
        "    keras.layers.Dense(64,activation = 'relu'),\n",
        "    keras.layers.Dense(38,activation ='sigmoid')\n",
        "\n",
        "])"
      ],
      "metadata": {
        "id": "mWDyIIim759m",
        "execution": {
          "iopub.status.busy": "2023-10-28T17:31:14.11431Z",
          "iopub.execute_input": "2023-10-28T17:31:14.115202Z",
          "iopub.status.idle": "2023-10-28T17:31:14.319143Z",
          "shell.execute_reply.started": "2023-10-28T17:31:14.115167Z",
          "shell.execute_reply": "2023-10-28T17:31:14.318327Z"
        },
        "trusted": true
      },
      "execution_count": null,
      "outputs": []
    },
    {
      "cell_type": "code",
      "source": [
        "model.compile(\n",
        "    optimizer = 'adam' ,\n",
        "    loss = 'sparse_categorical_crossentropy',\n",
        "    metrics = 'accuracy'\n",
        ")"
      ],
      "metadata": {
        "id": "WTYsb0uk_qCW",
        "execution": {
          "iopub.status.busy": "2023-10-28T17:31:14.320796Z",
          "iopub.execute_input": "2023-10-28T17:31:14.321093Z",
          "iopub.status.idle": "2023-10-28T17:31:14.336677Z",
          "shell.execute_reply.started": "2023-10-28T17:31:14.321068Z",
          "shell.execute_reply": "2023-10-28T17:31:14.33565Z"
        },
        "trusted": true
      },
      "execution_count": null,
      "outputs": []
    },
    {
      "cell_type": "code",
      "source": [
        "model.summary()"
      ],
      "metadata": {
        "id": "je77DVU5yqNf",
        "execution": {
          "iopub.status.busy": "2023-10-28T17:31:14.337747Z",
          "iopub.execute_input": "2023-10-28T17:31:14.338017Z",
          "iopub.status.idle": "2023-10-28T17:31:14.385179Z",
          "shell.execute_reply.started": "2023-10-28T17:31:14.337993Z",
          "shell.execute_reply": "2023-10-28T17:31:14.383514Z"
        },
        "trusted": true
      },
      "execution_count": null,
      "outputs": []
    },
    {
      "cell_type": "markdown",
      "source": [
        "-------------------------------\n",
        "<div style=\"color:white;\n",
        "           display:fill;\n",
        "           border-radius:5px;\n",
        "           background-color:#234D18;\n",
        "           font-size:200%;\n",
        "           font-family:Serif;\n",
        "           letter-spacing:0.5px\">\n",
        "\n",
        "<p style=\"padding: 10px;\n",
        "          color:white;\n",
        "          font-size:120%;\n",
        "          text-align:center;\">\n",
        "Train Our Model\n",
        "</p>\n",
        "</div>"
      ],
      "metadata": {
        "id": "63_-eNoeflTK"
      }
    },
    {
      "cell_type": "code",
      "source": [
        "history = model.fit(train_ds , epochs = 20)"
      ],
      "metadata": {
        "id": "Hbdz2Ql2AWvW",
        "execution": {
          "iopub.status.busy": "2023-10-28T17:31:14.389635Z",
          "iopub.execute_input": "2023-10-28T17:31:14.389887Z",
          "iopub.status.idle": "2023-10-28T18:05:19.628213Z",
          "shell.execute_reply.started": "2023-10-28T17:31:14.389865Z",
          "shell.execute_reply": "2023-10-28T18:05:19.627431Z"
        },
        "trusted": true
      },
      "execution_count": null,
      "outputs": []
    },
    {
      "cell_type": "code",
      "source": [
        "accuracy = history.history['accuracy']\n",
        "loss = history.history['loss']\n",
        "epochs = range(1,21)\n",
        "\n",
        "plt.plot(epochs , accuracy , label = 'Acuuracy')\n",
        "plt.plot(epochs , loss , label = 'loss')\n",
        "plt.legend()\n",
        "plt.show()"
      ],
      "metadata": {
        "id": "eVjBq-t39sKN",
        "execution": {
          "iopub.status.busy": "2023-10-28T18:05:19.629826Z",
          "iopub.execute_input": "2023-10-28T18:05:19.630148Z",
          "iopub.status.idle": "2023-10-28T18:05:19.918397Z",
          "shell.execute_reply.started": "2023-10-28T18:05:19.630122Z",
          "shell.execute_reply": "2023-10-28T18:05:19.917468Z"
        },
        "trusted": true
      },
      "execution_count": null,
      "outputs": []
    },
    {
      "cell_type": "code",
      "source": [
        "model.evaluate(test_ds)"
      ],
      "metadata": {
        "id": "CIv4ni9lAgun",
        "execution": {
          "iopub.status.busy": "2023-10-28T18:05:19.926871Z",
          "iopub.execute_input": "2023-10-28T18:05:19.927387Z",
          "iopub.status.idle": "2023-10-28T18:05:41.999172Z",
          "shell.execute_reply.started": "2023-10-28T18:05:19.92736Z",
          "shell.execute_reply": "2023-10-28T18:05:41.998123Z"
        },
        "trusted": true
      },
      "execution_count": null,
      "outputs": []
    },
    {
      "cell_type": "markdown",
      "source": [
        "------------------------------------------\n",
        "<div style=\"color:white;\n",
        "           display:fill;\n",
        "           border-radius:5px;\n",
        "           background-color:#234D18;\n",
        "           font-size:200%;\n",
        "           font-family:Serif;\n",
        "           letter-spacing:0.5px\">\n",
        "\n",
        "<p style=\"padding: 10px;\n",
        "          color:white;\n",
        "          font-size:120%;\n",
        "          text-align:center;\">\n",
        "Test model predictions\n",
        "</p>\n",
        "</div>"
      ],
      "metadata": {
        "id": "k18aXZvhbr6t"
      }
    },
    {
      "cell_type": "code",
      "source": [
        "def img_to_pred(image):\n",
        "  image = image.numpy()\n",
        "  image = tf.expand_dims(image,0)\n",
        "  return image"
      ],
      "metadata": {
        "id": "fv0r6C0-HiqS",
        "execution": {
          "iopub.status.busy": "2023-10-28T18:05:42.000735Z",
          "iopub.execute_input": "2023-10-28T18:05:42.001472Z",
          "iopub.status.idle": "2023-10-28T18:05:42.006541Z",
          "shell.execute_reply.started": "2023-10-28T18:05:42.001395Z",
          "shell.execute_reply": "2023-10-28T18:05:42.00564Z"
        },
        "trusted": true
      },
      "execution_count": null,
      "outputs": []
    },
    {
      "cell_type": "code",
      "source": [
        "plt.figure(figsize=(18,18))\n",
        "for images, labels in test_ds.take(1) : # take the first patch\n",
        "  for i in range(1,10):\n",
        "    plt.subplot(3,3,i)\n",
        "    plt.imshow(images[i].numpy().astype('uint32'))\n",
        "    plt.axis('off')\n",
        "    actual = classes[labels[i]]\n",
        "    predict =classes[np.argmax( model.predict(img_to_pred(images[i])))]\n",
        "    plt.title(f\"actual : {actual}  \\n predicted : {predict} \")"
      ],
      "metadata": {
        "id": "xALcpafMby8r",
        "execution": {
          "iopub.status.busy": "2023-10-28T18:05:42.00757Z",
          "iopub.execute_input": "2023-10-28T18:05:42.007876Z",
          "iopub.status.idle": "2023-10-28T18:05:45.322293Z",
          "shell.execute_reply.started": "2023-10-28T18:05:42.007852Z",
          "shell.execute_reply": "2023-10-28T18:05:45.320668Z"
        },
        "trusted": true
      },
      "execution_count": null,
      "outputs": []
    },
    {
      "cell_type": "markdown",
      "source": [
        "--------------------------\n",
        "<p style=\"padding: 10px;\n",
        "          color:#25940A ;\n",
        "          font-size:240%;\n",
        "          font-family:Serif;\n",
        "          text-align:center;\">   \n",
        "Thanks For Reading !\n",
        "</p>"
      ],
      "metadata": {
        "id": "BCwk8OG7u1i8"
      }
    },
    {
      "cell_type": "code",
      "source": [],
      "metadata": {
        "id": "4BQmoSMgxilo"
      },
      "execution_count": null,
      "outputs": []
    }
  ]
}