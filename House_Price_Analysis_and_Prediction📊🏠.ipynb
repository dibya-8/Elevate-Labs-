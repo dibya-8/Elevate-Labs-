{
  "metadata": {
    "kaggle": {
      "accelerator": "none",
      "dataSources": [
        {
          "sourceId": 6092787,
          "sourceType": "datasetVersion",
          "datasetId": 3489360
        },
        {
          "sourceId": 7858346,
          "sourceType": "datasetVersion",
          "datasetId": 4609427
        }
      ],
      "dockerImageVersionId": 30664,
      "isInternetEnabled": true,
      "language": "python",
      "sourceType": "notebook",
      "isGpuEnabled": false
    },
    "kernelspec": {
      "display_name": "Python 3",
      "language": "python",
      "name": "python3"
    },
    "language_info": {
      "codemirror_mode": {
        "name": "ipython",
        "version": 3
      },
      "file_extension": ".py",
      "mimetype": "text/x-python",
      "name": "python",
      "nbconvert_exporter": "python",
      "pygments_lexer": "ipython3",
      "version": "3.10.13"
    },
    "papermill": {
      "default_parameters": {},
      "duration": 104.693045,
      "end_time": "2024-03-14T14:34:00.127362",
      "environment_variables": {},
      "exception": null,
      "input_path": "__notebook__.ipynb",
      "output_path": "__notebook__.ipynb",
      "parameters": {},
      "start_time": "2024-03-14T14:32:15.434317",
      "version": "2.5.0"
    },
    "colab": {
      "name": "House Price Analysis and Prediction📊🏠 ",
      "provenance": [],
      "include_colab_link": true
    }
  },
  "nbformat_minor": 0,
  "nbformat": 4,
  "cells": [
    {
      "cell_type": "markdown",
      "metadata": {
        "id": "view-in-github",
        "colab_type": "text"
      },
      "source": [
        "<a href=\"https://colab.research.google.com/github/dibya-8/Elevate-Labs-/blob/main/House_Price_Analysis_and_Prediction%F0%9F%93%8A%F0%9F%8F%A0.ipynb\" target=\"_parent\"><img src=\"https://colab.research.google.com/assets/colab-badge.svg\" alt=\"Open In Colab\"/></a>"
      ]
    },
    {
      "source": [
        "# IMPORTANT: RUN THIS CELL IN ORDER TO IMPORT YOUR KAGGLE DATA SOURCES,\n",
        "# THEN FEEL FREE TO DELETE THIS CELL.\n",
        "# NOTE: THIS NOTEBOOK ENVIRONMENT DIFFERS FROM KAGGLE'S PYTHON\n",
        "# ENVIRONMENT SO THERE MAY BE MISSING LIBRARIES USED BY YOUR\n",
        "# NOTEBOOK.\n",
        "import kagglehub\n",
        "harishkumardatalab_housing_price_prediction_path = kagglehub.dataset_download('harishkumardatalab/housing-price-prediction')\n",
        "muzammilbaloch_pricehouse_path = kagglehub.dataset_download('muzammilbaloch/pricehouse')\n",
        "\n",
        "print('Data source import complete.')\n"
      ],
      "metadata": {
        "id": "bKkYzNCtto_q"
      },
      "cell_type": "code",
      "outputs": [],
      "execution_count": null
    },
    {
      "cell_type": "code",
      "source": [
        "pip install --progress-bar off --upgrade --quiet pycaret[full]"
      ],
      "metadata": {
        "_uuid": "92b5231d-4f4b-4d29-8864-94187b200355",
        "_cell_guid": "f7ad94f2-121f-45ba-b4eb-9289a7e1be6f",
        "_kg_hide-input": true,
        "_kg_hide-output": true,
        "papermill": {
          "duration": 8.87717,
          "end_time": "2024-03-14T14:32:26.938095",
          "exception": false,
          "start_time": "2024-03-14T14:32:18.060925",
          "status": "completed"
        },
        "tags": [],
        "jupyter": {
          "source_hidden": true,
          "outputs_hidden": true
        },
        "execution": {
          "iopub.status.busy": "2024-03-16T09:17:09.972541Z",
          "iopub.execute_input": "2024-03-16T09:17:09.972957Z",
          "iopub.status.idle": "2024-03-16T09:17:17.654816Z",
          "shell.execute_reply.started": "2024-03-16T09:17:09.972917Z",
          "shell.execute_reply": "2024-03-16T09:17:17.653436Z"
        },
        "collapsed": true,
        "trusted": true,
        "id": "wYKZDiTCto_t"
      },
      "execution_count": null,
      "outputs": []
    },
    {
      "cell_type": "code",
      "source": [
        "!pip install --quiet pycaret"
      ],
      "metadata": {
        "_uuid": "d59f2f4e-2935-44aa-923c-d700b555c483",
        "_cell_guid": "f3e57fb2-14fc-4b41-9e52-295c9067a76b",
        "papermill": {
          "duration": 43.310789,
          "end_time": "2024-03-14T14:33:10.256777",
          "exception": false,
          "start_time": "2024-03-14T14:32:26.945988",
          "status": "completed"
        },
        "tags": [],
        "jupyter": {
          "outputs_hidden": false
        },
        "execution": {
          "iopub.status.busy": "2024-03-16T09:17:17.657513Z",
          "iopub.execute_input": "2024-03-16T09:17:17.657911Z",
          "iopub.status.idle": "2024-03-16T09:18:06.8953Z",
          "shell.execute_reply.started": "2024-03-16T09:17:17.657875Z",
          "shell.execute_reply": "2024-03-16T09:18:06.89416Z"
        },
        "trusted": true,
        "id": "RU-3mNuito_t"
      },
      "execution_count": null,
      "outputs": []
    },
    {
      "cell_type": "code",
      "source": [
        "%matplotlib inline\n",
        "%config InlineBackend.figure_format='retina'\n",
        "\n",
        "import json\n",
        "\n",
        "import matplotlib.pyplot as plt\n",
        "\n",
        "import numpy as np\n",
        "import pandas as pd\n",
        "pd.set_option('display.max_columns', None)\n",
        "\n",
        "from pycaret.regression import *\n",
        "import ast\n",
        "import plotly.graph_objs as go\n",
        "from plotly.subplots import make_subplots\n",
        "import plotly.express as px\n",
        "import seaborn as sns"
      ],
      "metadata": {
        "_uuid": "a7c13d4e-aa10-40f2-8935-0f52d4ab6c7f",
        "_cell_guid": "9b07505a-4e39-477d-976e-06b440eac1a5",
        "jupyter": {
          "outputs_hidden": false
        },
        "papermill": {
          "duration": 6.350219,
          "end_time": "2024-03-14T14:33:16.617557",
          "exception": false,
          "start_time": "2024-03-14T14:33:10.267338",
          "status": "completed"
        },
        "tags": [],
        "execution": {
          "iopub.status.busy": "2024-03-16T09:18:06.896942Z",
          "iopub.execute_input": "2024-03-16T09:18:06.897751Z",
          "iopub.status.idle": "2024-03-16T09:18:12.628625Z",
          "shell.execute_reply.started": "2024-03-16T09:18:06.897388Z",
          "shell.execute_reply": "2024-03-16T09:18:12.627331Z"
        },
        "trusted": true,
        "id": "-HpFv2fdto_t"
      },
      "execution_count": null,
      "outputs": []
    },
    {
      "cell_type": "markdown",
      "source": [
        "<a id=\"3\"></a>\n",
        "<div style=\"font-family: 'Courier New', Courier, monospace; font-weight: bold; letter-spacing: 1px; color: #1976D2; font-size: 140%; text-align: left; padding: 10px; background: #BBDEFB; border-bottom: 8px solid #0D47A1;\">\n",
        "    Assessing Data ....\n",
        "</div>"
      ],
      "metadata": {
        "_uuid": "376bb345-918a-45f2-ad11-0d4afc728dd7",
        "_cell_guid": "650f0cbe-ac54-4605-90e5-aaa20e2c61a4",
        "papermill": {
          "duration": 0.008278,
          "end_time": "2024-03-14T14:33:16.63438",
          "exception": false,
          "start_time": "2024-03-14T14:33:16.626102",
          "status": "completed"
        },
        "tags": [],
        "trusted": true,
        "id": "gXiPfHGoto_u"
      }
    },
    {
      "cell_type": "code",
      "source": [
        "data = pd.read_csv(\"/kaggle/input/pricehouse/Housing.csv\")\n",
        "data.head(5)"
      ],
      "metadata": {
        "_uuid": "cd505015-5b7a-4da1-8ad3-c7f90ef5caa4",
        "_cell_guid": "e051e5d5-edc0-47ea-8c72-9464dbcf2a07",
        "jupyter": {
          "outputs_hidden": false
        },
        "papermill": {
          "duration": 0.049327,
          "end_time": "2024-03-14T14:33:16.692844",
          "exception": false,
          "start_time": "2024-03-14T14:33:16.643517",
          "status": "completed"
        },
        "tags": [],
        "execution": {
          "iopub.status.busy": "2024-03-16T09:18:12.631101Z",
          "iopub.execute_input": "2024-03-16T09:18:12.631718Z",
          "iopub.status.idle": "2024-03-16T09:18:12.66365Z",
          "shell.execute_reply.started": "2024-03-16T09:18:12.631682Z",
          "shell.execute_reply": "2024-03-16T09:18:12.662425Z"
        },
        "trusted": true,
        "id": "Xo1gyNGTto_u"
      },
      "execution_count": null,
      "outputs": []
    },
    {
      "cell_type": "code",
      "source": [
        "data.nunique()"
      ],
      "metadata": {
        "_uuid": "d5ba424c-2e05-44ad-b6c3-88f178269086",
        "_cell_guid": "cfd07c19-12cf-4fe5-be6f-1deaa05eb9d7",
        "papermill": {
          "duration": 0.026037,
          "end_time": "2024-03-14T14:33:16.728681",
          "exception": false,
          "start_time": "2024-03-14T14:33:16.702644",
          "status": "completed"
        },
        "tags": [],
        "jupyter": {
          "outputs_hidden": false
        },
        "execution": {
          "iopub.status.busy": "2024-03-16T09:18:12.665156Z",
          "iopub.execute_input": "2024-03-16T09:18:12.665818Z",
          "iopub.status.idle": "2024-03-16T09:18:12.675568Z",
          "shell.execute_reply.started": "2024-03-16T09:18:12.66578Z",
          "shell.execute_reply": "2024-03-16T09:18:12.674563Z"
        },
        "trusted": true,
        "id": "6KM-XQmdto_u"
      },
      "execution_count": null,
      "outputs": []
    },
    {
      "cell_type": "code",
      "source": [
        "data.info()"
      ],
      "metadata": {
        "_uuid": "ccc39cb3-4040-49a4-8542-ed066b49d41d",
        "_cell_guid": "7721e2b0-6f59-467c-b14f-1a8f80e3224a",
        "papermill": {
          "duration": 0.029203,
          "end_time": "2024-03-14T14:33:16.767484",
          "exception": false,
          "start_time": "2024-03-14T14:33:16.738281",
          "status": "completed"
        },
        "tags": [],
        "jupyter": {
          "outputs_hidden": false
        },
        "execution": {
          "iopub.status.busy": "2024-03-16T09:18:12.677234Z",
          "iopub.execute_input": "2024-03-16T09:18:12.678024Z",
          "iopub.status.idle": "2024-03-16T09:18:12.695466Z",
          "shell.execute_reply.started": "2024-03-16T09:18:12.677981Z",
          "shell.execute_reply": "2024-03-16T09:18:12.693992Z"
        },
        "trusted": true,
        "id": "iSIMlu5sto_u"
      },
      "execution_count": null,
      "outputs": []
    },
    {
      "cell_type": "markdown",
      "source": [
        "\n",
        "<a id=\"3\"></a>\n",
        "<div style=\"font-family: 'Courier New', Courier, monospace; font-weight: bold; letter-spacing: 1px; color: #1976D2; font-size: 140%; text-align: left; padding: 10px; background: #BBDEFB; border-bottom: 8px solid #0D47A1;\">\n",
        "    <h2 style=\"text-align: left; font-size: 28px; color: #0F3271;\">Setting up PyCaret</h2>\n",
        "    <p style=\"font-size: 18px;\">Configure PyCaret for the machine learning experiment:</p>\n",
        "</div>"
      ],
      "metadata": {
        "_uuid": "3a2f14d2-4c68-424f-ae7e-61e92b73272f",
        "_cell_guid": "7fc4e659-bddc-4c61-8924-316d64daa08c",
        "papermill": {
          "duration": 0.008883,
          "end_time": "2024-03-14T14:33:16.818669",
          "exception": false,
          "start_time": "2024-03-14T14:33:16.809786",
          "status": "completed"
        },
        "tags": [],
        "trusted": true,
        "id": "zZspeizvto_u"
      }
    },
    {
      "cell_type": "code",
      "source": [
        "s = setup(data=data,\n",
        "          target= 'price',\n",
        "          experiment_name='HousePrice',\n",
        "          session_id=42,\n",
        "          train_size=0.8)"
      ],
      "metadata": {
        "_uuid": "5a4a1827-19da-4f4f-a090-a0ddaed2fcce",
        "_cell_guid": "360e26aa-f79b-4811-b5ea-24643d88c837",
        "jupyter": {
          "outputs_hidden": false
        },
        "papermill": {
          "duration": 3.253175,
          "end_time": "2024-03-14T14:33:20.080635",
          "exception": false,
          "start_time": "2024-03-14T14:33:16.82746",
          "status": "completed"
        },
        "tags": [],
        "execution": {
          "iopub.status.busy": "2024-03-16T09:18:12.697109Z",
          "iopub.execute_input": "2024-03-16T09:18:12.697555Z",
          "iopub.status.idle": "2024-03-16T09:18:19.133779Z",
          "shell.execute_reply.started": "2024-03-16T09:18:12.697522Z",
          "shell.execute_reply": "2024-03-16T09:18:19.132623Z"
        },
        "trusted": true,
        "id": "A45-svMjto_v"
      },
      "execution_count": null,
      "outputs": []
    },
    {
      "cell_type": "code",
      "source": [
        "best_model = compare_models()"
      ],
      "metadata": {
        "_uuid": "e5fdac65-c450-4be0-896a-7657f95efa76",
        "_cell_guid": "183722b7-16ea-4c27-aeb3-11efe45fe799",
        "jupyter": {
          "outputs_hidden": false
        },
        "papermill": {
          "duration": 33.237759,
          "end_time": "2024-03-14T14:33:53.32752",
          "exception": false,
          "start_time": "2024-03-14T14:33:20.089761",
          "status": "completed"
        },
        "tags": [],
        "execution": {
          "iopub.status.busy": "2024-03-16T09:18:19.135425Z",
          "iopub.execute_input": "2024-03-16T09:18:19.135766Z",
          "iopub.status.idle": "2024-03-16T09:19:05.814644Z",
          "shell.execute_reply.started": "2024-03-16T09:18:19.135727Z",
          "shell.execute_reply": "2024-03-16T09:19:05.813492Z"
        },
        "trusted": true,
        "id": "2sUWAdSuto_v"
      },
      "execution_count": null,
      "outputs": []
    },
    {
      "cell_type": "code",
      "source": [
        "finalized_model = finalize_model(best_model)"
      ],
      "metadata": {
        "_uuid": "6110faf4-3735-4f4b-beba-2e569164ff92",
        "_cell_guid": "5b7ac686-39d9-44be-8e9d-870f29930dab",
        "jupyter": {
          "outputs_hidden": false
        },
        "papermill": {
          "duration": 0.823324,
          "end_time": "2024-03-14T14:33:54.161335",
          "exception": false,
          "start_time": "2024-03-14T14:33:53.338011",
          "status": "completed"
        },
        "tags": [],
        "execution": {
          "iopub.status.busy": "2024-03-16T09:19:05.816241Z",
          "iopub.execute_input": "2024-03-16T09:19:05.81665Z",
          "iopub.status.idle": "2024-03-16T09:19:06.494987Z",
          "shell.execute_reply.started": "2024-03-16T09:19:05.816613Z",
          "shell.execute_reply": "2024-03-16T09:19:06.49365Z"
        },
        "trusted": true,
        "id": "Z_EwgcR_to_v"
      },
      "execution_count": null,
      "outputs": []
    },
    {
      "cell_type": "markdown",
      "source": [
        "<a id=\"3\"></a>\n",
        "<div style=\"font-family: 'Courier New', Courier, monospace; font-weight: bold; letter-spacing: 1px; color: #1976D2; font-size: 140%; text-align: left; padding: 10px; background: #BBDEFB; border-bottom: 8px solid #0D47A1;\">\n",
        "    Evaluate the model and make predictions\n",
        "</div>"
      ],
      "metadata": {
        "_uuid": "5b88b7d3-7518-4a44-b669-f712fce2ec8a",
        "_cell_guid": "e6b3926c-a098-490a-a50c-953bfba6cdef",
        "papermill": {
          "duration": 0.01033,
          "end_time": "2024-03-14T14:33:54.182647",
          "exception": false,
          "start_time": "2024-03-14T14:33:54.172317",
          "status": "completed"
        },
        "tags": [],
        "trusted": true,
        "id": "NEgVUl-gto_v"
      }
    },
    {
      "cell_type": "code",
      "source": [
        "predict_model(finalized_model)"
      ],
      "metadata": {
        "_uuid": "2cfba986-a59d-4af1-99ae-7c802819b457",
        "_cell_guid": "a711abf3-c612-4a89-9508-60d2a5b7c867",
        "jupyter": {
          "outputs_hidden": false
        },
        "papermill": {
          "duration": 0.342447,
          "end_time": "2024-03-14T14:33:54.535758",
          "exception": false,
          "start_time": "2024-03-14T14:33:54.193311",
          "status": "completed"
        },
        "tags": [],
        "execution": {
          "iopub.status.busy": "2024-03-16T09:19:06.498258Z",
          "iopub.execute_input": "2024-03-16T09:19:06.499058Z",
          "iopub.status.idle": "2024-03-16T09:19:07.082871Z",
          "shell.execute_reply.started": "2024-03-16T09:19:06.49901Z",
          "shell.execute_reply": "2024-03-16T09:19:07.081694Z"
        },
        "trusted": true,
        "id": "n54nDDKHto_v"
      },
      "execution_count": null,
      "outputs": []
    },
    {
      "cell_type": "code",
      "source": [
        "plot_model(finalized_model, plot='feature')"
      ],
      "metadata": {
        "_uuid": "13bbf5be-c6b2-4d42-90cb-cefbdab46021",
        "_cell_guid": "31314761-1619-4261-9723-97ab9755708e",
        "jupyter": {
          "outputs_hidden": false
        },
        "papermill": {
          "duration": 0.624787,
          "end_time": "2024-03-14T14:33:55.171579",
          "exception": false,
          "start_time": "2024-03-14T14:33:54.546792",
          "status": "completed"
        },
        "tags": [],
        "execution": {
          "iopub.status.busy": "2024-03-16T09:19:07.084512Z",
          "iopub.execute_input": "2024-03-16T09:19:07.085754Z",
          "iopub.status.idle": "2024-03-16T09:19:08.106096Z",
          "shell.execute_reply.started": "2024-03-16T09:19:07.08571Z",
          "shell.execute_reply": "2024-03-16T09:19:08.105069Z"
        },
        "trusted": true,
        "id": "NEBt7z4xto_v"
      },
      "execution_count": null,
      "outputs": []
    },
    {
      "cell_type": "markdown",
      "source": [
        "Based on the feature importance order provided, let's focus on creating visualizations for the following features in relation to predicting scores:\n",
        "\n",
        "1. Bathrooms\n",
        "2. Air Conditioning\n",
        "3. Hotwater Heating\n",
        "4. Prefarea\n",
        "5. Stories\n",
        "6. MainRoad\n",
        "7. Basement\n",
        "8. Guestroom\n",
        "9. Parking\n",
        "10. Furnishing Status\n",
        "\n",
        "The goal is to visually explore how these features impact anime scores according to Random Forest Classifier model findings."
      ],
      "metadata": {
        "_uuid": "03fa1f48-7ad8-4c0b-8699-a6544020b165",
        "_cell_guid": "66720df0-a8d1-40ba-a6ef-cdcb99473deb",
        "papermill": {
          "duration": 0.011295,
          "end_time": "2024-03-14T14:33:55.194731",
          "exception": false,
          "start_time": "2024-03-14T14:33:55.183436",
          "status": "completed"
        },
        "tags": [],
        "trusted": true,
        "id": "ayhOeozgto_v"
      }
    },
    {
      "cell_type": "code",
      "source": [
        "import plotly.graph_objs as go\n",
        "from plotly.subplots import make_subplots\n",
        "\n",
        "# Create subplots\n",
        "fig = make_subplots(rows=5, cols=2, subplot_titles=('Bathrooms vs Price',\n",
        "                                                    'Air Conditioning vs Price',\n",
        "                                                    'Hot Water Heating vs Price',\n",
        "                                                    'Preferred Area vs Price',\n",
        "                                                    'Stories vs Price',\n",
        "                                                    'Main Road vs Price',\n",
        "                                                    'Basement vs Price',\n",
        "                                                    'Guestroom vs Price',\n",
        "                                                    'Parking vs Price',\n",
        "                                                    'Furnishing Status vs Price'),\n",
        "                    vertical_spacing=0.08,\n",
        "                    horizontal_spacing=0.1)\n",
        "\n",
        "# Plot 1: Relationship between number of bathrooms and house prices\n",
        "box_plot_bathrooms = go.Box(x=data['bathrooms'], y=data['price'],\n",
        "                            marker=dict(color='blue'), name='Bathrooms vs Price')\n",
        "\n",
        "# Plot 2: Impact of air conditioning on house prices\n",
        "box_plot_air_conditioning = go.Box(x=data['airconditioning'], y=data['price'],\n",
        "                                   marker=dict(color='orange'), name='Air Conditioning vs Price')\n",
        "\n",
        "# Plot 3: Impact of hot water heating on house prices\n",
        "box_plot_hot_water_heating = go.Box(x=data['hotwaterheating'], y=data['price'],\n",
        "                                    marker=dict(color='green'), name='Hot Water Heating vs Price')\n",
        "\n",
        "# Plot 4: Impact of being in a preferred area on house prices\n",
        "box_plot_pref_area = go.Box(x=data['prefarea'], y=data['price'],\n",
        "                            marker=dict(color='red'), name='Preferred Area vs Price')\n",
        "\n",
        "# Plot 5: Relationship between number of stories and house prices\n",
        "box_plot_stories = go.Box(x=data['stories'], y=data['price'],\n",
        "                          marker=dict(color='purple'), name='Stories vs Price')\n",
        "\n",
        "# Plot 6: Impact of being on the main road on house prices\n",
        "box_plot_mainroad = go.Box(x=data['mainroad'], y=data['price'],\n",
        "                           marker=dict(color='cyan'), name='Main Road vs Price')\n",
        "\n",
        "# Plot 7: Impact of having a basement on house prices\n",
        "box_plot_basement = go.Box(x=data['basement'], y=data['price'],\n",
        "                           marker=dict(color='gray'), name='Basement vs Price')\n",
        "\n",
        "# Plot 8: Impact of having a guestroom on house prices\n",
        "box_plot_guestroom = go.Box(x=data['guestroom'], y=data['price'],\n",
        "                            marker=dict(color='pink'), name='Guestroom vs Price')\n",
        "\n",
        "# Plot 9: Impact of parking on house prices\n",
        "box_plot_parking = go.Box(x=data['parking'], y=data['price'],\n",
        "                          marker=dict(color='brown'), name='Parking vs Price')\n",
        "\n",
        "# Plot 10: Impact of furnishing status on house prices\n",
        "box_plot_furnishing_status = go.Box(x=data['furnishingstatus'], y=data['price'],\n",
        "                                    marker=dict(color='yellow'), name='Furnishing Status vs Price')\n",
        "\n",
        "# Add plots to subplots\n",
        "fig.add_trace(box_plot_bathrooms, row=1, col=1)\n",
        "fig.add_trace(box_plot_air_conditioning, row=1, col=2)\n",
        "fig.add_trace(box_plot_hot_water_heating, row=2, col=1)\n",
        "fig.add_trace(box_plot_pref_area, row=2, col=2)\n",
        "fig.add_trace(box_plot_stories, row=3, col=1)\n",
        "fig.add_trace(box_plot_mainroad, row=3, col=2)\n",
        "fig.add_trace(box_plot_basement, row=4, col=1)\n",
        "fig.add_trace(box_plot_guestroom, row=4, col=2)\n",
        "fig.add_trace(box_plot_parking, row=5, col=1)\n",
        "fig.add_trace(box_plot_furnishing_status, row=5, col=2)\n",
        "\n",
        "# Update layout\n",
        "fig.update_layout(height=2000, width=1200,\n",
        "                  title_text=\"Comprehensive Visualization of House Prices\",\n",
        "                  title_x=0.5,\n",
        "                  showlegend=False)\n",
        "\n",
        "# Update x-axis titles\n",
        "fig.update_xaxes(title_text=\"Number of Bathrooms\", row=1, col=1)\n",
        "fig.update_xaxes(title_text=\"Air Conditioning\", row=1, col=2)\n",
        "fig.update_xaxes(title_text=\"Hot Water Heating\", row=2, col=1)\n",
        "fig.update_xaxes(title_text=\"Preferred Area\", row=2, col=2)\n",
        "fig.update_xaxes(title_text=\"Number of Stories\", row=3, col=1)\n",
        "fig.update_xaxes(title_text=\"Proximity to Main Road\", row=3, col=2)\n",
        "fig.update_xaxes(title_text=\"Basement\", row=4, col=1)\n",
        "fig.update_xaxes(title_text=\"Guestroom\", row=4, col=2)\n",
        "fig.update_xaxes(title_text=\"Parking\", row=5, col=1)\n",
        "fig.update_xaxes(title_text=\"Furnishing Status\", row=5, col=2)\n",
        "\n",
        "# Update y-axis title\n",
        "fig.update_yaxes(title_text=\"Price\", col=1)\n",
        "\n",
        "# Update subplot titles font and size\n",
        "fig.update_annotations(font=dict(size=20))\n",
        "\n",
        "# Show plot\n",
        "fig.show()\n"
      ],
      "metadata": {
        "_uuid": "274d3487-4d63-4044-80bd-557d2ceadd8f",
        "_cell_guid": "d6acb178-ec2d-4739-91a1-319924c89b66",
        "execution": {
          "iopub.status.busy": "2024-03-16T09:24:33.278126Z",
          "iopub.execute_input": "2024-03-16T09:24:33.278567Z",
          "iopub.status.idle": "2024-03-16T09:24:33.464709Z",
          "shell.execute_reply.started": "2024-03-16T09:24:33.278534Z",
          "shell.execute_reply": "2024-03-16T09:24:33.463462Z"
        },
        "jupyter": {
          "source_hidden": true
        },
        "trusted": true,
        "id": "HIk5E_C4to_w"
      },
      "execution_count": null,
      "outputs": []
    },
    {
      "cell_type": "code",
      "source": [
        "# Calculate average increase percentage for number of bathrooms\n",
        "min_price_bathrooms = data.groupby('bathrooms')['price'].mean().min()\n",
        "avg_price_bathrooms = data.groupby('bathrooms')['price'].mean()\n",
        "avg_increase_bathrooms = ((avg_price_bathrooms / min_price_bathrooms) - 1) * 100\n",
        "bathrooms_increase_dict = avg_increase_bathrooms.to_dict()\n",
        "print(\"Average Increase Percentage for Number of Bathrooms:\")\n",
        "for key, value in sorted(bathrooms_increase_dict.items()):\n",
        "    print(f\"{key}: {value:.0f}%\")\n",
        "\n",
        "# Calculate average increase percentage for air conditioning\n",
        "min_price_air_conditioning = data.groupby('airconditioning')['price'].mean().min()\n",
        "avg_price_air_conditioning = data.groupby('airconditioning')['price'].mean()\n",
        "avg_increase_air_conditioning = ((avg_price_air_conditioning / min_price_air_conditioning) - 1) * 100\n",
        "air_conditioning_increase_dict = avg_increase_air_conditioning.to_dict()\n",
        "print(\"\\nAverage Increase Percentage for Air Conditioning:\")\n",
        "for key, value in sorted(air_conditioning_increase_dict.items()):\n",
        "    print(f\"{key}: {value:.0f}%\")\n",
        "\n",
        "# Calculate average increase percentage for hot water heating\n",
        "min_price_hot_water_heating = data.groupby('hotwaterheating')['price'].mean().min()\n",
        "avg_price_hot_water_heating = data.groupby('hotwaterheating')['price'].mean()\n",
        "avg_increase_hot_water_heating = ((avg_price_hot_water_heating / min_price_hot_water_heating) - 1) * 100\n",
        "hot_water_heating_increase_dict = avg_increase_hot_water_heating.to_dict()\n",
        "print(\"\\nAverage Increase Percentage for Hot Water Heating:\")\n",
        "for key, value in sorted(hot_water_heating_increase_dict.items()):\n",
        "    print(f\"{key}: {value:.0f}%\")\n",
        "\n",
        "# Calculate average increase percentage for preferred area\n",
        "min_price_pref_area = data.groupby('prefarea')['price'].mean().min()\n",
        "avg_price_pref_area = data.groupby('prefarea')['price'].mean()\n",
        "avg_increase_pref_area = ((avg_price_pref_area / min_price_pref_area) - 1) * 100\n",
        "pref_area_increase_dict = avg_increase_pref_area.to_dict()\n",
        "print(\"\\nAverage Increase Percentage for Preferred Area:\")\n",
        "for key, value in sorted(pref_area_increase_dict.items()):\n",
        "    print(f\"{key}: {value:.0f}%\")\n",
        "\n",
        "# Calculate average increase percentage for number of stories\n",
        "min_price_stories = data.groupby('stories')['price'].mean().min()\n",
        "avg_price_stories = data.groupby('stories')['price'].mean()\n",
        "avg_increase_stories = ((avg_price_stories / min_price_stories) - 1) * 100\n",
        "stories_increase_dict = avg_increase_stories.to_dict()\n",
        "print(\"\\nAverage Increase Percentage for Stories:\")\n",
        "for key, value in sorted(stories_increase_dict.items()):\n",
        "    print(f\"{key}: {value:.0f}%\")\n",
        "\n",
        "# Calculate average increase percentage for being on main road\n",
        "min_price_mainroad = data.groupby('mainroad')['price'].mean().min()\n",
        "avg_price_mainroad = data.groupby('mainroad')['price'].mean()\n",
        "avg_increase_mainroad = ((avg_price_mainroad / min_price_mainroad) - 1) * 100\n",
        "mainroad_increase_dict = avg_increase_mainroad.to_dict()\n",
        "print(\"\\nAverage Increase Percentage for Main Road:\")\n",
        "for key, value in sorted(mainroad_increase_dict.items()):\n",
        "    print(f\"{key}: {value:.0f}%\")\n",
        "\n",
        "# Calculate average increase percentage for having a basement\n",
        "min_price_basement = data.groupby('basement')['price'].mean().min()\n",
        "avg_price_basement = data.groupby('basement')['price'].mean()\n",
        "avg_increase_basement = ((avg_price_basement / min_price_basement) - 1) * 100\n",
        "basement_increase_dict = avg_increase_basement.to_dict()\n",
        "print(\"\\nAverage Increase Percentage for Basement:\")\n",
        "for key, value in sorted(basement_increase_dict.items()):\n",
        "    print(f\"{key}: {value:.0f}%\")\n",
        "\n",
        "# Calculate average increase percentage for having a guestroom\n",
        "min_price_guestroom = data.groupby('guestroom')['price'].mean().min()\n",
        "avg_price_guestroom = data.groupby('guestroom')['price'].mean()\n",
        "avg_increase_guestroom = ((avg_price_guestroom / min_price_guestroom) - 1) * 100\n",
        "guestroom_increase_dict = avg_increase_guestroom.to_dict()\n",
        "print(\"\\nAverage Increase Percentage for Guestroom:\")\n",
        "for key, value in sorted(guestroom_increase_dict.items()):\n",
        "    print(f\"{key}: {value:.0f}%\")\n",
        "\n",
        "# Calculate average increase percentage for parking\n",
        "min_price_parking = data.groupby('parking')['price'].mean().min()\n",
        "avg_price_parking = data.groupby('parking')['price'].mean()\n",
        "avg_increase_parking = ((avg_price_parking / min_price_parking) - 1) * 100\n",
        "parking_increase_dict = avg_increase_parking.to_dict()\n",
        "print(\"\\nAverage Increase Percentage for Parking:\")\n",
        "for key, value in sorted(parking_increase_dict.items()):\n",
        "    print(f\"{key}: {value:.0f}%\")\n",
        "\n",
        "# Calculate average increase percentage for furnishing status\n",
        "min_price_furnishing_status = data.groupby('furnishingstatus')['price'].mean().min()\n",
        "avg_price_furnishing_status = data.groupby('furnishingstatus')['price'].mean()\n",
        "avg_increase_furnishing_status = ((avg_price_furnishing_status / min_price_furnishing_status) - 1) * 100\n",
        "furnishing_status_increase_dict = avg_increase_furnishing_status.to_dict()\n",
        "print(\"\\nAverage Increase Percentage for Furnishing Status:\")\n",
        "for key, value in sorted(furnishing_status_increase_dict.items()):\n",
        "    print(f\"{key}: {value:.0f}%\")"
      ],
      "metadata": {
        "_uuid": "c2d278bf-0242-483f-a165-7a60dbb123a0",
        "_cell_guid": "9890b6cf-f95a-4a9e-9708-a50564d54a81",
        "execution": {
          "iopub.status.busy": "2024-03-16T09:25:38.807721Z",
          "iopub.execute_input": "2024-03-16T09:25:38.808177Z",
          "iopub.status.idle": "2024-03-16T09:25:38.861295Z",
          "shell.execute_reply.started": "2024-03-16T09:25:38.808138Z",
          "shell.execute_reply": "2024-03-16T09:25:38.859924Z"
        },
        "jupyter": {
          "source_hidden": true
        },
        "trusted": true,
        "id": "z291dsYLto_w"
      },
      "execution_count": null,
      "outputs": []
    },
    {
      "cell_type": "markdown",
      "source": [
        "<a id=\"final-findings\"></a>\n",
        "\n",
        "# <div style=\"font-family: 'Arial', sans-serif; font-weight: bold; letter-spacing: 1px; color: #1976D2; font-size: 150%; text-align: center; padding: 10px; background: #BBDEFB; border-bottom: 8px solid #0D47A1;\">Final Findings 📊✨</div>\n",
        "\n",
        "After evaluating the dataset and making predictions, the following conclusions were drawn:\n",
        "\n",
        "## <div style=\"margin-bottom: -30px; font-family: 'Arial', sans-serif; font-weight: bold; letter-spacing: 2px; color: #1976D2; font-size: 100%;\">Number of Bathrooms:</div>\n",
        "- <div style=\"font-size: 115%;\">Houses with more bathrooms experience a substantial price increase.</div>\n",
        "- <div style=\"font-size: 115%;\">A 4-bathroom house sees a remarkable 191% increase compared to a 1-bathroom house.</div>\n",
        "\n",
        "## <div style=\"margin-bottom: -30px; font-family: 'Arial', sans-serif; font-weight: bold; letter-spacing: 2px; color: #1976D2; font-size: 90%;\">Air Conditioning:</div>\n",
        "- <div style=\"font-size: 115%;\">Properties with air conditioning systems witness a noticeable 43% increase in average price.</div>\n",
        "\n",
        "## <div style=\"margin-bottom: -30px; font-family: 'Arial', sans-serif; font-weight: bold; letter-spacing: 2px; color: #1976D2; font-size: 100%;\">Hot Water Heating:</div>\n",
        "- <div style=\"font-size: 115%;\">Houses with hot water heating show an 18% increase in average price. </div>\n",
        "\n",
        "## <div style=\"margin-bottom: -30px; font-family: 'Arial', sans-serif; font-weight: bold; letter-spacing: 2px; color: #1976D2; font-size: 90%;\">Preferred Area:</div>\n",
        "- <div style=\"font-size: 115%;\">Properties in preferred areas enjoy a significant 33% increase in average price.</div>\n",
        "\n",
        "## <div style=\"margin-bottom: -30px; font-family: 'Arial', sans-serif; font-weight: bold; letter-spacing: 2px; color: #1976D2; font-size: 90%;\">Number of Stories:</div>\n",
        "- <div style=\"font-size: 115%;\">A 4-story house commands a substantial 73% increase compared to a single-story house.\n",
        "</div>\n",
        "\n",
        "## <div style=\"margin-bottom: -30px; font-family: 'Arial', sans-serif; font-weight: bold; letter-spacing: 2px; color: #1976D2; font-size: 90%;\">Proximity to Main Road:</div>\n",
        "- <div style=\"font-size: 115%;\">Houses located on main roads see a 47% increase in average price. </div>\n",
        "\n",
        "## <div style=\"margin-bottom: -30px; font-family: 'Arial', sans-serif; font-weight: bold; letter-spacing: 2px; color: #1976D2; font-size: 90%;\">Basement and Guestroom:</div>\n",
        "- <div style=\"font-size: 115%;\">Having a basement corresponds to a 16% increase, while a guestroom leads to a 27% increase in average price.</div>\n",
        "\n",
        "## <div style=\"margin-bottom: -30px; font-family: 'Arial', sans-serif; font-weight: bold; letter-spacing: 2px; color: #1976D2; font-size: 90%;\">Parking:</div>\n",
        "- <div style=\"font-size: 115%;\">Houses with parking spaces witness significant increases, with a 3-parking space property seeing a 42% increase compared to none.</div>\n",
        "\n",
        "## <div style=\"margin-bottom: -30px; font-family: 'Arial', sans-serif; font-weight: bold; letter-spacing: 2px; color: #1976D2; font-size: 90%;\">Furnishing Status:</div>\n",
        "- <div style=\"font-size: 115%;\">Furnished properties command the highest increase, with a 37% rise in average price, followed by semi-furnished properties with a 22% increase compared to unfinsished properties </div>"
      ],
      "metadata": {
        "_uuid": "299eaa72-7915-4757-b36c-322ff2113fcd",
        "_cell_guid": "497e3e65-63b9-4a09-afc8-0f429212c92e",
        "papermill": {
          "duration": 0.01353,
          "end_time": "2024-03-14T14:33:57.464547",
          "exception": false,
          "start_time": "2024-03-14T14:33:57.451017",
          "status": "completed"
        },
        "tags": [],
        "trusted": true,
        "id": "-t8_lP6Rto_w"
      }
    },
    {
      "cell_type": "markdown",
      "source": [
        "<div style=\"background-color: #E3F2FD; padding: 10px;\">\n",
        "    <p style=\"font-size: 150%; color: #1976D2; font-weight: bold;\"> Thank you for taking the time to explore this notebook! I hope you found the insights valuable and the visualizations engaging. If you have any questions, feedback, or suggestions for improvement, feel free to reach out. Happy coding! 😊</p>\n",
        "</div>"
      ],
      "metadata": {
        "_uuid": "36f16dd4-507e-47f8-ba85-3d41ecfc77ab",
        "_cell_guid": "9a2836b7-840f-4326-ad31-c9b0fbd93219",
        "papermill": {
          "duration": 0.0133,
          "end_time": "2024-03-14T14:33:57.491575",
          "exception": false,
          "start_time": "2024-03-14T14:33:57.478275",
          "status": "completed"
        },
        "tags": [],
        "trusted": true,
        "id": "E1C-9-Rdto_x"
      }
    }
  ]
}