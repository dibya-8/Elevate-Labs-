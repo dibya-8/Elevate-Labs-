{
  "metadata": {
    "kernelspec": {
      "language": "python",
      "display_name": "Python 3",
      "name": "python3"
    },
    "language_info": {
      "name": "python",
      "version": "3.11.11",
      "mimetype": "text/x-python",
      "codemirror_mode": {
        "name": "ipython",
        "version": 3
      },
      "pygments_lexer": "ipython3",
      "nbconvert_exporter": "python",
      "file_extension": ".py"
    },
    "kaggle": {
      "accelerator": "none",
      "dataSources": [
        {
          "sourceId": 11368890,
          "sourceType": "datasetVersion",
          "datasetId": 7099732
        }
      ],
      "dockerImageVersionId": 31012,
      "isInternetEnabled": false,
      "language": "python",
      "sourceType": "notebook",
      "isGpuEnabled": false
    },
    "colab": {
      "name": "notebookec9b6c0f9f",
      "provenance": [],
      "include_colab_link": true
    }
  },
  "nbformat_minor": 0,
  "nbformat": 4,
  "cells": [
    {
      "cell_type": "markdown",
      "metadata": {
        "id": "view-in-github",
        "colab_type": "text"
      },
      "source": [
        "<a href=\"https://colab.research.google.com/github/dibya-8/Elevate-Labs-/blob/main/notebookec9b6c0f9f.ipynb\" target=\"_parent\"><img src=\"https://colab.research.google.com/assets/colab-badge.svg\" alt=\"Open In Colab\"/></a>"
      ]
    },
    {
      "source": [
        "# IMPORTANT: RUN THIS CELL IN ORDER TO IMPORT YOUR KAGGLE DATA SOURCES,\n",
        "# THEN FEEL FREE TO DELETE THIS CELL.\n",
        "# NOTE: THIS NOTEBOOK ENVIRONMENT DIFFERS FROM KAGGLE'S PYTHON\n",
        "# ENVIRONMENT SO THERE MAY BE MISSING LIBRARIES USED BY YOUR\n",
        "# NOTEBOOK.\n",
        "import kagglehub\n",
        "lygitdata_garmentiq_classification_set_nordstrom_and_myntra_path = kagglehub.dataset_download('lygitdata/garmentiq-classification-set-nordstrom-and-myntra')\n",
        "\n",
        "print('Data source import complete.')\n"
      ],
      "metadata": {
        "id": "J4SRJpFFzZnn"
      },
      "cell_type": "code",
      "outputs": [],
      "execution_count": null
    },
    {
      "cell_type": "markdown",
      "source": [
        "Published on May 09, 2025. By Prata, Marília (mpwolke)."
      ],
      "metadata": {
        "id": "chZS3vB6zZno"
      }
    },
    {
      "cell_type": "code",
      "source": [
        "# This Python 3 environment comes with many helpful analytics libraries installed\n",
        "# It is defined by the kaggle/python Docker image: https://github.com/kaggle/docker-python\n",
        "# For example, here's several helpful packages to load\n",
        "\n",
        "import numpy as np # linear algebra\n",
        "import pandas as pd # data processing, CSV file I/O (e.g. pd.read_csv)\n",
        "\n",
        "import matplotlib as mpl\n",
        "import matplotlib.pyplot as plt\n",
        "%matplotlib inline\n",
        "\n",
        "import plotly.graph_objects as go\n",
        "import plotly.express as px\n",
        "\n",
        "import warnings\n",
        "warnings.simplefilter(action='ignore', category=Warning)\n",
        "\n",
        "# Input data files are available in the read-only \"../input/\" directory\n",
        "# For example, running this (by clicking run or pressing Shift+Enter) will list all files under the input directory\n",
        "\n",
        "import os\n",
        "for dirname, _, filenames in os.walk('/kaggle/input'):\n",
        "    for filename in filenames:\n",
        "        print(os.path.join(dirname, filename))\n",
        "\n",
        "# You can write up to 20GB to the current directory (/kaggle/working/) that gets preserved as output when you create a version using \"Save & Run All\"\n",
        "# You can also write temporary files to /kaggle/temp/, but they won't be saved outside of the current session"
      ],
      "metadata": {
        "_uuid": "8f2839f25d086af736a60e9eeb907d3b93b6e0e5",
        "_cell_guid": "b1076dfc-b9ad-4769-8c92-a6c4dae69d19",
        "trusted": true,
        "execution": {
          "iopub.status.busy": "2025-05-09T06:40:38.717228Z",
          "iopub.execute_input": "2025-05-09T06:40:38.717501Z",
          "iopub.status.idle": "2025-05-09T06:41:23.674415Z",
          "shell.execute_reply.started": "2025-05-09T06:40:38.717478Z",
          "shell.execute_reply": "2025-05-09T06:41:23.673183Z"
        },
        "_kg_hide-input": true,
        "_kg_hide-output": true,
        "collapsed": true,
        "jupyter": {
          "outputs_hidden": true
        },
        "id": "KYfeizhkzZno"
      },
      "outputs": [],
      "execution_count": null
    },
    {
      "cell_type": "markdown",
      "source": [
        "## Dataset Description\n",
        "\n",
        "\"This dataset is part of the GarmentIQ project, which focuses on understanding, classifying, and ultimately measuring garments from fashion imagery. This particular dataset supports garment classification, a foundational step in the broader pipeline of GarmentIQ.\"\n",
        "\n",
        "\"The images are sourced from two major fashion platforms: Myntra and Nordstrom, and include a curated selection of high-quality fashion photos. All images are resized to a standardized resolution of 480×736 for consistency in model training.\"\n",
        "\n",
        "https://www.kaggle.com/datasets/lygitdata/garmentiq-classification-set-nordstrom-and-myntra"
      ],
      "metadata": {
        "id": "opNBu17MzZnp"
      }
    },
    {
      "cell_type": "code",
      "source": [
        "df = pd.read_csv(\"/kaggle/input/garmentiq-classification-set-nordstrom-and-myntra/metadata.csv\")\n",
        "df.tail()"
      ],
      "metadata": {
        "trusted": true,
        "execution": {
          "iopub.status.busy": "2025-05-09T06:42:02.862023Z",
          "iopub.execute_input": "2025-05-09T06:42:02.862392Z",
          "iopub.status.idle": "2025-05-09T06:42:03.015455Z",
          "shell.execute_reply.started": "2025-05-09T06:42:02.862365Z",
          "shell.execute_reply": "2025-05-09T06:42:03.014527Z"
        },
        "id": "5MT3N00hzZnp"
      },
      "outputs": [],
      "execution_count": null
    },
    {
      "cell_type": "markdown",
      "source": [
        "## info() method"
      ],
      "metadata": {
        "id": "Xfprk1bYzZnp"
      }
    },
    {
      "cell_type": "code",
      "source": [
        "df.info()"
      ],
      "metadata": {
        "trusted": true,
        "execution": {
          "iopub.status.busy": "2025-05-09T06:42:15.779931Z",
          "iopub.execute_input": "2025-05-09T06:42:15.780278Z",
          "iopub.status.idle": "2025-05-09T06:42:15.811236Z",
          "shell.execute_reply.started": "2025-05-09T06:42:15.780252Z",
          "shell.execute_reply": "2025-05-09T06:42:15.810203Z"
        },
        "id": "-PaFQZYNzZnp"
      },
      "outputs": [],
      "execution_count": null
    },
    {
      "cell_type": "markdown",
      "source": [
        "## Thanks to Lygitdata I was able to stablish the source of each piece (URL)"
      ],
      "metadata": {
        "id": "dGuHne1LzZnp"
      }
    },
    {
      "cell_type": "code",
      "source": [
        "#By Lygitdata https://www.kaggle.com/code/lygitdata/demo-1-garment-distribution/notebook\n",
        "\n",
        "# Add a new column 'source' to identify if the image is from Myntra or Nordstrom\n",
        "df['source'] = df['url'].apply(lambda x: 'Myntra' if 'assets.myntassets.com' in x else ('Nordstrom' if 'n.nordstrommedia.com' in x else 'Unknown'))\n",
        "df.tail()"
      ],
      "metadata": {
        "trusted": true,
        "execution": {
          "iopub.status.busy": "2025-05-09T06:55:42.304122Z",
          "iopub.execute_input": "2025-05-09T06:55:42.304494Z",
          "iopub.status.idle": "2025-05-09T06:55:42.324562Z",
          "shell.execute_reply.started": "2025-05-09T06:55:42.304466Z",
          "shell.execute_reply": "2025-05-09T06:55:42.323647Z"
        },
        "id": "pTdpcPjczZnp"
      },
      "outputs": [],
      "execution_count": null
    },
    {
      "cell_type": "code",
      "source": [
        "df['masterCategory'].value_counts()"
      ],
      "metadata": {
        "trusted": true,
        "execution": {
          "iopub.status.busy": "2025-05-09T06:50:00.880614Z",
          "iopub.execute_input": "2025-05-09T06:50:00.88097Z",
          "iopub.status.idle": "2025-05-09T06:50:00.892836Z",
          "shell.execute_reply.started": "2025-05-09T06:50:00.880947Z",
          "shell.execute_reply": "2025-05-09T06:50:00.891808Z"
        },
        "id": "vewOBxOxzZnp"
      },
      "outputs": [],
      "execution_count": null
    },
    {
      "cell_type": "code",
      "source": [
        "df['garment'].value_counts()"
      ],
      "metadata": {
        "trusted": true,
        "execution": {
          "iopub.status.busy": "2025-05-09T06:51:11.106207Z",
          "iopub.execute_input": "2025-05-09T06:51:11.106625Z",
          "iopub.status.idle": "2025-05-09T06:51:11.117002Z",
          "shell.execute_reply.started": "2025-05-09T06:51:11.106595Z",
          "shell.execute_reply": "2025-05-09T06:51:11.115898Z"
        },
        "id": "iIfaCj8BzZnp"
      },
      "outputs": [],
      "execution_count": null
    },
    {
      "cell_type": "code",
      "source": [
        "import plotly.io as pio\n",
        "pio.renderers.default = 'iframe'"
      ],
      "metadata": {
        "trusted": true,
        "execution": {
          "iopub.status.busy": "2025-05-09T07:05:53.214182Z",
          "iopub.execute_input": "2025-05-09T07:05:53.214871Z",
          "iopub.status.idle": "2025-05-09T07:05:53.219167Z",
          "shell.execute_reply.started": "2025-05-09T07:05:53.214842Z",
          "shell.execute_reply": "2025-05-09T07:05:53.218253Z"
        },
        "id": "zVkAdm6IzZnp"
      },
      "outputs": [],
      "execution_count": null
    },
    {
      "cell_type": "markdown",
      "source": [
        "## Where are the Myntra's clothes on that Plotly chart below?"
      ],
      "metadata": {
        "id": "lwZfSG2IzZnp"
      }
    },
    {
      "cell_type": "code",
      "source": [
        "fig = px.bar(df,\n",
        "             x= 'garment', y='source',color_discrete_sequence=['crimson'],\n",
        "             title='Nordstrom & Myntra Clothes by category', text='masterCategory')\n",
        "fig.show()"
      ],
      "metadata": {
        "trusted": true,
        "execution": {
          "iopub.status.busy": "2025-05-09T07:08:09.433028Z",
          "iopub.execute_input": "2025-05-09T07:08:09.433799Z",
          "iopub.status.idle": "2025-05-09T07:08:09.676875Z",
          "shell.execute_reply.started": "2025-05-09T07:08:09.433764Z",
          "shell.execute_reply": "2025-05-09T07:08:09.675896Z"
        },
        "_kg_hide-input": true,
        "id": "PDtTXKl0zZnp"
      },
      "outputs": [],
      "execution_count": null
    },
    {
      "cell_type": "markdown",
      "source": [
        "## Let's try to check image URLs of the metadata csv file."
      ],
      "metadata": {
        "id": "-6CuQdvWzZnp"
      }
    },
    {
      "cell_type": "code",
      "source": [
        "from IPython.core.display import HTML"
      ],
      "metadata": {
        "trusted": true,
        "execution": {
          "iopub.status.busy": "2025-05-09T06:42:58.136611Z",
          "iopub.execute_input": "2025-05-09T06:42:58.137688Z",
          "iopub.status.idle": "2025-05-09T06:42:58.141832Z",
          "shell.execute_reply.started": "2025-05-09T06:42:58.137646Z",
          "shell.execute_reply": "2025-05-09T06:42:58.140811Z"
        },
        "id": "_ttpm7XHzZnp"
      },
      "outputs": [],
      "execution_count": null
    },
    {
      "cell_type": "code",
      "source": [
        "#Code by Arian Ghasemi https://www.kaggle.com/code/arianghasemi/display-images/notebook\n",
        "\n",
        "def path_to_image_html(path):\n",
        "    return '<img src=\"'+ path + '\" width=\"60\" >'\n",
        "HTML(df[0:20].to_html(escape=False,formatters=dict(url=path_to_image_html)))"
      ],
      "metadata": {
        "trusted": true,
        "execution": {
          "iopub.status.busy": "2025-05-09T06:44:58.088097Z",
          "iopub.execute_input": "2025-05-09T06:44:58.088454Z",
          "iopub.status.idle": "2025-05-09T06:44:58.098778Z",
          "shell.execute_reply.started": "2025-05-09T06:44:58.088428Z",
          "shell.execute_reply": "2025-05-09T06:44:58.097726Z"
        },
        "id": "-58pMtUIzZnp"
      },
      "outputs": [],
      "execution_count": null
    },
    {
      "cell_type": "markdown",
      "source": [
        "#Acknowledgements:\n",
        "\n",
        "Dataset author Lygitdata [Nordstrom & Myntra Clothes Image Data - GarmentIQ](https://www.kaggle.com/datasets/lygitdata/garmentiq-classification-set-nordstrom-and-myntra)\n",
        "\n",
        "Lygitdata https://www.kaggle.com/code/lygitdata/demo-1-garment-distribution/notebook\n",
        "\n",
        "Arian Ghasemi https://www.kaggle.com/code/arianghasemi/display-images/notebook\n",
        "\n",
        "Marília Prata https://www.kaggle.com/code/mpwolke/backpacks-image-url"
      ],
      "metadata": {
        "id": "92LqXTujzZnq"
      }
    }
  ]
}