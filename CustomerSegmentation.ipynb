{
  "metadata": {
    "kernelspec": {
      "language": "python",
      "display_name": "Python 3",
      "name": "python3"
    },
    "language_info": {
      "name": "python",
      "version": "3.11.11",
      "mimetype": "text/x-python",
      "codemirror_mode": {
        "name": "ipython",
        "version": 3
      },
      "pygments_lexer": "ipython3",
      "nbconvert_exporter": "python",
      "file_extension": ".py"
    },
    "kaggle": {
      "accelerator": "none",
      "dataSources": [
        {
          "sourceId": 74935,
          "sourceType": "datasetVersion",
          "datasetId": 42674
        }
      ],
      "dockerImageVersionId": 31012,
      "isInternetEnabled": false,
      "language": "python",
      "sourceType": "notebook",
      "isGpuEnabled": false
    },
    "colab": {
      "provenance": [],
      "name": "CustomerSegmentation",
      "include_colab_link": true
    }
  },
  "nbformat_minor": 0,
  "nbformat": 4,
  "cells": [
    {
      "cell_type": "markdown",
      "metadata": {
        "id": "view-in-github",
        "colab_type": "text"
      },
      "source": [
        "<a href=\"https://colab.research.google.com/github/dibya-8/Elevate-Labs-/blob/main/CustomerSegmentation.ipynb\" target=\"_parent\"><img src=\"https://colab.research.google.com/assets/colab-badge.svg\" alt=\"Open In Colab\"/></a>"
      ]
    },
    {
      "source": [
        "# IMPORTANT: RUN THIS CELL IN ORDER TO IMPORT YOUR KAGGLE DATA SOURCES,\n",
        "# THEN FEEL FREE TO DELETE THIS CELL.\n",
        "# NOTE: THIS NOTEBOOK ENVIRONMENT DIFFERS FROM KAGGLE'S PYTHON\n",
        "# ENVIRONMENT SO THERE MAY BE MISSING LIBRARIES USED BY YOUR\n",
        "# NOTEBOOK.\n",
        "import kagglehub\n",
        "vjchoudhary7_customer_segmentation_tutorial_in_python_path = kagglehub.dataset_download('vjchoudhary7/customer-segmentation-tutorial-in-python')\n",
        "\n",
        "print('Data source import complete.')\n"
      ],
      "metadata": {
        "id": "wkZAMj8JCkMv"
      },
      "cell_type": "code",
      "outputs": [],
      "execution_count": null
    },
    {
      "cell_type": "code",
      "source": [
        "# IMPORTANT: RUN THIS CELL IN ORDER TO IMPORT YOUR KAGGLE DATA SOURCES,\n",
        "# THEN FEEL FREE TO DELETE THIS CELL.\n",
        "# NOTE: THIS NOTEBOOK ENVIRONMENT DIFFERS FROM KAGGLE'S PYTHON\n",
        "# ENVIRONMENT SO THERE MAY BE MISSING LIBRARIES USED BY YOUR\n",
        "# NOTEBOOK.\n",
        "import kagglehub\n",
        "vjchoudhary7_customer_segmentation_tutorial_in_python_path = kagglehub.dataset_download('vjchoudhary7/customer-segmentation-tutorial-in-python')\n",
        "\n",
        "print('Data source import complete.')\n"
      ],
      "metadata": {
        "id": "BdYIlwlsTk-U",
        "trusted": true,
        "execution": {
          "iopub.status.busy": "2025-04-28T16:11:12.386567Z",
          "iopub.execute_input": "2025-04-28T16:11:12.387022Z",
          "iopub.status.idle": "2025-04-28T16:11:13.089794Z",
          "shell.execute_reply.started": "2025-04-28T16:11:12.386982Z",
          "shell.execute_reply": "2025-04-28T16:11:13.08856Z"
        }
      },
      "outputs": [],
      "execution_count": null
    },
    {
      "cell_type": "code",
      "source": [
        "# This Python 3 environment comes with many helpful analytics libraries installed\n",
        "# It is defined by the kaggle/python Docker image: https://github.com/kaggle/docker-python\n",
        "# For example, here's several helpful packages to load\n",
        "\n",
        "import numpy as np # linear algebra\n",
        "import pandas as pd # data processing, CSV file I/O (e.g. pd.read_csv)\n",
        "\n",
        "# Input data files are available in the read-only \"../input/\" directory\n",
        "# For example, running this (by clicking run or pressing Shift+Enter) will list all files under the input directory\n",
        "\n",
        "\n",
        "import os\n",
        "\n",
        "import kagglehub\n",
        "path = kagglehub.dataset_download(\"vjchoudhary7/customer-segmentation-tutorial-in-python\")\n",
        "\n",
        "for dirname, _, filenames in os.walk(path):\n",
        "    for filename in filenames:\n",
        "        if filename.endswith('.csv'):  # only pick CSV files\n",
        "            file_path = os.path.join(dirname, filename)\n",
        "            df = pd.read_csv(file_path)\n",
        "            print(f\"Loaded: {file_path}\")\n",
        "            break  # load the first CSV and break\n",
        "\n",
        "\n",
        "# You can write up to 20GB to the current directory (/kaggle/working/) that gets preserved as output when you create a version using \"Save & Run All\"\n",
        "# You can also write temporary files to /kaggle/temp/, but they won't be saved outside of the current session"
      ],
      "metadata": {
        "_uuid": "8f2839f25d086af736a60e9eeb907d3b93b6e0e5",
        "_cell_guid": "b1076dfc-b9ad-4769-8c92-a6c4dae69d19",
        "trusted": true,
        "execution": {
          "iopub.status.busy": "2025-04-28T16:11:13.091587Z",
          "iopub.execute_input": "2025-04-28T16:11:13.09201Z",
          "iopub.status.idle": "2025-04-28T16:11:15.76219Z",
          "shell.execute_reply.started": "2025-04-28T16:11:13.091976Z",
          "shell.execute_reply": "2025-04-28T16:11:15.760877Z"
        },
        "id": "1fZMjddhTk-V"
      },
      "outputs": [],
      "execution_count": null
    },
    {
      "cell_type": "markdown",
      "source": [
        "Prinitng first few rows of the datafrane"
      ],
      "metadata": {
        "id": "HemXWNeBTxuI"
      }
    },
    {
      "cell_type": "code",
      "source": [
        "\n",
        "df.head()"
      ],
      "metadata": {
        "trusted": true,
        "execution": {
          "iopub.status.busy": "2025-04-28T16:11:15.768014Z",
          "iopub.execute_input": "2025-04-28T16:11:15.76828Z",
          "iopub.status.idle": "2025-04-28T16:11:15.798823Z",
          "shell.execute_reply.started": "2025-04-28T16:11:15.76826Z",
          "shell.execute_reply": "2025-04-28T16:11:15.797703Z"
        },
        "id": "aKEAO-hQTk-W"
      },
      "outputs": [],
      "execution_count": null
    },
    {
      "cell_type": "markdown",
      "source": [],
      "metadata": {
        "id": "5afbKeGkGCg5"
      }
    },
    {
      "cell_type": "code",
      "source": [
        "df.shape"
      ],
      "metadata": {
        "id": "xp7YhfqkVQPZ",
        "trusted": true,
        "execution": {
          "iopub.status.busy": "2025-04-28T16:11:15.799829Z",
          "iopub.execute_input": "2025-04-28T16:11:15.800109Z",
          "iopub.status.idle": "2025-04-28T16:11:15.831981Z",
          "shell.execute_reply.started": "2025-04-28T16:11:15.800089Z",
          "shell.execute_reply": "2025-04-28T16:11:15.829066Z"
        }
      },
      "outputs": [],
      "execution_count": null
    },
    {
      "cell_type": "code",
      "source": [
        "df.dtypes"
      ],
      "metadata": {
        "trusted": true,
        "execution": {
          "iopub.status.busy": "2025-04-28T16:11:15.836939Z",
          "iopub.execute_input": "2025-04-28T16:11:15.838423Z",
          "iopub.status.idle": "2025-04-28T16:11:15.863373Z",
          "shell.execute_reply.started": "2025-04-28T16:11:15.838385Z",
          "shell.execute_reply": "2025-04-28T16:11:15.862285Z"
        },
        "id": "tldHEWctTk-W"
      },
      "outputs": [],
      "execution_count": null
    },
    {
      "cell_type": "code",
      "source": [
        "df.describe()"
      ],
      "metadata": {
        "id": "3Rh0N_K7UWkr",
        "trusted": true,
        "execution": {
          "iopub.status.busy": "2025-04-28T16:11:15.865997Z",
          "iopub.execute_input": "2025-04-28T16:11:15.867381Z",
          "iopub.status.idle": "2025-04-28T16:11:15.930871Z",
          "shell.execute_reply.started": "2025-04-28T16:11:15.867346Z",
          "shell.execute_reply": "2025-04-28T16:11:15.929712Z"
        }
      },
      "outputs": [],
      "execution_count": null
    },
    {
      "cell_type": "code",
      "source": [
        "df.describe(include='all')"
      ],
      "metadata": {
        "id": "moDERApuUZ3U",
        "trusted": true,
        "execution": {
          "iopub.status.busy": "2025-04-28T16:11:15.931958Z",
          "iopub.execute_input": "2025-04-28T16:11:15.932254Z",
          "iopub.status.idle": "2025-04-28T16:11:15.973677Z",
          "shell.execute_reply.started": "2025-04-28T16:11:15.93223Z",
          "shell.execute_reply": "2025-04-28T16:11:15.972383Z"
        }
      },
      "outputs": [],
      "execution_count": null
    },
    {
      "cell_type": "code",
      "source": [
        "df.info()"
      ],
      "metadata": {
        "id": "f0uaDcUTUp9M",
        "trusted": true,
        "execution": {
          "iopub.status.busy": "2025-04-28T16:11:15.974736Z",
          "iopub.execute_input": "2025-04-28T16:11:15.975588Z",
          "iopub.status.idle": "2025-04-28T16:11:15.994373Z",
          "shell.execute_reply.started": "2025-04-28T16:11:15.975563Z",
          "shell.execute_reply": "2025-04-28T16:11:15.993274Z"
        }
      },
      "outputs": [],
      "execution_count": null
    },
    {
      "cell_type": "code",
      "source": [
        "df.isnull().sum()"
      ],
      "metadata": {
        "id": "U3Y2kQVTVZQC",
        "trusted": true,
        "execution": {
          "iopub.status.busy": "2025-04-28T16:11:15.997791Z",
          "iopub.execute_input": "2025-04-28T16:11:15.998211Z",
          "iopub.status.idle": "2025-04-28T16:11:16.019882Z",
          "shell.execute_reply.started": "2025-04-28T16:11:15.99819Z",
          "shell.execute_reply": "2025-04-28T16:11:16.018705Z"
        }
      },
      "outputs": [],
      "execution_count": null
    },
    {
      "cell_type": "code",
      "source": [
        "#data distribution of age, spending score and annual income\n",
        "import matplotlib.pyplot as plt\n",
        "\n",
        "df[['Age', 'Annual Income (k$)', 'Spending Score (1-100)']].hist(bins=20, figsize=(12,6))\n",
        "plt.show()\n"
      ],
      "metadata": {
        "id": "aFU6UDZTZ-dQ",
        "trusted": true,
        "execution": {
          "iopub.status.busy": "2025-04-28T16:11:16.020862Z",
          "iopub.execute_input": "2025-04-28T16:11:16.021155Z",
          "iopub.status.idle": "2025-04-28T16:11:16.792075Z",
          "shell.execute_reply.started": "2025-04-28T16:11:16.021131Z",
          "shell.execute_reply": "2025-04-28T16:11:16.790876Z"
        }
      },
      "outputs": [],
      "execution_count": null
    },
    {
      "cell_type": "code",
      "source": [
        "from sklearn.cluster import KMeans"
      ],
      "metadata": {
        "id": "M7t-AEA2q7md",
        "trusted": true,
        "execution": {
          "iopub.status.busy": "2025-04-28T16:11:16.793134Z",
          "iopub.execute_input": "2025-04-28T16:11:16.793426Z",
          "iopub.status.idle": "2025-04-28T16:11:18.005482Z",
          "shell.execute_reply.started": "2025-04-28T16:11:16.793401Z",
          "shell.execute_reply": "2025-04-28T16:11:18.004358Z"
        }
      },
      "outputs": [],
      "execution_count": null
    },
    {
      "cell_type": "code",
      "source": [
        "#Income and spending score are features used for customer segmentation\n",
        "X = df[['Annual Income (k$)', 'Spending Score (1-100)']]\n",
        "X.head()"
      ],
      "metadata": {
        "id": "Ux28KMesrj1r",
        "trusted": true,
        "execution": {
          "iopub.status.busy": "2025-04-28T16:11:18.006557Z",
          "iopub.execute_input": "2025-04-28T16:11:18.007099Z",
          "iopub.status.idle": "2025-04-28T16:11:18.019039Z",
          "shell.execute_reply.started": "2025-04-28T16:11:18.007075Z",
          "shell.execute_reply": "2025-04-28T16:11:18.017757Z"
        }
      },
      "outputs": [],
      "execution_count": null
    },
    {
      "cell_type": "code",
      "source": [
        "#using elbow method to find cluster numbers\n",
        "wcss = []\n",
        "for i in range(1, 11):\n",
        "    k_means = KMeans(n_clusters=i, n_init=\"auto\")\n",
        "    k_means.fit(X)\n",
        "    wcss.append(k_means.inertia_)\n",
        "\n",
        "\n",
        "plt.plot(range(1, 11), wcss)\n",
        "plt.plot(range(1, 11), wcss, linewidth=2.3, color=\"blue\", marker=\"8\")\n",
        "\n",
        "plt.title(\"Elbow Curve\")\n",
        "plt.xlabel(\"Number of clusters (values of k)\")\n",
        "plt.ylabel(\"WCSS values\")\n",
        "plt.xticks(np.arange(1, 11, 1))\n",
        "\n",
        "plt.show()\n"
      ],
      "metadata": {
        "id": "Qk7NiYCkrleY",
        "trusted": true,
        "execution": {
          "iopub.status.busy": "2025-04-28T16:11:18.020503Z",
          "iopub.execute_input": "2025-04-28T16:11:18.021008Z",
          "iopub.status.idle": "2025-04-28T16:11:18.383371Z",
          "shell.execute_reply.started": "2025-04-28T16:11:18.020977Z",
          "shell.execute_reply": "2025-04-28T16:11:18.382064Z"
        }
      },
      "outputs": [],
      "execution_count": null
    },
    {
      "cell_type": "code",
      "source": [
        "k_means = KMeans(n_clusters=5, n_init=\"auto\")\n",
        "\n",
        "# Fitting the input\n",
        "k_means.fit(X)\n",
        "\n",
        "# Predicting the labels of the input\n",
        "y_pred = k_means.predict(X)\n",
        "\n",
        "# Adding the labels\n",
        "df[\"label\"] = y_pred\n",
        "\n",
        "df.head()"
      ],
      "metadata": {
        "id": "kWBzvHbwroQJ",
        "trusted": true,
        "execution": {
          "iopub.status.busy": "2025-04-28T16:11:18.384483Z",
          "iopub.execute_input": "2025-04-28T16:11:18.384851Z",
          "iopub.status.idle": "2025-04-28T16:11:18.406792Z",
          "shell.execute_reply.started": "2025-04-28T16:11:18.384822Z",
          "shell.execute_reply": "2025-04-28T16:11:18.405741Z"
        }
      },
      "outputs": [],
      "execution_count": null
    },
    {
      "cell_type": "code",
      "source": [
        "#visualizing the clusters\n",
        "import seaborn as sns\n",
        "import matplotlib.pyplot as plt\n",
        "colors = [\"green\", \"yellow\", \"red\", \"blue\", \"grey\"]\n",
        "\n",
        "sns.scatterplot(\n",
        "    x=\"Annual Income (k$)\",\n",
        "    y=\"Spending Score (1-100)\",\n",
        "    hue=\"label\",\n",
        "    palette=colors,\n",
        "    legend=\"full\",\n",
        "    data=df,\n",
        "    s=55\n",
        ")\n",
        "\n",
        "plt.xlabel('Annual Income (in k$)')\n",
        "plt.ylabel('Spending Score (1-100)')\n",
        "plt.title('Spending Score (1-100) vs Annual Income (in k$)')\n",
        "plt.show()\n"
      ],
      "metadata": {
        "id": "wG1QfBB6rrEz",
        "trusted": true,
        "execution": {
          "iopub.status.busy": "2025-04-28T16:11:18.407478Z",
          "iopub.execute_input": "2025-04-28T16:11:18.407721Z",
          "iopub.status.idle": "2025-04-28T16:11:19.057875Z",
          "shell.execute_reply.started": "2025-04-28T16:11:18.407703Z",
          "shell.execute_reply": "2025-04-28T16:11:19.056766Z"
        }
      },
      "outputs": [],
      "execution_count": null
    },
    {
      "cell_type": "markdown",
      "source": [
        "Insights:\n",
        "\n",
        "Cluster 0 (Green) ->  Low Income, Low to Mid Spending\n",
        "                  ->  Lower-income customers.\n",
        "                  ->  Average spenders.\n",
        "\n",
        "Cluster 1 (Yellow)->  High Income, High Spending\n",
        "                  \n",
        "Cluster 2 (Red)   ->  High Income, Low Spending\n",
        "                  ->  High earners.\n",
        "                  ->  Spending Score is very low\n",
        "\n",
        "Cluster 3 (Blue)  ->  Middle-to-high income group.\n",
        "                  ->  High spending habits\n",
        "\n",
        "Cluster 4 (Grey)  -> Lower income.\n",
        "                  -> High spenders              \n"
      ],
      "metadata": {
        "id": "AGxo4l8mH4nA"
      }
    }
  ]
}