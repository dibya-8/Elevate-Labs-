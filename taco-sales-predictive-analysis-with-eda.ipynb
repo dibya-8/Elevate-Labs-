{
 "cells": [
  {
   "cell_type": "markdown",
   "id": "f551cd11",
   "metadata": {
    "papermill": {
     "duration": 0.013801,
     "end_time": "2025-06-23T15:42:55.432731",
     "exception": false,
     "start_time": "2025-06-23T15:42:55.418930",
     "status": "completed"
    },
    "tags": []
   },
   "source": [
    "## Importing Libraries"
   ]
  },
  {
   "cell_type": "code",
   "execution_count": 1,
   "id": "bf3916db",
   "metadata": {
    "execution": {
     "iopub.execute_input": "2025-06-23T15:42:55.454874Z",
     "iopub.status.busy": "2025-06-23T15:42:55.454442Z",
     "iopub.status.idle": "2025-06-23T15:43:02.514994Z",
     "shell.execute_reply": "2025-06-23T15:43:02.513924Z"
    },
    "papermill": {
     "duration": 7.074057,
     "end_time": "2025-06-23T15:43:02.517114",
     "exception": false,
     "start_time": "2025-06-23T15:42:55.443057",
     "status": "completed"
    },
    "tags": []
   },
   "outputs": [],
   "source": [
    "import pandas as pd\n",
    "import numpy as np\n",
    "import seaborn as sns\n",
    "import matplotlib.pyplot as plt\n",
    "import plotly.express as px\n",
    "pd.set_option(\"display.max_columns\",50)\n",
    "import warnings\n",
    "warnings.simplefilter(action='ignore', category=UserWarning)\n",
    "from sklearn.linear_model import LinearRegression\n",
    "from sklearn.model_selection import train_test_split\n",
    "from sklearn.preprocessing import LabelEncoder\n",
    "import datetime\n",
    "from sklearn.metrics import mean_squared_error\n",
    "import plotly.io as pio\n",
    "pio.renderers.default = 'notebook'  # or 'iframe_connected'\n",
    "pio.renderers.default = 'iframe_connected'"
   ]
  },
  {
   "cell_type": "markdown",
   "id": "0916daf7",
   "metadata": {
    "papermill": {
     "duration": 0.008216,
     "end_time": "2025-06-23T15:43:02.534883",
     "exception": false,
     "start_time": "2025-06-23T15:43:02.526667",
     "status": "completed"
    },
    "tags": []
   },
   "source": [
    "# Project:\n",
    "## Taco Sales Predictive Analysis With EDA (2024-2025)"
   ]
  },
  {
   "cell_type": "code",
   "execution_count": 2,
   "id": "78a88c16",
   "metadata": {
    "execution": {
     "iopub.execute_input": "2025-06-23T15:43:02.552776Z",
     "iopub.status.busy": "2025-06-23T15:43:02.552447Z",
     "iopub.status.idle": "2025-06-23T15:43:02.591302Z",
     "shell.execute_reply": "2025-06-23T15:43:02.590252Z"
    },
    "papermill": {
     "duration": 0.049895,
     "end_time": "2025-06-23T15:43:02.593036",
     "exception": false,
     "start_time": "2025-06-23T15:43:02.543141",
     "status": "completed"
    },
    "tags": []
   },
   "outputs": [],
   "source": [
    "df=pd.read_csv(r\"/kaggle/input/taco-sales-dataset-20242025/taco_sales_(2024-2025).csv\")"
   ]
  },
  {
   "cell_type": "markdown",
   "id": "cefe7702",
   "metadata": {
    "papermill": {
     "duration": 0.008102,
     "end_time": "2025-06-23T15:43:02.610453",
     "exception": false,
     "start_time": "2025-06-23T15:43:02.602351",
     "status": "completed"
    },
    "tags": []
   },
   "source": [
    "## Data Info"
   ]
  },
  {
   "cell_type": "code",
   "execution_count": 3,
   "id": "2a07263f",
   "metadata": {
    "execution": {
     "iopub.execute_input": "2025-06-23T15:43:02.628319Z",
     "iopub.status.busy": "2025-06-23T15:43:02.627937Z",
     "iopub.status.idle": "2025-06-23T15:43:02.670902Z",
     "shell.execute_reply": "2025-06-23T15:43:02.670049Z"
    },
    "papermill": {
     "duration": 0.054004,
     "end_time": "2025-06-23T15:43:02.672646",
     "exception": false,
     "start_time": "2025-06-23T15:43:02.618642",
     "status": "completed"
    },
    "tags": []
   },
   "outputs": [
    {
     "name": "stdout",
     "output_type": "stream",
     "text": [
      "<class 'pandas.core.frame.DataFrame'>\n",
      "RangeIndex: 1000 entries, 0 to 999\n",
      "Data columns (total 13 columns):\n",
      " #   Column                   Non-Null Count  Dtype  \n",
      "---  ------                   --------------  -----  \n",
      " 0   Order ID                 1000 non-null   int64  \n",
      " 1   Restaurant Name          1000 non-null   object \n",
      " 2   Location                 1000 non-null   object \n",
      " 3   Order Time               1000 non-null   object \n",
      " 4   Delivery Time            1000 non-null   object \n",
      " 5   Delivery Duration (min)  1000 non-null   int64  \n",
      " 6   Taco Size                1000 non-null   object \n",
      " 7   Taco Type                1000 non-null   object \n",
      " 8   Toppings Count           1000 non-null   int64  \n",
      " 9   Distance (km)            1000 non-null   float64\n",
      " 10  Price ($)                1000 non-null   float64\n",
      " 11  Tip ($)                  1000 non-null   float64\n",
      " 12  Weekend Order            1000 non-null   bool   \n",
      "dtypes: bool(1), float64(3), int64(3), object(6)\n",
      "memory usage: 94.9+ KB\n"
     ]
    }
   ],
   "source": [
    "df.info()"
   ]
  },
  {
   "cell_type": "code",
   "execution_count": 4,
   "id": "6289bc89",
   "metadata": {
    "execution": {
     "iopub.execute_input": "2025-06-23T15:43:02.690577Z",
     "iopub.status.busy": "2025-06-23T15:43:02.690266Z",
     "iopub.status.idle": "2025-06-23T15:43:02.716476Z",
     "shell.execute_reply": "2025-06-23T15:43:02.715583Z"
    },
    "papermill": {
     "duration": 0.036948,
     "end_time": "2025-06-23T15:43:02.718021",
     "exception": false,
     "start_time": "2025-06-23T15:43:02.681073",
     "status": "completed"
    },
    "tags": []
   },
   "outputs": [
    {
     "data": {
      "text/html": [
       "<div>\n",
       "<style scoped>\n",
       "    .dataframe tbody tr th:only-of-type {\n",
       "        vertical-align: middle;\n",
       "    }\n",
       "\n",
       "    .dataframe tbody tr th {\n",
       "        vertical-align: top;\n",
       "    }\n",
       "\n",
       "    .dataframe thead th {\n",
       "        text-align: right;\n",
       "    }\n",
       "</style>\n",
       "<table border=\"1\" class=\"dataframe\">\n",
       "  <thead>\n",
       "    <tr style=\"text-align: right;\">\n",
       "      <th></th>\n",
       "      <th>Order ID</th>\n",
       "      <th>Restaurant Name</th>\n",
       "      <th>Location</th>\n",
       "      <th>Order Time</th>\n",
       "      <th>Delivery Time</th>\n",
       "      <th>Delivery Duration (min)</th>\n",
       "      <th>Taco Size</th>\n",
       "      <th>Taco Type</th>\n",
       "      <th>Toppings Count</th>\n",
       "      <th>Distance (km)</th>\n",
       "      <th>Price ($)</th>\n",
       "      <th>Tip ($)</th>\n",
       "      <th>Weekend Order</th>\n",
       "    </tr>\n",
       "  </thead>\n",
       "  <tbody>\n",
       "    <tr>\n",
       "      <th>0</th>\n",
       "      <td>770487</td>\n",
       "      <td>El Taco Loco</td>\n",
       "      <td>New York</td>\n",
       "      <td>01-08-2024 14:55</td>\n",
       "      <td>01-08-2024 15:36</td>\n",
       "      <td>41</td>\n",
       "      <td>Regular</td>\n",
       "      <td>Chicken Taco</td>\n",
       "      <td>5</td>\n",
       "      <td>3.01</td>\n",
       "      <td>9.25</td>\n",
       "      <td>2.22</td>\n",
       "      <td>False</td>\n",
       "    </tr>\n",
       "    <tr>\n",
       "      <th>1</th>\n",
       "      <td>671858</td>\n",
       "      <td>El Taco Loco</td>\n",
       "      <td>San Antonio</td>\n",
       "      <td>23-11-2024 17:11</td>\n",
       "      <td>23-11-2024 17:25</td>\n",
       "      <td>14</td>\n",
       "      <td>Regular</td>\n",
       "      <td>Beef Taco</td>\n",
       "      <td>1</td>\n",
       "      <td>6.20</td>\n",
       "      <td>4.25</td>\n",
       "      <td>3.01</td>\n",
       "      <td>True</td>\n",
       "    </tr>\n",
       "    <tr>\n",
       "      <th>2</th>\n",
       "      <td>688508</td>\n",
       "      <td>Taco Haven</td>\n",
       "      <td>Austin</td>\n",
       "      <td>21-11-2024 20:24</td>\n",
       "      <td>21-11-2024 21:02</td>\n",
       "      <td>38</td>\n",
       "      <td>Large</td>\n",
       "      <td>Pork Taco</td>\n",
       "      <td>2</td>\n",
       "      <td>20.33</td>\n",
       "      <td>7.00</td>\n",
       "      <td>0.02</td>\n",
       "      <td>False</td>\n",
       "    </tr>\n",
       "    <tr>\n",
       "      <th>3</th>\n",
       "      <td>944962</td>\n",
       "      <td>Spicy Taco House</td>\n",
       "      <td>Dallas</td>\n",
       "      <td>21-09-2024 06:43</td>\n",
       "      <td>21-09-2024 07:28</td>\n",
       "      <td>45</td>\n",
       "      <td>Regular</td>\n",
       "      <td>Chicken Taco</td>\n",
       "      <td>2</td>\n",
       "      <td>3.00</td>\n",
       "      <td>5.50</td>\n",
       "      <td>1.90</td>\n",
       "      <td>True</td>\n",
       "    </tr>\n",
       "    <tr>\n",
       "      <th>4</th>\n",
       "      <td>476417</td>\n",
       "      <td>Casa del Taco</td>\n",
       "      <td>San Antonio</td>\n",
       "      <td>24-07-2024 11:01</td>\n",
       "      <td>24-07-2024 11:16</td>\n",
       "      <td>15</td>\n",
       "      <td>Large</td>\n",
       "      <td>Pork Taco</td>\n",
       "      <td>0</td>\n",
       "      <td>24.34</td>\n",
       "      <td>4.50</td>\n",
       "      <td>1.14</td>\n",
       "      <td>False</td>\n",
       "    </tr>\n",
       "  </tbody>\n",
       "</table>\n",
       "</div>"
      ],
      "text/plain": [
       "   Order ID   Restaurant Name     Location        Order Time  \\\n",
       "0    770487      El Taco Loco     New York  01-08-2024 14:55   \n",
       "1    671858      El Taco Loco  San Antonio  23-11-2024 17:11   \n",
       "2    688508        Taco Haven       Austin  21-11-2024 20:24   \n",
       "3    944962  Spicy Taco House       Dallas  21-09-2024 06:43   \n",
       "4    476417     Casa del Taco  San Antonio  24-07-2024 11:01   \n",
       "\n",
       "      Delivery Time  Delivery Duration (min) Taco Size     Taco Type  \\\n",
       "0  01-08-2024 15:36                       41   Regular  Chicken Taco   \n",
       "1  23-11-2024 17:25                       14   Regular     Beef Taco   \n",
       "2  21-11-2024 21:02                       38     Large     Pork Taco   \n",
       "3  21-09-2024 07:28                       45   Regular  Chicken Taco   \n",
       "4  24-07-2024 11:16                       15     Large     Pork Taco   \n",
       "\n",
       "   Toppings Count  Distance (km)  Price ($)  Tip ($)  Weekend Order  \n",
       "0               5           3.01       9.25     2.22          False  \n",
       "1               1           6.20       4.25     3.01           True  \n",
       "2               2          20.33       7.00     0.02          False  \n",
       "3               2           3.00       5.50     1.90           True  \n",
       "4               0          24.34       4.50     1.14          False  "
      ]
     },
     "execution_count": 4,
     "metadata": {},
     "output_type": "execute_result"
    }
   ],
   "source": [
    "df.head()"
   ]
  },
  {
   "cell_type": "code",
   "execution_count": 5,
   "id": "5dacede8",
   "metadata": {
    "execution": {
     "iopub.execute_input": "2025-06-23T15:43:02.737046Z",
     "iopub.status.busy": "2025-06-23T15:43:02.736737Z",
     "iopub.status.idle": "2025-06-23T15:43:02.742783Z",
     "shell.execute_reply": "2025-06-23T15:43:02.741949Z"
    },
    "papermill": {
     "duration": 0.017342,
     "end_time": "2025-06-23T15:43:02.744165",
     "exception": false,
     "start_time": "2025-06-23T15:43:02.726823",
     "status": "completed"
    },
    "tags": []
   },
   "outputs": [
    {
     "data": {
      "text/plain": [
       "Index(['Order ID', 'Restaurant Name', 'Location', 'Order Time',\n",
       "       'Delivery Time', 'Delivery Duration (min)', 'Taco Size', 'Taco Type',\n",
       "       'Toppings Count', 'Distance (km)', 'Price ($)', 'Tip ($)',\n",
       "       'Weekend Order'],\n",
       "      dtype='object')"
      ]
     },
     "execution_count": 5,
     "metadata": {},
     "output_type": "execute_result"
    }
   ],
   "source": [
    "df.columns"
   ]
  },
  {
   "cell_type": "code",
   "execution_count": 6,
   "id": "94858884",
   "metadata": {
    "execution": {
     "iopub.execute_input": "2025-06-23T15:43:02.765159Z",
     "iopub.status.busy": "2025-06-23T15:43:02.764764Z",
     "iopub.status.idle": "2025-06-23T15:43:02.771008Z",
     "shell.execute_reply": "2025-06-23T15:43:02.770179Z"
    },
    "papermill": {
     "duration": 0.019383,
     "end_time": "2025-06-23T15:43:02.772591",
     "exception": false,
     "start_time": "2025-06-23T15:43:02.753208",
     "status": "completed"
    },
    "tags": []
   },
   "outputs": [
    {
     "data": {
      "text/plain": [
       "(1000, 13)"
      ]
     },
     "execution_count": 6,
     "metadata": {},
     "output_type": "execute_result"
    }
   ],
   "source": [
    "df.shape"
   ]
  },
  {
   "cell_type": "markdown",
   "id": "545982f6",
   "metadata": {
    "papermill": {
     "duration": 0.008319,
     "end_time": "2025-06-23T15:43:02.789737",
     "exception": false,
     "start_time": "2025-06-23T15:43:02.781418",
     "status": "completed"
    },
    "tags": []
   },
   "source": [
    "## Data Handling & Cleaning"
   ]
  },
  {
   "cell_type": "code",
   "execution_count": 7,
   "id": "075cf329",
   "metadata": {
    "execution": {
     "iopub.execute_input": "2025-06-23T15:43:02.808692Z",
     "iopub.status.busy": "2025-06-23T15:43:02.808348Z",
     "iopub.status.idle": "2025-06-23T15:43:02.818661Z",
     "shell.execute_reply": "2025-06-23T15:43:02.817603Z"
    },
    "papermill": {
     "duration": 0.022272,
     "end_time": "2025-06-23T15:43:02.820672",
     "exception": false,
     "start_time": "2025-06-23T15:43:02.798400",
     "status": "completed"
    },
    "tags": []
   },
   "outputs": [],
   "source": [
    "df.isna().sum()\n",
    "df.dropna(subset=[\"Delivery Time\"],inplace=True)"
   ]
  },
  {
   "cell_type": "code",
   "execution_count": 8,
   "id": "4de24c23",
   "metadata": {
    "execution": {
     "iopub.execute_input": "2025-06-23T15:43:02.840656Z",
     "iopub.status.busy": "2025-06-23T15:43:02.840316Z",
     "iopub.status.idle": "2025-06-23T15:43:02.851551Z",
     "shell.execute_reply": "2025-06-23T15:43:02.850555Z"
    },
    "papermill": {
     "duration": 0.023694,
     "end_time": "2025-06-23T15:43:02.853418",
     "exception": false,
     "start_time": "2025-06-23T15:43:02.829724",
     "status": "completed"
    },
    "tags": []
   },
   "outputs": [],
   "source": [
    "df.duplicated().sum()\n",
    "df.drop_duplicates(inplace=True)"
   ]
  },
  {
   "cell_type": "code",
   "execution_count": 9,
   "id": "1c7eb115",
   "metadata": {
    "execution": {
     "iopub.execute_input": "2025-06-23T15:43:02.872335Z",
     "iopub.status.busy": "2025-06-23T15:43:02.871973Z",
     "iopub.status.idle": "2025-06-23T15:43:02.881746Z",
     "shell.execute_reply": "2025-06-23T15:43:02.880652Z"
    },
    "papermill": {
     "duration": 0.021211,
     "end_time": "2025-06-23T15:43:02.883537",
     "exception": false,
     "start_time": "2025-06-23T15:43:02.862326",
     "status": "completed"
    },
    "tags": []
   },
   "outputs": [
    {
     "data": {
      "text/plain": [
       "count                 1000\n",
       "unique                 999\n",
       "top       15-04-2025 16:06\n",
       "freq                     2\n",
       "Name: Delivery Time, dtype: object"
      ]
     },
     "execution_count": 9,
     "metadata": {},
     "output_type": "execute_result"
    }
   ],
   "source": [
    "df[\"Delivery Time\"].describe()"
   ]
  },
  {
   "cell_type": "code",
   "execution_count": 10,
   "id": "c0605299",
   "metadata": {
    "execution": {
     "iopub.execute_input": "2025-06-23T15:43:02.903926Z",
     "iopub.status.busy": "2025-06-23T15:43:02.903619Z",
     "iopub.status.idle": "2025-06-23T15:43:02.915263Z",
     "shell.execute_reply": "2025-06-23T15:43:02.914173Z"
    },
    "papermill": {
     "duration": 0.0231,
     "end_time": "2025-06-23T15:43:02.916860",
     "exception": false,
     "start_time": "2025-06-23T15:43:02.893760",
     "status": "completed"
    },
    "tags": []
   },
   "outputs": [
    {
     "name": "stdout",
     "output_type": "stream",
     "text": [
      "<class 'pandas.core.frame.DataFrame'>\n",
      "RangeIndex: 1000 entries, 0 to 999\n",
      "Data columns (total 13 columns):\n",
      " #   Column                   Non-Null Count  Dtype  \n",
      "---  ------                   --------------  -----  \n",
      " 0   Order ID                 1000 non-null   int64  \n",
      " 1   Restaurant Name          1000 non-null   object \n",
      " 2   Location                 1000 non-null   object \n",
      " 3   Order Time               1000 non-null   object \n",
      " 4   Delivery Time            1000 non-null   object \n",
      " 5   Delivery Duration (min)  1000 non-null   int64  \n",
      " 6   Taco Size                1000 non-null   object \n",
      " 7   Taco Type                1000 non-null   object \n",
      " 8   Toppings Count           1000 non-null   int64  \n",
      " 9   Distance (km)            1000 non-null   float64\n",
      " 10  Price ($)                1000 non-null   float64\n",
      " 11  Tip ($)                  1000 non-null   float64\n",
      " 12  Weekend Order            1000 non-null   bool   \n",
      "dtypes: bool(1), float64(3), int64(3), object(6)\n",
      "memory usage: 94.9+ KB\n"
     ]
    }
   ],
   "source": [
    "df.info()"
   ]
  },
  {
   "cell_type": "code",
   "execution_count": 11,
   "id": "7110b9d5",
   "metadata": {
    "execution": {
     "iopub.execute_input": "2025-06-23T15:43:02.935993Z",
     "iopub.status.busy": "2025-06-23T15:43:02.935705Z",
     "iopub.status.idle": "2025-06-23T15:43:02.950152Z",
     "shell.execute_reply": "2025-06-23T15:43:02.949140Z"
    },
    "papermill": {
     "duration": 0.025993,
     "end_time": "2025-06-23T15:43:02.951838",
     "exception": false,
     "start_time": "2025-06-23T15:43:02.925845",
     "status": "completed"
    },
    "tags": []
   },
   "outputs": [
    {
     "data": {
      "text/html": [
       "<div>\n",
       "<style scoped>\n",
       "    .dataframe tbody tr th:only-of-type {\n",
       "        vertical-align: middle;\n",
       "    }\n",
       "\n",
       "    .dataframe tbody tr th {\n",
       "        vertical-align: top;\n",
       "    }\n",
       "\n",
       "    .dataframe thead th {\n",
       "        text-align: right;\n",
       "    }\n",
       "</style>\n",
       "<table border=\"1\" class=\"dataframe\">\n",
       "  <thead>\n",
       "    <tr style=\"text-align: right;\">\n",
       "      <th></th>\n",
       "      <th>Order ID</th>\n",
       "      <th>Restaurant Name</th>\n",
       "      <th>Location</th>\n",
       "      <th>Order Time</th>\n",
       "      <th>Delivery Time</th>\n",
       "      <th>Delivery Duration (min)</th>\n",
       "      <th>Taco Size</th>\n",
       "      <th>Taco Type</th>\n",
       "      <th>Toppings Count</th>\n",
       "      <th>Distance (km)</th>\n",
       "      <th>Price ($)</th>\n",
       "      <th>Tip ($)</th>\n",
       "      <th>Weekend Order</th>\n",
       "    </tr>\n",
       "  </thead>\n",
       "  <tbody>\n",
       "    <tr>\n",
       "      <th>0</th>\n",
       "      <td>770487</td>\n",
       "      <td>El Taco Loco</td>\n",
       "      <td>New York</td>\n",
       "      <td>01-08-2024 14:55</td>\n",
       "      <td>01-08-2024 15:36</td>\n",
       "      <td>41</td>\n",
       "      <td>Regular</td>\n",
       "      <td>Chicken Taco</td>\n",
       "      <td>5</td>\n",
       "      <td>3.01</td>\n",
       "      <td>9.25</td>\n",
       "      <td>2.22</td>\n",
       "      <td>False</td>\n",
       "    </tr>\n",
       "    <tr>\n",
       "      <th>1</th>\n",
       "      <td>671858</td>\n",
       "      <td>El Taco Loco</td>\n",
       "      <td>San Antonio</td>\n",
       "      <td>23-11-2024 17:11</td>\n",
       "      <td>23-11-2024 17:25</td>\n",
       "      <td>14</td>\n",
       "      <td>Regular</td>\n",
       "      <td>Beef Taco</td>\n",
       "      <td>1</td>\n",
       "      <td>6.20</td>\n",
       "      <td>4.25</td>\n",
       "      <td>3.01</td>\n",
       "      <td>True</td>\n",
       "    </tr>\n",
       "    <tr>\n",
       "      <th>2</th>\n",
       "      <td>688508</td>\n",
       "      <td>Taco Haven</td>\n",
       "      <td>Austin</td>\n",
       "      <td>21-11-2024 20:24</td>\n",
       "      <td>21-11-2024 21:02</td>\n",
       "      <td>38</td>\n",
       "      <td>Large</td>\n",
       "      <td>Pork Taco</td>\n",
       "      <td>2</td>\n",
       "      <td>20.33</td>\n",
       "      <td>7.00</td>\n",
       "      <td>0.02</td>\n",
       "      <td>False</td>\n",
       "    </tr>\n",
       "    <tr>\n",
       "      <th>3</th>\n",
       "      <td>944962</td>\n",
       "      <td>Spicy Taco House</td>\n",
       "      <td>Dallas</td>\n",
       "      <td>21-09-2024 06:43</td>\n",
       "      <td>21-09-2024 07:28</td>\n",
       "      <td>45</td>\n",
       "      <td>Regular</td>\n",
       "      <td>Chicken Taco</td>\n",
       "      <td>2</td>\n",
       "      <td>3.00</td>\n",
       "      <td>5.50</td>\n",
       "      <td>1.90</td>\n",
       "      <td>True</td>\n",
       "    </tr>\n",
       "    <tr>\n",
       "      <th>4</th>\n",
       "      <td>476417</td>\n",
       "      <td>Casa del Taco</td>\n",
       "      <td>San Antonio</td>\n",
       "      <td>24-07-2024 11:01</td>\n",
       "      <td>24-07-2024 11:16</td>\n",
       "      <td>15</td>\n",
       "      <td>Large</td>\n",
       "      <td>Pork Taco</td>\n",
       "      <td>0</td>\n",
       "      <td>24.34</td>\n",
       "      <td>4.50</td>\n",
       "      <td>1.14</td>\n",
       "      <td>False</td>\n",
       "    </tr>\n",
       "  </tbody>\n",
       "</table>\n",
       "</div>"
      ],
      "text/plain": [
       "   Order ID   Restaurant Name     Location        Order Time  \\\n",
       "0    770487      El Taco Loco     New York  01-08-2024 14:55   \n",
       "1    671858      El Taco Loco  San Antonio  23-11-2024 17:11   \n",
       "2    688508        Taco Haven       Austin  21-11-2024 20:24   \n",
       "3    944962  Spicy Taco House       Dallas  21-09-2024 06:43   \n",
       "4    476417     Casa del Taco  San Antonio  24-07-2024 11:01   \n",
       "\n",
       "      Delivery Time  Delivery Duration (min) Taco Size     Taco Type  \\\n",
       "0  01-08-2024 15:36                       41   Regular  Chicken Taco   \n",
       "1  23-11-2024 17:25                       14   Regular     Beef Taco   \n",
       "2  21-11-2024 21:02                       38     Large     Pork Taco   \n",
       "3  21-09-2024 07:28                       45   Regular  Chicken Taco   \n",
       "4  24-07-2024 11:16                       15     Large     Pork Taco   \n",
       "\n",
       "   Toppings Count  Distance (km)  Price ($)  Tip ($)  Weekend Order  \n",
       "0               5           3.01       9.25     2.22          False  \n",
       "1               1           6.20       4.25     3.01           True  \n",
       "2               2          20.33       7.00     0.02          False  \n",
       "3               2           3.00       5.50     1.90           True  \n",
       "4               0          24.34       4.50     1.14          False  "
      ]
     },
     "execution_count": 11,
     "metadata": {},
     "output_type": "execute_result"
    }
   ],
   "source": [
    "df.head()"
   ]
  },
  {
   "cell_type": "code",
   "execution_count": 12,
   "id": "3ccb5b10",
   "metadata": {
    "execution": {
     "iopub.execute_input": "2025-06-23T15:43:02.971557Z",
     "iopub.status.busy": "2025-06-23T15:43:02.971214Z",
     "iopub.status.idle": "2025-06-23T15:43:02.977413Z",
     "shell.execute_reply": "2025-06-23T15:43:02.976643Z"
    },
    "papermill": {
     "duration": 0.01784,
     "end_time": "2025-06-23T15:43:02.978979",
     "exception": false,
     "start_time": "2025-06-23T15:43:02.961139",
     "status": "completed"
    },
    "tags": []
   },
   "outputs": [
    {
     "data": {
      "text/plain": [
       "Index(['Order ID', 'Restaurant Name', 'Location', 'Order Time',\n",
       "       'Delivery Time', 'Delivery Duration (min)', 'Taco Size', 'Taco Type',\n",
       "       'Toppings Count', 'Distance (km)', 'Price ($)', 'Tip ($)',\n",
       "       'Weekend Order'],\n",
       "      dtype='object')"
      ]
     },
     "execution_count": 12,
     "metadata": {},
     "output_type": "execute_result"
    }
   ],
   "source": [
    "df.columns"
   ]
  },
  {
   "cell_type": "code",
   "execution_count": 13,
   "id": "ecd6fa2e",
   "metadata": {
    "execution": {
     "iopub.execute_input": "2025-06-23T15:43:03.070770Z",
     "iopub.status.busy": "2025-06-23T15:43:03.070413Z",
     "iopub.status.idle": "2025-06-23T15:43:03.084878Z",
     "shell.execute_reply": "2025-06-23T15:43:03.083966Z"
    },
    "papermill": {
     "duration": 0.097073,
     "end_time": "2025-06-23T15:43:03.086462",
     "exception": false,
     "start_time": "2025-06-23T15:43:02.989389",
     "status": "completed"
    },
    "tags": []
   },
   "outputs": [
    {
     "data": {
      "text/html": [
       "<div>\n",
       "<style scoped>\n",
       "    .dataframe tbody tr th:only-of-type {\n",
       "        vertical-align: middle;\n",
       "    }\n",
       "\n",
       "    .dataframe tbody tr th {\n",
       "        vertical-align: top;\n",
       "    }\n",
       "\n",
       "    .dataframe thead th {\n",
       "        text-align: right;\n",
       "    }\n",
       "</style>\n",
       "<table border=\"1\" class=\"dataframe\">\n",
       "  <thead>\n",
       "    <tr style=\"text-align: right;\">\n",
       "      <th></th>\n",
       "      <th>Order ID</th>\n",
       "      <th>Restaurant Name</th>\n",
       "      <th>Location</th>\n",
       "      <th>Order Time</th>\n",
       "      <th>Delivery Time</th>\n",
       "      <th>Delivery Duration (min)</th>\n",
       "      <th>Taco Size</th>\n",
       "      <th>Taco Type</th>\n",
       "      <th>Toppings Count</th>\n",
       "      <th>Distance (km)</th>\n",
       "      <th>Price ($)</th>\n",
       "      <th>Tip ($)</th>\n",
       "      <th>Weekend Order</th>\n",
       "    </tr>\n",
       "  </thead>\n",
       "  <tbody>\n",
       "    <tr>\n",
       "      <th>0</th>\n",
       "      <td>770487</td>\n",
       "      <td>El Taco Loco</td>\n",
       "      <td>New York</td>\n",
       "      <td>01-08-2024 14:55</td>\n",
       "      <td>01-08-2024 15:36</td>\n",
       "      <td>41</td>\n",
       "      <td>Regular</td>\n",
       "      <td>Chicken Taco</td>\n",
       "      <td>5</td>\n",
       "      <td>3.01</td>\n",
       "      <td>9.25</td>\n",
       "      <td>2.22</td>\n",
       "      <td>False</td>\n",
       "    </tr>\n",
       "    <tr>\n",
       "      <th>1</th>\n",
       "      <td>671858</td>\n",
       "      <td>El Taco Loco</td>\n",
       "      <td>San Antonio</td>\n",
       "      <td>23-11-2024 17:11</td>\n",
       "      <td>23-11-2024 17:25</td>\n",
       "      <td>14</td>\n",
       "      <td>Regular</td>\n",
       "      <td>Beef Taco</td>\n",
       "      <td>1</td>\n",
       "      <td>6.20</td>\n",
       "      <td>4.25</td>\n",
       "      <td>3.01</td>\n",
       "      <td>True</td>\n",
       "    </tr>\n",
       "    <tr>\n",
       "      <th>2</th>\n",
       "      <td>688508</td>\n",
       "      <td>Taco Haven</td>\n",
       "      <td>Austin</td>\n",
       "      <td>21-11-2024 20:24</td>\n",
       "      <td>21-11-2024 21:02</td>\n",
       "      <td>38</td>\n",
       "      <td>Large</td>\n",
       "      <td>Pork Taco</td>\n",
       "      <td>2</td>\n",
       "      <td>20.33</td>\n",
       "      <td>7.00</td>\n",
       "      <td>0.02</td>\n",
       "      <td>False</td>\n",
       "    </tr>\n",
       "    <tr>\n",
       "      <th>3</th>\n",
       "      <td>944962</td>\n",
       "      <td>Spicy Taco House</td>\n",
       "      <td>Dallas</td>\n",
       "      <td>21-09-2024 06:43</td>\n",
       "      <td>21-09-2024 07:28</td>\n",
       "      <td>45</td>\n",
       "      <td>Regular</td>\n",
       "      <td>Chicken Taco</td>\n",
       "      <td>2</td>\n",
       "      <td>3.00</td>\n",
       "      <td>5.50</td>\n",
       "      <td>1.90</td>\n",
       "      <td>True</td>\n",
       "    </tr>\n",
       "    <tr>\n",
       "      <th>4</th>\n",
       "      <td>476417</td>\n",
       "      <td>Casa del Taco</td>\n",
       "      <td>San Antonio</td>\n",
       "      <td>24-07-2024 11:01</td>\n",
       "      <td>24-07-2024 11:16</td>\n",
       "      <td>15</td>\n",
       "      <td>Large</td>\n",
       "      <td>Pork Taco</td>\n",
       "      <td>0</td>\n",
       "      <td>24.34</td>\n",
       "      <td>4.50</td>\n",
       "      <td>1.14</td>\n",
       "      <td>False</td>\n",
       "    </tr>\n",
       "  </tbody>\n",
       "</table>\n",
       "</div>"
      ],
      "text/plain": [
       "   Order ID   Restaurant Name     Location        Order Time  \\\n",
       "0    770487      El Taco Loco     New York  01-08-2024 14:55   \n",
       "1    671858      El Taco Loco  San Antonio  23-11-2024 17:11   \n",
       "2    688508        Taco Haven       Austin  21-11-2024 20:24   \n",
       "3    944962  Spicy Taco House       Dallas  21-09-2024 06:43   \n",
       "4    476417     Casa del Taco  San Antonio  24-07-2024 11:01   \n",
       "\n",
       "      Delivery Time  Delivery Duration (min) Taco Size     Taco Type  \\\n",
       "0  01-08-2024 15:36                       41   Regular  Chicken Taco   \n",
       "1  23-11-2024 17:25                       14   Regular     Beef Taco   \n",
       "2  21-11-2024 21:02                       38     Large     Pork Taco   \n",
       "3  21-09-2024 07:28                       45   Regular  Chicken Taco   \n",
       "4  24-07-2024 11:16                       15     Large     Pork Taco   \n",
       "\n",
       "   Toppings Count  Distance (km)  Price ($)  Tip ($)  Weekend Order  \n",
       "0               5           3.01       9.25     2.22          False  \n",
       "1               1           6.20       4.25     3.01           True  \n",
       "2               2          20.33       7.00     0.02          False  \n",
       "3               2           3.00       5.50     1.90           True  \n",
       "4               0          24.34       4.50     1.14          False  "
      ]
     },
     "execution_count": 13,
     "metadata": {},
     "output_type": "execute_result"
    }
   ],
   "source": [
    "df.head()"
   ]
  },
  {
   "cell_type": "code",
   "execution_count": 14,
   "id": "5673329e",
   "metadata": {
    "execution": {
     "iopub.execute_input": "2025-06-23T15:43:03.106984Z",
     "iopub.status.busy": "2025-06-23T15:43:03.106695Z",
     "iopub.status.idle": "2025-06-23T15:43:03.115450Z",
     "shell.execute_reply": "2025-06-23T15:43:03.114369Z"
    },
    "papermill": {
     "duration": 0.020677,
     "end_time": "2025-06-23T15:43:03.116896",
     "exception": false,
     "start_time": "2025-06-23T15:43:03.096219",
     "status": "completed"
    },
    "tags": []
   },
   "outputs": [],
   "source": [
    "# Ensure Delivery Time is a string (if not already)\n",
    "df[\"Delivery Time\"] = df[\"Delivery Time\"].astype(str)\n",
    "\n",
    "# Split Delivery Time into date and time\n",
    "df[[\"Delivery Date\", \"Delivery Clock Time\"]] = df[\"Delivery Time\"].str.split(\" \", expand=True)"
   ]
  },
  {
   "cell_type": "code",
   "execution_count": 15,
   "id": "48fb6feb",
   "metadata": {
    "execution": {
     "iopub.execute_input": "2025-06-23T15:43:03.137570Z",
     "iopub.status.busy": "2025-06-23T15:43:03.137216Z",
     "iopub.status.idle": "2025-06-23T15:43:03.145066Z",
     "shell.execute_reply": "2025-06-23T15:43:03.144237Z"
    },
    "papermill": {
     "duration": 0.020018,
     "end_time": "2025-06-23T15:43:03.146592",
     "exception": false,
     "start_time": "2025-06-23T15:43:03.126574",
     "status": "completed"
    },
    "tags": []
   },
   "outputs": [],
   "source": [
    "df.drop(columns=[\"Delivery Time\",\"Order ID\"],inplace=True) # Removing column for better readability"
   ]
  },
  {
   "cell_type": "code",
   "execution_count": 16,
   "id": "1d12da5d",
   "metadata": {
    "execution": {
     "iopub.execute_input": "2025-06-23T15:43:03.167479Z",
     "iopub.status.busy": "2025-06-23T15:43:03.167168Z",
     "iopub.status.idle": "2025-06-23T15:43:03.179098Z",
     "shell.execute_reply": "2025-06-23T15:43:03.177937Z"
    },
    "papermill": {
     "duration": 0.024218,
     "end_time": "2025-06-23T15:43:03.180717",
     "exception": false,
     "start_time": "2025-06-23T15:43:03.156499",
     "status": "completed"
    },
    "tags": []
   },
   "outputs": [
    {
     "name": "stdout",
     "output_type": "stream",
     "text": [
      "<class 'pandas.core.frame.DataFrame'>\n",
      "RangeIndex: 1000 entries, 0 to 999\n",
      "Data columns (total 13 columns):\n",
      " #   Column                   Non-Null Count  Dtype  \n",
      "---  ------                   --------------  -----  \n",
      " 0   Restaurant Name          1000 non-null   object \n",
      " 1   Location                 1000 non-null   object \n",
      " 2   Order Time               1000 non-null   object \n",
      " 3   Delivery Duration (min)  1000 non-null   int64  \n",
      " 4   Taco Size                1000 non-null   object \n",
      " 5   Taco Type                1000 non-null   object \n",
      " 6   Toppings Count           1000 non-null   int64  \n",
      " 7   Distance (km)            1000 non-null   float64\n",
      " 8   Price ($)                1000 non-null   float64\n",
      " 9   Tip ($)                  1000 non-null   float64\n",
      " 10  Weekend Order            1000 non-null   bool   \n",
      " 11  Delivery Date            1000 non-null   object \n",
      " 12  Delivery Clock Time      1000 non-null   object \n",
      "dtypes: bool(1), float64(3), int64(2), object(7)\n",
      "memory usage: 94.9+ KB\n"
     ]
    }
   ],
   "source": [
    "df.info()"
   ]
  },
  {
   "cell_type": "code",
   "execution_count": 17,
   "id": "91a9292c",
   "metadata": {
    "execution": {
     "iopub.execute_input": "2025-06-23T15:43:03.201105Z",
     "iopub.status.busy": "2025-06-23T15:43:03.200761Z",
     "iopub.status.idle": "2025-06-23T15:43:03.206816Z",
     "shell.execute_reply": "2025-06-23T15:43:03.205875Z"
    },
    "papermill": {
     "duration": 0.018146,
     "end_time": "2025-06-23T15:43:03.208487",
     "exception": false,
     "start_time": "2025-06-23T15:43:03.190341",
     "status": "completed"
    },
    "tags": []
   },
   "outputs": [
    {
     "data": {
      "text/plain": [
       "(1000, 13)"
      ]
     },
     "execution_count": 17,
     "metadata": {},
     "output_type": "execute_result"
    }
   ],
   "source": [
    "df.shape"
   ]
  },
  {
   "cell_type": "markdown",
   "id": "03039402",
   "metadata": {
    "papermill": {
     "duration": 0.00969,
     "end_time": "2025-06-23T15:43:03.227991",
     "exception": false,
     "start_time": "2025-06-23T15:43:03.218301",
     "status": "completed"
    },
    "tags": []
   },
   "source": [
    "## EDA & Visualization"
   ]
  },
  {
   "cell_type": "markdown",
   "id": "92d60539",
   "metadata": {
    "papermill": {
     "duration": 0.009563,
     "end_time": "2025-06-23T15:43:03.247510",
     "exception": false,
     "start_time": "2025-06-23T15:43:03.237947",
     "status": "completed"
    },
    "tags": []
   },
   "source": [
    "### Which Restaurant has the highest weekend order rate"
   ]
  },
  {
   "cell_type": "code",
   "execution_count": 18,
   "id": "10e5e194",
   "metadata": {
    "execution": {
     "iopub.execute_input": "2025-06-23T15:43:03.268053Z",
     "iopub.status.busy": "2025-06-23T15:43:03.267724Z",
     "iopub.status.idle": "2025-06-23T15:43:03.284454Z",
     "shell.execute_reply": "2025-06-23T15:43:03.283368Z"
    },
    "papermill": {
     "duration": 0.028781,
     "end_time": "2025-06-23T15:43:03.286008",
     "exception": false,
     "start_time": "2025-06-23T15:43:03.257227",
     "status": "completed"
    },
    "tags": []
   },
   "outputs": [
    {
     "data": {
      "text/html": [
       "<div>\n",
       "<style scoped>\n",
       "    .dataframe tbody tr th:only-of-type {\n",
       "        vertical-align: middle;\n",
       "    }\n",
       "\n",
       "    .dataframe tbody tr th {\n",
       "        vertical-align: top;\n",
       "    }\n",
       "\n",
       "    .dataframe thead th {\n",
       "        text-align: right;\n",
       "    }\n",
       "</style>\n",
       "<table border=\"1\" class=\"dataframe\">\n",
       "  <thead>\n",
       "    <tr style=\"text-align: right;\">\n",
       "      <th></th>\n",
       "      <th>Restaurant Name</th>\n",
       "      <th>Weekend Order</th>\n",
       "      <th>Count</th>\n",
       "    </tr>\n",
       "  </thead>\n",
       "  <tbody>\n",
       "    <tr>\n",
       "      <th>0</th>\n",
       "      <td>Casa del Taco</td>\n",
       "      <td>False</td>\n",
       "      <td>76</td>\n",
       "    </tr>\n",
       "    <tr>\n",
       "      <th>1</th>\n",
       "      <td>Casa del Taco</td>\n",
       "      <td>True</td>\n",
       "      <td>28</td>\n",
       "    </tr>\n",
       "    <tr>\n",
       "      <th>2</th>\n",
       "      <td>El Taco Loco</td>\n",
       "      <td>False</td>\n",
       "      <td>59</td>\n",
       "    </tr>\n",
       "    <tr>\n",
       "      <th>3</th>\n",
       "      <td>El Taco Loco</td>\n",
       "      <td>True</td>\n",
       "      <td>26</td>\n",
       "    </tr>\n",
       "    <tr>\n",
       "      <th>4</th>\n",
       "      <td>Grande Tacos</td>\n",
       "      <td>False</td>\n",
       "      <td>67</td>\n",
       "    </tr>\n",
       "    <tr>\n",
       "      <th>5</th>\n",
       "      <td>Grande Tacos</td>\n",
       "      <td>True</td>\n",
       "      <td>39</td>\n",
       "    </tr>\n",
       "    <tr>\n",
       "      <th>6</th>\n",
       "      <td>La Vida Taco</td>\n",
       "      <td>False</td>\n",
       "      <td>68</td>\n",
       "    </tr>\n",
       "    <tr>\n",
       "      <th>7</th>\n",
       "      <td>La Vida Taco</td>\n",
       "      <td>True</td>\n",
       "      <td>30</td>\n",
       "    </tr>\n",
       "    <tr>\n",
       "      <th>8</th>\n",
       "      <td>Spicy Taco House</td>\n",
       "      <td>False</td>\n",
       "      <td>82</td>\n",
       "    </tr>\n",
       "    <tr>\n",
       "      <th>9</th>\n",
       "      <td>Spicy Taco House</td>\n",
       "      <td>True</td>\n",
       "      <td>18</td>\n",
       "    </tr>\n",
       "    <tr>\n",
       "      <th>10</th>\n",
       "      <td>Taco Fiesta</td>\n",
       "      <td>False</td>\n",
       "      <td>74</td>\n",
       "    </tr>\n",
       "    <tr>\n",
       "      <th>11</th>\n",
       "      <td>Taco Fiesta</td>\n",
       "      <td>True</td>\n",
       "      <td>25</td>\n",
       "    </tr>\n",
       "    <tr>\n",
       "      <th>12</th>\n",
       "      <td>Taco Haven</td>\n",
       "      <td>False</td>\n",
       "      <td>69</td>\n",
       "    </tr>\n",
       "    <tr>\n",
       "      <th>13</th>\n",
       "      <td>Taco Haven</td>\n",
       "      <td>True</td>\n",
       "      <td>26</td>\n",
       "    </tr>\n",
       "    <tr>\n",
       "      <th>14</th>\n",
       "      <td>Taco Time Express</td>\n",
       "      <td>False</td>\n",
       "      <td>66</td>\n",
       "    </tr>\n",
       "    <tr>\n",
       "      <th>15</th>\n",
       "      <td>Taco Time Express</td>\n",
       "      <td>True</td>\n",
       "      <td>25</td>\n",
       "    </tr>\n",
       "    <tr>\n",
       "      <th>16</th>\n",
       "      <td>The Taco Stand</td>\n",
       "      <td>False</td>\n",
       "      <td>77</td>\n",
       "    </tr>\n",
       "    <tr>\n",
       "      <th>17</th>\n",
       "      <td>The Taco Stand</td>\n",
       "      <td>True</td>\n",
       "      <td>28</td>\n",
       "    </tr>\n",
       "    <tr>\n",
       "      <th>18</th>\n",
       "      <td>Urban Tacos</td>\n",
       "      <td>False</td>\n",
       "      <td>87</td>\n",
       "    </tr>\n",
       "    <tr>\n",
       "      <th>19</th>\n",
       "      <td>Urban Tacos</td>\n",
       "      <td>True</td>\n",
       "      <td>30</td>\n",
       "    </tr>\n",
       "  </tbody>\n",
       "</table>\n",
       "</div>"
      ],
      "text/plain": [
       "      Restaurant Name  Weekend Order  Count\n",
       "0       Casa del Taco          False     76\n",
       "1       Casa del Taco           True     28\n",
       "2        El Taco Loco          False     59\n",
       "3        El Taco Loco           True     26\n",
       "4        Grande Tacos          False     67\n",
       "5        Grande Tacos           True     39\n",
       "6        La Vida Taco          False     68\n",
       "7        La Vida Taco           True     30\n",
       "8    Spicy Taco House          False     82\n",
       "9    Spicy Taco House           True     18\n",
       "10        Taco Fiesta          False     74\n",
       "11        Taco Fiesta           True     25\n",
       "12         Taco Haven          False     69\n",
       "13         Taco Haven           True     26\n",
       "14  Taco Time Express          False     66\n",
       "15  Taco Time Express           True     25\n",
       "16     The Taco Stand          False     77\n",
       "17     The Taco Stand           True     28\n",
       "18        Urban Tacos          False     87\n",
       "19        Urban Tacos           True     30"
      ]
     },
     "execution_count": 18,
     "metadata": {},
     "output_type": "execute_result"
    }
   ],
   "source": [
    "classifi_or = df.groupby([\"Restaurant Name\", \"Weekend Order\"]).size().reset_index(name=\"Count\")\n",
    "classifi_or"
   ]
  },
  {
   "cell_type": "code",
   "execution_count": 19,
   "id": "3981e9d3",
   "metadata": {
    "execution": {
     "iopub.execute_input": "2025-06-23T15:43:03.308923Z",
     "iopub.status.busy": "2025-06-23T15:43:03.308587Z",
     "iopub.status.idle": "2025-06-23T15:43:05.694038Z",
     "shell.execute_reply": "2025-06-23T15:43:05.692959Z"
    },
    "papermill": {
     "duration": 2.399122,
     "end_time": "2025-06-23T15:43:05.695668",
     "exception": false,
     "start_time": "2025-06-23T15:43:03.296546",
     "status": "completed"
    },
    "tags": []
   },
   "outputs": [
    {
     "data": {
      "text/html": [
       "<iframe\n",
       "    scrolling=\"no\"\n",
       "    width=\"100%\"\n",
       "    height=\"545px\"\n",
       "    src=\"iframe_figures/figure_19.html\"\n",
       "    frameborder=\"0\"\n",
       "    allowfullscreen\n",
       "></iframe>\n"
      ]
     },
     "metadata": {},
     "output_type": "display_data"
    }
   ],
   "source": [
    "fig = px.bar(classifi_or, x=\"Restaurant Name\", y=\"Count\", color=\"Weekend Order\")\n",
    "fig.show()"
   ]
  },
  {
   "cell_type": "markdown",
   "id": "0728291a",
   "metadata": {
    "papermill": {
     "duration": 0.013294,
     "end_time": "2025-06-23T15:43:05.721778",
     "exception": false,
     "start_time": "2025-06-23T15:43:05.708484",
     "status": "completed"
    },
    "tags": []
   },
   "source": [
    "### Difference between order time and delivery time & duration"
   ]
  },
  {
   "cell_type": "code",
   "execution_count": 20,
   "id": "60d1481e",
   "metadata": {
    "execution": {
     "iopub.execute_input": "2025-06-23T15:43:05.744409Z",
     "iopub.status.busy": "2025-06-23T15:43:05.743468Z",
     "iopub.status.idle": "2025-06-23T15:43:05.857781Z",
     "shell.execute_reply": "2025-06-23T15:43:05.856983Z"
    },
    "papermill": {
     "duration": 0.127242,
     "end_time": "2025-06-23T15:43:05.859443",
     "exception": false,
     "start_time": "2025-06-23T15:43:05.732201",
     "status": "completed"
    },
    "tags": []
   },
   "outputs": [
    {
     "data": {
      "text/html": [
       "<iframe\n",
       "    scrolling=\"no\"\n",
       "    width=\"100%\"\n",
       "    height=\"545px\"\n",
       "    src=\"iframe_figures/figure_20.html\"\n",
       "    frameborder=\"0\"\n",
       "    allowfullscreen\n",
       "></iframe>\n"
      ]
     },
     "metadata": {},
     "output_type": "display_data"
    }
   ],
   "source": [
    "classifi_t=df[[\"Order Time\",\"Delivery Clock Time\",\"Delivery Duration (min)\"]]\n",
    "classifi_t\n",
    "fig = px.scatter(df, x=\"Order Time\", y=\"Delivery Clock Time\", color=\"Delivery Duration (min)\",\n",
    "                 title=\"Order Time vs Delivery Clock Time\")\n",
    "fig.show()\n"
   ]
  },
  {
   "cell_type": "markdown",
   "id": "7da8f026",
   "metadata": {
    "papermill": {
     "duration": 0.016203,
     "end_time": "2025-06-23T15:43:05.889914",
     "exception": false,
     "start_time": "2025-06-23T15:43:05.873711",
     "status": "completed"
    },
    "tags": []
   },
   "source": [
    "### Average Delivery Duration Count By Restaurant"
   ]
  },
  {
   "cell_type": "code",
   "execution_count": 21,
   "id": "4b90afed",
   "metadata": {
    "execution": {
     "iopub.execute_input": "2025-06-23T15:43:05.924030Z",
     "iopub.status.busy": "2025-06-23T15:43:05.923112Z",
     "iopub.status.idle": "2025-06-23T15:43:06.417114Z",
     "shell.execute_reply": "2025-06-23T15:43:06.415965Z"
    },
    "papermill": {
     "duration": 0.517537,
     "end_time": "2025-06-23T15:43:06.418786",
     "exception": false,
     "start_time": "2025-06-23T15:43:05.901249",
     "status": "completed"
    },
    "tags": []
   },
   "outputs": [
    {
     "data": {
      "image/png": "[encoded data removed]",
      "text/plain": [
       "<Figure size 1200x600 with 1 Axes>"
      ]
     },
     "metadata": {},
     "output_type": "display_data"
    }
   ],
   "source": [
    "classifi_re=df.groupby(\"Restaurant Name\")[\"Delivery Duration (min)\"].mean().reset_index()\n",
    "classifi_re\n",
    "plt.figure(figsize=(12,6))\n",
    "sns.set_style(\"whitegrid\")\n",
    "sns.barplot(data=classifi_re,x=\"Restaurant Name\",y=\"Delivery Duration (min)\")\n",
    "plt.title(\"Average Delivery Duration Count By Restaurant\",fontsize=15)\n",
    "plt.xticks(rotation=45,ha=\"right\")\n",
    "plt.show()"
   ]
  },
  {
   "cell_type": "code",
   "execution_count": 22,
   "id": "b0caefcd",
   "metadata": {
    "execution": {
     "iopub.execute_input": "2025-06-23T15:43:06.444001Z",
     "iopub.status.busy": "2025-06-23T15:43:06.443663Z",
     "iopub.status.idle": "2025-06-23T15:43:07.462043Z",
     "shell.execute_reply": "2025-06-23T15:43:07.460949Z"
    },
    "papermill": {
     "duration": 1.032721,
     "end_time": "2025-06-23T15:43:07.464020",
     "exception": false,
     "start_time": "2025-06-23T15:43:06.431299",
     "status": "completed"
    },
    "tags": []
   },
   "outputs": [
    {
     "name": "stderr",
     "output_type": "stream",
     "text": [
      "/usr/local/lib/python3.11/dist-packages/seaborn/_oldcore.py:1119: FutureWarning:\n",
      "\n",
      "use_inf_as_na option is deprecated and will be removed in a future version. Convert inf values to NaN before operating instead.\n",
      "\n",
      "/usr/local/lib/python3.11/dist-packages/seaborn/_oldcore.py:1075: FutureWarning:\n",
      "\n",
      "When grouping with a length-1 list-like, you will need to pass a length-1 tuple to get_group in a future version of pandas. Pass `(name,)` instead of `name` to silence this warning.\n",
      "\n",
      "/usr/local/lib/python3.11/dist-packages/seaborn/_oldcore.py:1075: FutureWarning:\n",
      "\n",
      "When grouping with a length-1 list-like, you will need to pass a length-1 tuple to get_group in a future version of pandas. Pass `(name,)` instead of `name` to silence this warning.\n",
      "\n",
      "/usr/local/lib/python3.11/dist-packages/seaborn/_oldcore.py:1075: FutureWarning:\n",
      "\n",
      "When grouping with a length-1 list-like, you will need to pass a length-1 tuple to get_group in a future version of pandas. Pass `(name,)` instead of `name` to silence this warning.\n",
      "\n",
      "/usr/local/lib/python3.11/dist-packages/seaborn/_oldcore.py:1075: FutureWarning:\n",
      "\n",
      "When grouping with a length-1 list-like, you will need to pass a length-1 tuple to get_group in a future version of pandas. Pass `(name,)` instead of `name` to silence this warning.\n",
      "\n",
      "/usr/local/lib/python3.11/dist-packages/seaborn/_oldcore.py:1075: FutureWarning:\n",
      "\n",
      "When grouping with a length-1 list-like, you will need to pass a length-1 tuple to get_group in a future version of pandas. Pass `(name,)` instead of `name` to silence this warning.\n",
      "\n",
      "/usr/local/lib/python3.11/dist-packages/seaborn/_oldcore.py:1075: FutureWarning:\n",
      "\n",
      "When grouping with a length-1 list-like, you will need to pass a length-1 tuple to get_group in a future version of pandas. Pass `(name,)` instead of `name` to silence this warning.\n",
      "\n",
      "/usr/local/lib/python3.11/dist-packages/seaborn/_oldcore.py:1075: FutureWarning:\n",
      "\n",
      "When grouping with a length-1 list-like, you will need to pass a length-1 tuple to get_group in a future version of pandas. Pass `(name,)` instead of `name` to silence this warning.\n",
      "\n"
     ]
    },
    {
     "data": {
      "image/png": "[encoded data removed]",
      "text/plain": [
       "<Figure size 1500x1000 with 1 Axes>"
      ]
     },
     "metadata": {},
     "output_type": "display_data"
    }
   ],
   "source": [
    "plt.figure(figsize=(15,10))\n",
    "sns.histplot(data=df,edgecolor=\"black\")\n",
    "plt.title(\"Classification Table\",fontsize=15)\n",
    "plt.show()"
   ]
  },
  {
   "cell_type": "markdown",
   "id": "bc898fc5",
   "metadata": {
    "papermill": {
     "duration": 0.011849,
     "end_time": "2025-06-23T15:43:07.489825",
     "exception": false,
     "start_time": "2025-06-23T15:43:07.477976",
     "status": "completed"
    },
    "tags": []
   },
   "source": [
    "## Machine Learning"
   ]
  },
  {
   "cell_type": "code",
   "execution_count": 23,
   "id": "b6d7d7fa",
   "metadata": {
    "execution": {
     "iopub.execute_input": "2025-06-23T15:43:07.516548Z",
     "iopub.status.busy": "2025-06-23T15:43:07.516062Z",
     "iopub.status.idle": "2025-06-23T15:43:07.527532Z",
     "shell.execute_reply": "2025-06-23T15:43:07.526561Z"
    },
    "papermill": {
     "duration": 0.02781,
     "end_time": "2025-06-23T15:43:07.529415",
     "exception": false,
     "start_time": "2025-06-23T15:43:07.501605",
     "status": "completed"
    },
    "tags": []
   },
   "outputs": [],
   "source": [
    "df[\"Delivery Date\"]=pd.to_datetime(df[\"Delivery Date\"],errors=\"coerce\")\n"
   ]
  },
  {
   "cell_type": "code",
   "execution_count": 24,
   "id": "2e77b5fc",
   "metadata": {
    "execution": {
     "iopub.execute_input": "2025-06-23T15:43:07.558947Z",
     "iopub.status.busy": "2025-06-23T15:43:07.558581Z",
     "iopub.status.idle": "2025-06-23T15:43:07.567537Z",
     "shell.execute_reply": "2025-06-23T15:43:07.566562Z"
    },
    "papermill": {
     "duration": 0.025973,
     "end_time": "2025-06-23T15:43:07.569329",
     "exception": false,
     "start_time": "2025-06-23T15:43:07.543356",
     "status": "completed"
    },
    "tags": []
   },
   "outputs": [],
   "source": [
    "df[\"Delivery Year\"]=df[\"Delivery Date\"].dt.year\n",
    "df[\"Delivery Month\"]=df[\"Delivery Date\"].dt.month\n",
    "df[\"Delivery Day\"]=df[\"Delivery Date\"].dt.day"
   ]
  },
  {
   "cell_type": "code",
   "execution_count": 25,
   "id": "3b1f3746",
   "metadata": {
    "execution": {
     "iopub.execute_input": "2025-06-23T15:43:07.597282Z",
     "iopub.status.busy": "2025-06-23T15:43:07.596935Z",
     "iopub.status.idle": "2025-06-23T15:43:07.607508Z",
     "shell.execute_reply": "2025-06-23T15:43:07.605957Z"
    },
    "papermill": {
     "duration": 0.02734,
     "end_time": "2025-06-23T15:43:07.609133",
     "exception": false,
     "start_time": "2025-06-23T15:43:07.581793",
     "status": "completed"
    },
    "tags": []
   },
   "outputs": [],
   "source": [
    "df[[\"Delivery Year\",\"Delivery Month\",\"Delivery Day\"]]=df[[\"Delivery Year\",\"Delivery Month\",\"Delivery Day\"]].apply(lambda x: x.fillna(x.mean()))"
   ]
  },
  {
   "cell_type": "code",
   "execution_count": 26,
   "id": "47575efe",
   "metadata": {
    "execution": {
     "iopub.execute_input": "2025-06-23T15:43:07.636721Z",
     "iopub.status.busy": "2025-06-23T15:43:07.636345Z",
     "iopub.status.idle": "2025-06-23T15:43:07.644062Z",
     "shell.execute_reply": "2025-06-23T15:43:07.643145Z"
    },
    "papermill": {
     "duration": 0.024181,
     "end_time": "2025-06-23T15:43:07.645796",
     "exception": false,
     "start_time": "2025-06-23T15:43:07.621615",
     "status": "completed"
    },
    "tags": []
   },
   "outputs": [],
   "source": [
    "df[[\"Delivery Year\",\"Delivery Month\",\"Delivery Day\"]]=df[[\"Delivery Year\",\"Delivery Month\",\"Delivery Day\"]].astype(int)"
   ]
  },
  {
   "cell_type": "code",
   "execution_count": 27,
   "id": "afc28891",
   "metadata": {
    "execution": {
     "iopub.execute_input": "2025-06-23T15:43:07.672391Z",
     "iopub.status.busy": "2025-06-23T15:43:07.672022Z",
     "iopub.status.idle": "2025-06-23T15:43:07.684718Z",
     "shell.execute_reply": "2025-06-23T15:43:07.683934Z"
    },
    "papermill": {
     "duration": 0.028055,
     "end_time": "2025-06-23T15:43:07.686406",
     "exception": false,
     "start_time": "2025-06-23T15:43:07.658351",
     "status": "completed"
    },
    "tags": []
   },
   "outputs": [],
   "source": [
    "df[\"Order Time\"]=pd.to_datetime(df[\"Order Time\"],errors=\"coerce\")\n",
    "df[\"Order Year\"]=df[\"Order Time\"].dt.year\n",
    "df[\"Order Month\"]=df[\"Order Time\"].dt.month\n",
    "df[\"Order Day\"]=df[\"Order Time\"].dt.day"
   ]
  },
  {
   "cell_type": "code",
   "execution_count": 28,
   "id": "d9c0510c",
   "metadata": {
    "execution": {
     "iopub.execute_input": "2025-06-23T15:43:07.712120Z",
     "iopub.status.busy": "2025-06-23T15:43:07.711031Z",
     "iopub.status.idle": "2025-06-23T15:43:07.719554Z",
     "shell.execute_reply": "2025-06-23T15:43:07.718413Z"
    },
    "papermill": {
     "duration": 0.022931,
     "end_time": "2025-06-23T15:43:07.721288",
     "exception": false,
     "start_time": "2025-06-23T15:43:07.698357",
     "status": "completed"
    },
    "tags": []
   },
   "outputs": [],
   "source": [
    "df[[\"Order Year\",\"Order Month\",\"Order Day\"]]=df[[\"Order Year\",\"Order Month\",\"Order Day\"]].apply(lambda x: x.fillna(x.mean()))"
   ]
  },
  {
   "cell_type": "code",
   "execution_count": 29,
   "id": "1fd3cd71",
   "metadata": {
    "execution": {
     "iopub.execute_input": "2025-06-23T15:43:07.747510Z",
     "iopub.status.busy": "2025-06-23T15:43:07.747158Z",
     "iopub.status.idle": "2025-06-23T15:43:07.754355Z",
     "shell.execute_reply": "2025-06-23T15:43:07.753369Z"
    },
    "papermill": {
     "duration": 0.022574,
     "end_time": "2025-06-23T15:43:07.756156",
     "exception": false,
     "start_time": "2025-06-23T15:43:07.733582",
     "status": "completed"
    },
    "tags": []
   },
   "outputs": [],
   "source": [
    "df[[\"Order Year\",\"Order Month\",\"Order Day\"]]=df[[\"Order Year\",\"Order Month\",\"Order Day\"]].astype(int)"
   ]
  },
  {
   "cell_type": "code",
   "execution_count": 30,
   "id": "0e84622f",
   "metadata": {
    "execution": {
     "iopub.execute_input": "2025-06-23T15:43:07.783561Z",
     "iopub.status.busy": "2025-06-23T15:43:07.783223Z",
     "iopub.status.idle": "2025-06-23T15:43:07.789290Z",
     "shell.execute_reply": "2025-06-23T15:43:07.788543Z"
    },
    "papermill": {
     "duration": 0.022291,
     "end_time": "2025-06-23T15:43:07.790694",
     "exception": false,
     "start_time": "2025-06-23T15:43:07.768403",
     "status": "completed"
    },
    "tags": []
   },
   "outputs": [],
   "source": [
    "df.drop(columns=[\"Delivery Date\",\"Order Time\"],inplace=True)"
   ]
  },
  {
   "cell_type": "code",
   "execution_count": 31,
   "id": "11bebcc9",
   "metadata": {
    "execution": {
     "iopub.execute_input": "2025-06-23T15:43:07.816059Z",
     "iopub.status.busy": "2025-06-23T15:43:07.815761Z",
     "iopub.status.idle": "2025-06-23T15:43:07.823856Z",
     "shell.execute_reply": "2025-06-23T15:43:07.822917Z"
    },
    "papermill": {
     "duration": 0.022796,
     "end_time": "2025-06-23T15:43:07.825416",
     "exception": false,
     "start_time": "2025-06-23T15:43:07.802620",
     "status": "completed"
    },
    "tags": []
   },
   "outputs": [
    {
     "data": {
      "text/plain": [
       "Taco Type\n",
       "Chicken Taco    218\n",
       "Fish Taco       211\n",
       "Veggie Taco     197\n",
       "Pork Taco       192\n",
       "Beef Taco       182\n",
       "Name: count, dtype: int64"
      ]
     },
     "execution_count": 31,
     "metadata": {},
     "output_type": "execute_result"
    }
   ],
   "source": [
    "df[\"Taco Type\"].value_counts()"
   ]
  },
  {
   "cell_type": "markdown",
   "id": "e6f2779f",
   "metadata": {
    "papermill": {
     "duration": 0.013094,
     "end_time": "2025-06-23T15:43:07.850689",
     "exception": false,
     "start_time": "2025-06-23T15:43:07.837595",
     "status": "completed"
    },
    "tags": []
   },
   "source": [
    "### To find out which category corresponds to which number using maping"
   ]
  },
  {
   "cell_type": "code",
   "execution_count": 32,
   "id": "ffc47359",
   "metadata": {
    "execution": {
     "iopub.execute_input": "2025-06-23T15:43:07.879015Z",
     "iopub.status.busy": "2025-06-23T15:43:07.878562Z",
     "iopub.status.idle": "2025-06-23T15:43:07.886567Z",
     "shell.execute_reply": "2025-06-23T15:43:07.885559Z"
    },
    "papermill": {
     "duration": 0.023735,
     "end_time": "2025-06-23T15:43:07.888312",
     "exception": false,
     "start_time": "2025-06-23T15:43:07.864577",
     "status": "completed"
    },
    "tags": []
   },
   "outputs": [
    {
     "name": "stdout",
     "output_type": "stream",
     "text": [
      "Taco Size Mapping: {'Large': 0, 'Regular': 1}\n"
     ]
    }
   ],
   "source": [
    "le=LabelEncoder()\n",
    "df[\"Taco Size\"] = le.fit_transform(df[\"Taco Size\"])\n",
    "label_mapping_size = dict(zip(le.classes_, le.transform(le.classes_)))\n",
    "print(\"Taco Size Mapping:\", label_mapping_size)"
   ]
  },
  {
   "cell_type": "code",
   "execution_count": 33,
   "id": "397c41fc",
   "metadata": {
    "execution": {
     "iopub.execute_input": "2025-06-23T15:43:07.914840Z",
     "iopub.status.busy": "2025-06-23T15:43:07.914529Z",
     "iopub.status.idle": "2025-06-23T15:43:07.921310Z",
     "shell.execute_reply": "2025-06-23T15:43:07.920007Z"
    },
    "papermill": {
     "duration": 0.021787,
     "end_time": "2025-06-23T15:43:07.922757",
     "exception": false,
     "start_time": "2025-06-23T15:43:07.900970",
     "status": "completed"
    },
    "tags": []
   },
   "outputs": [
    {
     "name": "stdout",
     "output_type": "stream",
     "text": [
      "Taco Type Mapping: {'Beef Taco': 0, 'Chicken Taco': 1, 'Fish Taco': 2, 'Pork Taco': 3, 'Veggie Taco': 4}\n"
     ]
    }
   ],
   "source": [
    "df[\"Taco Type\"] = le.fit_transform(df[\"Taco Type\"])\n",
    "label_mapping_type = dict(zip(le.classes_, le.transform(le.classes_)))\n",
    "print(\"Taco Type Mapping:\", label_mapping_type)"
   ]
  },
  {
   "cell_type": "code",
   "execution_count": 34,
   "id": "080764e5",
   "metadata": {
    "execution": {
     "iopub.execute_input": "2025-06-23T15:43:07.948981Z",
     "iopub.status.busy": "2025-06-23T15:43:07.948677Z",
     "iopub.status.idle": "2025-06-23T15:43:07.956189Z",
     "shell.execute_reply": "2025-06-23T15:43:07.955077Z"
    },
    "papermill": {
     "duration": 0.022373,
     "end_time": "2025-06-23T15:43:07.957829",
     "exception": false,
     "start_time": "2025-06-23T15:43:07.935456",
     "status": "completed"
    },
    "tags": []
   },
   "outputs": [
    {
     "name": "stdout",
     "output_type": "stream",
     "text": [
      "Location Mapping: {'Austin': 0, 'Chicago': 1, 'Dallas': 2, 'Houston': 3, 'Los Angeles': 4, 'New York': 5, 'Phoenix': 6, 'San Antonio': 7, 'San Diego': 8, 'San Jose': 9}\n"
     ]
    }
   ],
   "source": [
    "le=LabelEncoder()\n",
    "df[\"Location\"] = le.fit_transform(df[\"Location\"])\n",
    "label_mapping_size = dict(zip(le.classes_, le.transform(le.classes_)))\n",
    "print(\"Location Mapping:\", label_mapping_size)"
   ]
  },
  {
   "cell_type": "code",
   "execution_count": 35,
   "id": "9c0c48f4",
   "metadata": {
    "execution": {
     "iopub.execute_input": "2025-06-23T15:43:07.984539Z",
     "iopub.status.busy": "2025-06-23T15:43:07.984214Z",
     "iopub.status.idle": "2025-06-23T15:43:07.990881Z",
     "shell.execute_reply": "2025-06-23T15:43:07.989627Z"
    },
    "papermill": {
     "duration": 0.021762,
     "end_time": "2025-06-23T15:43:07.992557",
     "exception": false,
     "start_time": "2025-06-23T15:43:07.970795",
     "status": "completed"
    },
    "tags": []
   },
   "outputs": [
    {
     "name": "stdout",
     "output_type": "stream",
     "text": [
      "Restaurant Mapping: {'Casa del Taco': 0, 'El Taco Loco': 1, 'Grande Tacos': 2, 'La Vida Taco': 3, 'Spicy Taco House': 4, 'Taco Fiesta': 5, 'Taco Haven': 6, 'Taco Time Express': 7, 'The Taco Stand': 8, 'Urban Tacos': 9}\n"
     ]
    }
   ],
   "source": [
    "le=LabelEncoder()\n",
    "df[\"Restaurant Name\"] = le.fit_transform(df[\"Restaurant Name\"])\n",
    "label_mapping_size = dict(zip(le.classes_, le.transform(le.classes_)))\n",
    "print(\"Restaurant Mapping:\", label_mapping_size)"
   ]
  },
  {
   "cell_type": "code",
   "execution_count": 36,
   "id": "13f5c0a3",
   "metadata": {
    "execution": {
     "iopub.execute_input": "2025-06-23T15:43:08.018814Z",
     "iopub.status.busy": "2025-06-23T15:43:08.018461Z",
     "iopub.status.idle": "2025-06-23T15:43:08.023437Z",
     "shell.execute_reply": "2025-06-23T15:43:08.022544Z"
    },
    "papermill": {
     "duration": 0.019732,
     "end_time": "2025-06-23T15:43:08.024950",
     "exception": false,
     "start_time": "2025-06-23T15:43:08.005218",
     "status": "completed"
    },
    "tags": []
   },
   "outputs": [],
   "source": [
    "df[\"Weekend Order\"]=df[\"Weekend Order\"].astype(int)  ## Converting boiol dtype column into numeric "
   ]
  },
  {
   "cell_type": "code",
   "execution_count": 37,
   "id": "ea5e4c5e",
   "metadata": {
    "execution": {
     "iopub.execute_input": "2025-06-23T15:43:08.050835Z",
     "iopub.status.busy": "2025-06-23T15:43:08.050167Z",
     "iopub.status.idle": "2025-06-23T15:43:08.064537Z",
     "shell.execute_reply": "2025-06-23T15:43:08.063611Z"
    },
    "papermill": {
     "duration": 0.028982,
     "end_time": "2025-06-23T15:43:08.066059",
     "exception": false,
     "start_time": "2025-06-23T15:43:08.037077",
     "status": "completed"
    },
    "tags": []
   },
   "outputs": [
    {
     "data": {
      "text/html": [
       "<div>\n",
       "<style scoped>\n",
       "    .dataframe tbody tr th:only-of-type {\n",
       "        vertical-align: middle;\n",
       "    }\n",
       "\n",
       "    .dataframe tbody tr th {\n",
       "        vertical-align: top;\n",
       "    }\n",
       "\n",
       "    .dataframe thead th {\n",
       "        text-align: right;\n",
       "    }\n",
       "</style>\n",
       "<table border=\"1\" class=\"dataframe\">\n",
       "  <thead>\n",
       "    <tr style=\"text-align: right;\">\n",
       "      <th></th>\n",
       "      <th>Restaurant Name</th>\n",
       "      <th>Location</th>\n",
       "      <th>Delivery Duration (min)</th>\n",
       "      <th>Taco Size</th>\n",
       "      <th>Taco Type</th>\n",
       "      <th>Toppings Count</th>\n",
       "      <th>Distance (km)</th>\n",
       "      <th>Price ($)</th>\n",
       "      <th>Tip ($)</th>\n",
       "      <th>Weekend Order</th>\n",
       "      <th>Delivery Clock Time</th>\n",
       "      <th>Delivery Year</th>\n",
       "      <th>Delivery Month</th>\n",
       "      <th>Delivery Day</th>\n",
       "      <th>Order Year</th>\n",
       "      <th>Order Month</th>\n",
       "      <th>Order Day</th>\n",
       "    </tr>\n",
       "  </thead>\n",
       "  <tbody>\n",
       "    <tr>\n",
       "      <th>0</th>\n",
       "      <td>1</td>\n",
       "      <td>5</td>\n",
       "      <td>41</td>\n",
       "      <td>1</td>\n",
       "      <td>1</td>\n",
       "      <td>5</td>\n",
       "      <td>3.01</td>\n",
       "      <td>9.25</td>\n",
       "      <td>2.22</td>\n",
       "      <td>0</td>\n",
       "      <td>15:36</td>\n",
       "      <td>2024</td>\n",
       "      <td>1</td>\n",
       "      <td>8</td>\n",
       "      <td>2024</td>\n",
       "      <td>1</td>\n",
       "      <td>8</td>\n",
       "    </tr>\n",
       "    <tr>\n",
       "      <th>1</th>\n",
       "      <td>1</td>\n",
       "      <td>7</td>\n",
       "      <td>14</td>\n",
       "      <td>1</td>\n",
       "      <td>0</td>\n",
       "      <td>1</td>\n",
       "      <td>6.20</td>\n",
       "      <td>4.25</td>\n",
       "      <td>3.01</td>\n",
       "      <td>1</td>\n",
       "      <td>17:25</td>\n",
       "      <td>2024</td>\n",
       "      <td>6</td>\n",
       "      <td>5</td>\n",
       "      <td>2024</td>\n",
       "      <td>6</td>\n",
       "      <td>5</td>\n",
       "    </tr>\n",
       "    <tr>\n",
       "      <th>2</th>\n",
       "      <td>6</td>\n",
       "      <td>0</td>\n",
       "      <td>38</td>\n",
       "      <td>0</td>\n",
       "      <td>3</td>\n",
       "      <td>2</td>\n",
       "      <td>20.33</td>\n",
       "      <td>7.00</td>\n",
       "      <td>0.02</td>\n",
       "      <td>0</td>\n",
       "      <td>21:02</td>\n",
       "      <td>2024</td>\n",
       "      <td>6</td>\n",
       "      <td>5</td>\n",
       "      <td>2024</td>\n",
       "      <td>6</td>\n",
       "      <td>5</td>\n",
       "    </tr>\n",
       "    <tr>\n",
       "      <th>3</th>\n",
       "      <td>4</td>\n",
       "      <td>2</td>\n",
       "      <td>45</td>\n",
       "      <td>1</td>\n",
       "      <td>1</td>\n",
       "      <td>2</td>\n",
       "      <td>3.00</td>\n",
       "      <td>5.50</td>\n",
       "      <td>1.90</td>\n",
       "      <td>1</td>\n",
       "      <td>07:28</td>\n",
       "      <td>2024</td>\n",
       "      <td>6</td>\n",
       "      <td>5</td>\n",
       "      <td>2024</td>\n",
       "      <td>6</td>\n",
       "      <td>5</td>\n",
       "    </tr>\n",
       "    <tr>\n",
       "      <th>4</th>\n",
       "      <td>0</td>\n",
       "      <td>7</td>\n",
       "      <td>15</td>\n",
       "      <td>0</td>\n",
       "      <td>3</td>\n",
       "      <td>0</td>\n",
       "      <td>24.34</td>\n",
       "      <td>4.50</td>\n",
       "      <td>1.14</td>\n",
       "      <td>0</td>\n",
       "      <td>11:16</td>\n",
       "      <td>2024</td>\n",
       "      <td>6</td>\n",
       "      <td>5</td>\n",
       "      <td>2024</td>\n",
       "      <td>6</td>\n",
       "      <td>5</td>\n",
       "    </tr>\n",
       "  </tbody>\n",
       "</table>\n",
       "</div>"
      ],
      "text/plain": [
       "   Restaurant Name  Location  Delivery Duration (min)  Taco Size  Taco Type  \\\n",
       "0                1         5                       41          1          1   \n",
       "1                1         7                       14          1          0   \n",
       "2                6         0                       38          0          3   \n",
       "3                4         2                       45          1          1   \n",
       "4                0         7                       15          0          3   \n",
       "\n",
       "   Toppings Count  Distance (km)  Price ($)  Tip ($)  Weekend Order  \\\n",
       "0               5           3.01       9.25     2.22              0   \n",
       "1               1           6.20       4.25     3.01              1   \n",
       "2               2          20.33       7.00     0.02              0   \n",
       "3               2           3.00       5.50     1.90              1   \n",
       "4               0          24.34       4.50     1.14              0   \n",
       "\n",
       "  Delivery Clock Time  Delivery Year  Delivery Month  Delivery Day  \\\n",
       "0               15:36           2024               1             8   \n",
       "1               17:25           2024               6             5   \n",
       "2               21:02           2024               6             5   \n",
       "3               07:28           2024               6             5   \n",
       "4               11:16           2024               6             5   \n",
       "\n",
       "   Order Year  Order Month  Order Day  \n",
       "0        2024            1          8  \n",
       "1        2024            6          5  \n",
       "2        2024            6          5  \n",
       "3        2024            6          5  \n",
       "4        2024            6          5  "
      ]
     },
     "execution_count": 37,
     "metadata": {},
     "output_type": "execute_result"
    }
   ],
   "source": [
    "df.head()"
   ]
  },
  {
   "cell_type": "code",
   "execution_count": 38,
   "id": "870967b3",
   "metadata": {
    "execution": {
     "iopub.execute_input": "2025-06-23T15:43:08.092696Z",
     "iopub.status.busy": "2025-06-23T15:43:08.092331Z",
     "iopub.status.idle": "2025-06-23T15:43:08.101903Z",
     "shell.execute_reply": "2025-06-23T15:43:08.100998Z"
    },
    "papermill": {
     "duration": 0.024631,
     "end_time": "2025-06-23T15:43:08.103454",
     "exception": false,
     "start_time": "2025-06-23T15:43:08.078823",
     "status": "completed"
    },
    "tags": []
   },
   "outputs": [],
   "source": [
    "df[\"Delivery Clock Time\"] = pd.to_datetime(df[\"Delivery Clock Time\"], format=\"%H:%M\", errors=\"coerce\")\n",
    "df[\"Delivery Time\"]=df[\"Delivery Clock Time\"].dt.time\n"
   ]
  },
  {
   "cell_type": "code",
   "execution_count": 39,
   "id": "618ff6a2",
   "metadata": {
    "execution": {
     "iopub.execute_input": "2025-06-23T15:43:08.130405Z",
     "iopub.status.busy": "2025-06-23T15:43:08.130033Z",
     "iopub.status.idle": "2025-06-23T15:43:08.135856Z",
     "shell.execute_reply": "2025-06-23T15:43:08.134985Z"
    },
    "papermill": {
     "duration": 0.021347,
     "end_time": "2025-06-23T15:43:08.137492",
     "exception": false,
     "start_time": "2025-06-23T15:43:08.116145",
     "status": "completed"
    },
    "tags": []
   },
   "outputs": [],
   "source": [
    "df.drop(columns=[\"Delivery Clock Time\",\"Delivery Time\"],inplace=True) # Removing Columns"
   ]
  },
  {
   "cell_type": "code",
   "execution_count": 40,
   "id": "11f27016",
   "metadata": {
    "execution": {
     "iopub.execute_input": "2025-06-23T15:43:08.165601Z",
     "iopub.status.busy": "2025-06-23T15:43:08.165311Z",
     "iopub.status.idle": "2025-06-23T15:43:08.177504Z",
     "shell.execute_reply": "2025-06-23T15:43:08.176341Z"
    },
    "papermill": {
     "duration": 0.028492,
     "end_time": "2025-06-23T15:43:08.179111",
     "exception": false,
     "start_time": "2025-06-23T15:43:08.150619",
     "status": "completed"
    },
    "tags": []
   },
   "outputs": [
    {
     "name": "stdout",
     "output_type": "stream",
     "text": [
      "<class 'pandas.core.frame.DataFrame'>\n",
      "RangeIndex: 1000 entries, 0 to 999\n",
      "Data columns (total 16 columns):\n",
      " #   Column                   Non-Null Count  Dtype  \n",
      "---  ------                   --------------  -----  \n",
      " 0   Restaurant Name          1000 non-null   int64  \n",
      " 1   Location                 1000 non-null   int64  \n",
      " 2   Delivery Duration (min)  1000 non-null   int64  \n",
      " 3   Taco Size                1000 non-null   int64  \n",
      " 4   Taco Type                1000 non-null   int64  \n",
      " 5   Toppings Count           1000 non-null   int64  \n",
      " 6   Distance (km)            1000 non-null   float64\n",
      " 7   Price ($)                1000 non-null   float64\n",
      " 8   Tip ($)                  1000 non-null   float64\n",
      " 9   Weekend Order            1000 non-null   int64  \n",
      " 10  Delivery Year            1000 non-null   int64  \n",
      " 11  Delivery Month           1000 non-null   int64  \n",
      " 12  Delivery Day             1000 non-null   int64  \n",
      " 13  Order Year               1000 non-null   int64  \n",
      " 14  Order Month              1000 non-null   int64  \n",
      " 15  Order Day                1000 non-null   int64  \n",
      "dtypes: float64(3), int64(13)\n",
      "memory usage: 125.1 KB\n"
     ]
    }
   ],
   "source": [
    "df.info()"
   ]
  },
  {
   "cell_type": "code",
   "execution_count": 41,
   "id": "8bcf73ba",
   "metadata": {
    "execution": {
     "iopub.execute_input": "2025-06-23T15:43:08.205327Z",
     "iopub.status.busy": "2025-06-23T15:43:08.205002Z",
     "iopub.status.idle": "2025-06-23T15:43:08.214540Z",
     "shell.execute_reply": "2025-06-23T15:43:08.213532Z"
    },
    "papermill": {
     "duration": 0.024325,
     "end_time": "2025-06-23T15:43:08.216058",
     "exception": false,
     "start_time": "2025-06-23T15:43:08.191733",
     "status": "completed"
    },
    "tags": []
   },
   "outputs": [
    {
     "data": {
      "text/plain": [
       "Restaurant Name\n",
       "9    117\n",
       "2    106\n",
       "8    105\n",
       "0    104\n",
       "4    100\n",
       "5     99\n",
       "3     98\n",
       "6     95\n",
       "7     91\n",
       "1     85\n",
       "Name: count, dtype: int64"
      ]
     },
     "execution_count": 41,
     "metadata": {},
     "output_type": "execute_result"
    }
   ],
   "source": [
    "df[\"Restaurant Name\"].value_counts()"
   ]
  },
  {
   "cell_type": "code",
   "execution_count": 42,
   "id": "56e126fe",
   "metadata": {
    "execution": {
     "iopub.execute_input": "2025-06-23T15:43:08.243611Z",
     "iopub.status.busy": "2025-06-23T15:43:08.242949Z",
     "iopub.status.idle": "2025-06-23T15:43:08.254806Z",
     "shell.execute_reply": "2025-06-23T15:43:08.253682Z"
    },
    "papermill": {
     "duration": 0.027517,
     "end_time": "2025-06-23T15:43:08.256542",
     "exception": false,
     "start_time": "2025-06-23T15:43:08.229025",
     "status": "completed"
    },
    "tags": []
   },
   "outputs": [
    {
     "name": "stdout",
     "output_type": "stream",
     "text": [
      "<class 'pandas.core.frame.DataFrame'>\n",
      "RangeIndex: 1000 entries, 0 to 999\n",
      "Data columns (total 16 columns):\n",
      " #   Column                   Non-Null Count  Dtype  \n",
      "---  ------                   --------------  -----  \n",
      " 0   Restaurant Name          1000 non-null   int64  \n",
      " 1   Location                 1000 non-null   int64  \n",
      " 2   Delivery Duration (min)  1000 non-null   int64  \n",
      " 3   Taco Size                1000 non-null   int64  \n",
      " 4   Taco Type                1000 non-null   int64  \n",
      " 5   Toppings Count           1000 non-null   int64  \n",
      " 6   Distance (km)            1000 non-null   float64\n",
      " 7   Price ($)                1000 non-null   float64\n",
      " 8   Tip ($)                  1000 non-null   float64\n",
      " 9   Weekend Order            1000 non-null   int64  \n",
      " 10  Delivery Year            1000 non-null   int64  \n",
      " 11  Delivery Month           1000 non-null   int64  \n",
      " 12  Delivery Day             1000 non-null   int64  \n",
      " 13  Order Year               1000 non-null   int64  \n",
      " 14  Order Month              1000 non-null   int64  \n",
      " 15  Order Day                1000 non-null   int64  \n",
      "dtypes: float64(3), int64(13)\n",
      "memory usage: 125.1 KB\n"
     ]
    }
   ],
   "source": [
    "df.info()"
   ]
  },
  {
   "cell_type": "code",
   "execution_count": 43,
   "id": "8cc7f471",
   "metadata": {
    "execution": {
     "iopub.execute_input": "2025-06-23T15:43:08.283327Z",
     "iopub.status.busy": "2025-06-23T15:43:08.282967Z",
     "iopub.status.idle": "2025-06-23T15:43:08.290242Z",
     "shell.execute_reply": "2025-06-23T15:43:08.289190Z"
    },
    "papermill": {
     "duration": 0.022678,
     "end_time": "2025-06-23T15:43:08.292068",
     "exception": false,
     "start_time": "2025-06-23T15:43:08.269390",
     "status": "completed"
    },
    "tags": []
   },
   "outputs": [
    {
     "name": "stdout",
     "output_type": "stream",
     "text": [
      "Series([], dtype: object)\n",
      "Series([], dtype: object)\n"
     ]
    }
   ],
   "source": [
    "print(df.dtypes[df.dtypes == \"object\"])  # shows object-type columns\n",
    "print(df.dtypes[df.dtypes == \"datetime64[ns]\"])  # shows datetime columns\n"
   ]
  },
  {
   "cell_type": "code",
   "execution_count": 44,
   "id": "f61db247",
   "metadata": {
    "execution": {
     "iopub.execute_input": "2025-06-23T15:43:08.321534Z",
     "iopub.status.busy": "2025-06-23T15:43:08.321184Z",
     "iopub.status.idle": "2025-06-23T15:43:08.334544Z",
     "shell.execute_reply": "2025-06-23T15:43:08.333596Z"
    },
    "papermill": {
     "duration": 0.030215,
     "end_time": "2025-06-23T15:43:08.336566",
     "exception": false,
     "start_time": "2025-06-23T15:43:08.306351",
     "status": "completed"
    },
    "tags": []
   },
   "outputs": [],
   "source": [
    "df.fillna(df.mean(), inplace=True)  # Fill NaNs with mean values\n"
   ]
  },
  {
   "cell_type": "code",
   "execution_count": 45,
   "id": "f2e395ee",
   "metadata": {
    "execution": {
     "iopub.execute_input": "2025-06-23T15:43:08.363567Z",
     "iopub.status.busy": "2025-06-23T15:43:08.363213Z",
     "iopub.status.idle": "2025-06-23T15:43:08.424664Z",
     "shell.execute_reply": "2025-06-23T15:43:08.422623Z"
    },
    "papermill": {
     "duration": 0.077269,
     "end_time": "2025-06-23T15:43:08.426591",
     "exception": false,
     "start_time": "2025-06-23T15:43:08.349322",
     "status": "completed"
    },
    "tags": []
   },
   "outputs": [
    {
     "name": "stdout",
     "output_type": "stream",
     "text": [
      "MSE: 5.156685129816602e-29\n"
     ]
    }
   ],
   "source": [
    "x = df.drop(\"Price ($)\", axis=1)\n",
    "y = df[\"Price ($)\"]\n",
    "\n",
    "x_train, x_test, y_train, y_test = train_test_split(x, y, test_size=0.2, random_state=42)\n",
    "\n",
    "model = LinearRegression()\n",
    "model.fit(x_train, y_train)\n",
    "\n",
    "y_pred = model.predict(x_test)\n",
    "\n",
    "print(\"MSE:\", mean_squared_error(y_test, y_pred))\n"
   ]
  },
  {
   "cell_type": "markdown",
   "id": "b82e013e",
   "metadata": {
    "papermill": {
     "duration": 0.023226,
     "end_time": "2025-06-23T15:43:08.472263",
     "exception": false,
     "start_time": "2025-06-23T15:43:08.449037",
     "status": "completed"
    },
    "tags": []
   },
   "source": [
    "## Correlation Heatmap"
   ]
  },
  {
   "cell_type": "code",
   "execution_count": 46,
   "id": "48f709b2",
   "metadata": {
    "execution": {
     "iopub.execute_input": "2025-06-23T15:43:08.523906Z",
     "iopub.status.busy": "2025-06-23T15:43:08.521964Z",
     "iopub.status.idle": "2025-06-23T15:43:09.552957Z",
     "shell.execute_reply": "2025-06-23T15:43:09.551836Z"
    },
    "papermill": {
     "duration": 1.06102,
     "end_time": "2025-06-23T15:43:09.557167",
     "exception": false,
     "start_time": "2025-06-23T15:43:08.496147",
     "status": "completed"
    },
    "tags": []
   },
   "outputs": [
    {
     "data": {
      "image/png": "[encoded data removed]",
      "text/plain": [
       "<Figure size 1200x800 with 2 Axes>"
      ]
     },
     "metadata": {},
     "output_type": "display_data"
    }
   ],
   "source": [
    "cor=df.select_dtypes(include=\"number\").corr()\n",
    "plt.figure(figsize=(12,8))\n",
    "sns.heatmap(data=cor,annot=True,fmt=\".2f\")\n",
    "plt.show()"
   ]
  },
  {
   "cell_type": "markdown",
   "id": "fcc9e8cc",
   "metadata": {
    "papermill": {
     "duration": 0.015731,
     "end_time": "2025-06-23T15:43:09.589444",
     "exception": false,
     "start_time": "2025-06-23T15:43:09.573713",
     "status": "completed"
    },
    "tags": []
   },
   "source": [
    "## Predicting Price With New Data"
   ]
  },
  {
   "cell_type": "code",
   "execution_count": 47,
   "id": "98d4ba6a",
   "metadata": {
    "execution": {
     "iopub.execute_input": "2025-06-23T15:43:09.623002Z",
     "iopub.status.busy": "2025-06-23T15:43:09.622044Z",
     "iopub.status.idle": "2025-06-23T15:43:09.628397Z",
     "shell.execute_reply": "2025-06-23T15:43:09.627555Z"
    },
    "papermill": {
     "duration": 0.024828,
     "end_time": "2025-06-23T15:43:09.629953",
     "exception": false,
     "start_time": "2025-06-23T15:43:09.605125",
     "status": "completed"
    },
    "tags": []
   },
   "outputs": [],
   "source": [
    "import pandas as pd\n",
    "\n",
    "new_data = pd.DataFrame([{\n",
    "    'Restaurant Name': 42,\n",
    "    'Location': 3,\n",
    "    'Delivery Duration (min)': 12,\n",
    "    'Taco Size': 1,\n",
    "    'Taco Type': 2,\n",
    "    'Toppings Count': 3,\n",
    "    'Distance (km)': 4.5,\n",
    "    'Tip ($)': 1.25,\n",
    "    'Weekend Order': 0,\n",
    "    'Delivery Year': 2024,\n",
    "    'Delivery Month': 6,\n",
    "    'Delivery Day': 12,\n",
    "    'Order Year': 2024,\n",
    "    'Order Month': 6,\n",
    "    'Order Day': 12\n",
    "}])\n"
   ]
  },
  {
   "cell_type": "code",
   "execution_count": 48,
   "id": "9352644f",
   "metadata": {
    "execution": {
     "iopub.execute_input": "2025-06-23T15:43:09.663933Z",
     "iopub.status.busy": "2025-06-23T15:43:09.663641Z",
     "iopub.status.idle": "2025-06-23T15:43:09.670871Z",
     "shell.execute_reply": "2025-06-23T15:43:09.669814Z"
    },
    "papermill": {
     "duration": 0.026148,
     "end_time": "2025-06-23T15:43:09.672424",
     "exception": false,
     "start_time": "2025-06-23T15:43:09.646276",
     "status": "completed"
    },
    "tags": []
   },
   "outputs": [
    {
     "name": "stdout",
     "output_type": "stream",
     "text": [
      "Predicted Price of Taco: $6.75\n"
     ]
    }
   ],
   "source": [
    "predicted_price = model.predict(new_data)\n",
    "print(f\"Predicted Price of Taco: ${predicted_price[0]:.2f}\")"
   ]
  }
 ],
 "metadata": {
  "kaggle": {
   "accelerator": "none",
   "dataSources": [
    {
     "datasetId": 7507392,
     "sourceId": 11941997,
     "sourceType": "datasetVersion"
    }
   ],
   "dockerImageVersionId": 31040,
   "isGpuEnabled": false,
   "isInternetEnabled": false,
   "language": "python",
   "sourceType": "notebook"
  },
  "kernelspec": {
   "display_name": "Python 3",
   "language": "python",
   "name": "python3"
  },
  "language_info": {
   "codemirror_mode": {
    "name": "ipython",
    "version": 3
   },
   "file_extension": ".py",
   "mimetype": "text/x-python",
   "name": "python",
   "nbconvert_exporter": "python",
   "pygments_lexer": "ipython3",
   "version": "3.11.11"
  },
  "papermill": {
   "default_parameters": {},
   "duration": 21.248637,
   "end_time": "2025-06-23T15:43:10.710501",
   "environment_variables": {},
   "exception": null,
   "input_path": "__notebook__.ipynb",
   "output_path": "__notebook__.ipynb",
   "parameters": {},
   "start_time": "2025-06-23T15:42:49.461864",
   "version": "2.6.0"
  }
 },
 "nbformat": 4,
 "nbformat_minor": 5
}
